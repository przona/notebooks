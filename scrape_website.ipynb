{
 "cells": [
  {
   "cell_type": "markdown",
   "metadata": {},
   "source": [
    "# Scrape Website"
   ]
  },
  {
   "cell_type": "code",
   "execution_count": 1,
   "metadata": {},
   "outputs": [],
   "source": [
    "from bs4 import BeautifulSoup\n",
    "from colorama import Fore, Back, Style\n",
    "import csv\n",
    "import os\n",
    "import pandas as pd\n",
    "import re\n",
    "import requests\n",
    "import sys\n",
    "import time\n",
    "import urllib.parse\n",
    "from IPython.display import clear_output\n",
    "from przona import *\n",
    "\n",
    "dummy = csv.field_size_limit(sys.maxsize)"
   ]
  },
  {
   "cell_type": "markdown",
   "metadata": {},
   "source": [
    "## Read html pages from disk (after wget download) 2021-03-31"
   ]
  },
  {
   "cell_type": "code",
   "execution_count": 2,
   "metadata": {},
   "outputs": [],
   "source": [
    "DATA_DIR = \"../data/richtlijnendatabase.nl/\""
   ]
  },
  {
   "cell_type": "markdown",
   "metadata": {},
   "source": [
    "### Check index.html"
   ]
  },
  {
   "cell_type": "code",
   "execution_count": 3,
   "metadata": {},
   "outputs": [],
   "source": [
    "def read_index_file(data_dir, index_file_name=\"index.html\"):\n",
    "    infile = open(data_dir + index_file_name, \"r\")\n",
    "    index_file_data = \"\"\n",
    "    for line in infile:\n",
    "        index_file_data += line\n",
    "    infile.close()\n",
    "    return(index_file_data)"
   ]
  },
  {
   "cell_type": "code",
   "execution_count": 4,
   "metadata": {},
   "outputs": [],
   "source": [
    "def get_recommendations(index_file_data):\n",
    "    recommendations = {}\n",
    "    soup = BeautifulSoup(index_file_data)\n",
    "    for a in soup.select(\"a\"):\n",
    "        href = a[\"href\"]\n",
    "        if re.search(\"^/richtlijn/\", href):\n",
    "            recommendation = \"/\".join(href.split(\"/\")[:3])\n",
    "            if not recommendation in recommendations:\n",
    "                recommendations[recommendation] = True\n",
    "        elif re.search(\"^/en/richtlijn/\", href):\n",
    "            recommendation = \"/\".join(href.split(\"/\")[:4])\n",
    "            if not recommendation in recommendations:\n",
    "                recommendations[recommendation] = True\n",
    "    return(recommendations)"
   ]
  },
  {
   "cell_type": "code",
   "execution_count": 5,
   "metadata": {},
   "outputs": [
    {
     "name": "stdout",
     "output_type": "stream",
     "text": [
      "found: 434 recommendations \n"
     ]
    }
   ],
   "source": [
    "index_file_data = read_index_file(DATA_DIR)\n",
    "recommendations = get_recommendations(index_file_data)\n",
    "print(f\"found: {len(recommendations)} recommendations \")"
   ]
  },
  {
   "cell_type": "markdown",
   "metadata": {},
   "source": [
    "### Check /richtlijnen folder"
   ]
  },
  {
   "cell_type": "code",
   "execution_count": 6,
   "metadata": {},
   "outputs": [
    {
     "name": "stdout",
     "output_type": "stream",
     "text": [
      "found: 448 recommendations \n"
     ]
    }
   ],
   "source": [
    "recommendation_files = sorted(os.listdir(DATA_DIR + \"richtlijn\"))\n",
    "recommendation_files = [\"/richtlijn/\" + file_name for file_name in recommendation_files]\n",
    "recommendation_files_en = sorted(os.listdir(DATA_DIR + \"en/richtlijn\"))\n",
    "recommendation_files_en = [\"/en/richtlijn/\" + file_name for file_name in recommendation_files_en]\n",
    "recommendation_files.extend(recommendation_files_en)\n",
    "print(f\"found: {len(recommendation_files)} recommendations \")"
   ]
  },
  {
   "cell_type": "code",
   "execution_count": 32,
   "metadata": {},
   "outputs": [],
   "source": [
    "def process(root, dirs, files):\n",
    "    file_texts = {}\n",
    "    for file_name in files:\n",
    "        file_name_with_directory = os.path.join(root, file_name)\n",
    "        if os.path.isfile(file_name_with_directory):\n",
    "            infile = open(file_name_with_directory, \"r\")\n",
    "            text = \"\"\n",
    "            for line in infile:\n",
    "                text += line\n",
    "            infile.close()\n",
    "            file_name_with_directory = \"/\" + \"/\".join(file_name_with_directory.split(\"/\")[3:])\n",
    "            file_texts[file_name_with_directory] = text\n",
    "    return file_texts\n",
    "\n",
    "def make_file_texts(data_dir):\n",
    "    file_texts = {}\n",
    "    for root, dirs, files in os.walk(data_dir + \"richtlijn\"):\n",
    "        for file_name in files:\n",
    "            file_texts.update(process(root, dirs, files))\n",
    "    for root, dirs, files in os.walk(data_dir + \"en/richtlijn\"):\n",
    "        for file_name in files:\n",
    "            file_texts.update(process(root, dirs, files))\n",
    "    return file_texts"
   ]
  },
  {
   "cell_type": "code",
   "execution_count": null,
   "metadata": {},
   "outputs": [],
   "source": [
    "file_texts = make_file_texts(DATA_DIR)\n",
    "len(file_texts)"
   ]
  },
  {
   "cell_type": "code",
   "execution_count": 9,
   "metadata": {},
   "outputs": [],
   "source": [
    "save_dict(file_texts, \"csv/recommendation_web_pages.csv\")"
   ]
  },
  {
   "cell_type": "markdown",
   "metadata": {},
   "source": [
    "### Make excel files"
   ]
  },
  {
   "cell_type": "code",
   "execution_count": 13,
   "metadata": {},
   "outputs": [],
   "source": [
    "file_names = []\n",
    "for file_name in recommendation_files:\n",
    "    file_name_parts = file_name.split(\"/\")[1:]\n",
    "    file_names.append({i:file_name_parts[i] for i in range(0, len(file_name_parts))})"
   ]
  },
  {
   "cell_type": "code",
   "execution_count": 14,
   "metadata": {},
   "outputs": [],
   "source": [
    "pd.DataFrame(file_names).to_csv(\"csv/recommendations.csv\", index=False)"
   ]
  },
  {
   "cell_type": "code",
   "execution_count": 21,
   "metadata": {},
   "outputs": [],
   "source": [
    "file_names = []\n",
    "for file_name in file_texts.keys():\n",
    "    file_name_parts = file_name.split(\"/\")[1:]\n",
    "    file_names.append({i:file_name_parts[i] for i in range(0, len(file_name_parts))})"
   ]
  },
  {
   "cell_type": "code",
   "execution_count": 22,
   "metadata": {},
   "outputs": [],
   "source": [
    "pd.DataFrame(file_names).to_csv(\"csv/files.csv\", index=False)"
   ]
  },
  {
   "cell_type": "markdown",
   "metadata": {},
   "source": [
    "### Make diff"
   ]
  },
  {
   "cell_type": "code",
   "execution_count": 23,
   "metadata": {},
   "outputs": [],
   "source": [
    "DATA_DIR_OLD = \"../data/richtlijnendatabase.nl-20210315/\""
   ]
  },
  {
   "cell_type": "code",
   "execution_count": 24,
   "metadata": {},
   "outputs": [
    {
     "name": "stdout",
     "output_type": "stream",
     "text": [
      "419\n"
     ]
    }
   ],
   "source": [
    "file_names = os.listdir(DATA_DIR_OLD)\n",
    "recommendations_old = {}\n",
    "for file_name in file_names:\n",
    "    if re.search(\"index.html\", file_name):\n",
    "        index_file_data = read_index_file(DATA_DIR_OLD, index_file_name=file_name)\n",
    "        recommendations_new = get_recommendations(index_file_data)\n",
    "        recommendations_old.update(recommendations_new)\n",
    "print(len(recommendations_old.keys()))"
   ]
  },
  {
   "cell_type": "code",
   "execution_count": 25,
   "metadata": {},
   "outputs": [],
   "source": [
    "def compare_dicts(dict1, dict2):\n",
    "    diff = []\n",
    "    for key in dict1:\n",
    "        if key not in dict2:\n",
    "            diff.append(key)\n",
    "    return(sorted(diff))"
   ]
  },
  {
   "cell_type": "code",
   "execution_count": 26,
   "metadata": {},
   "outputs": [
    {
     "data": {
      "text/plain": [
       "(11,\n",
       " ['/richtlijn/anogenitale_lichen_sclerosus',\n",
       "  '/richtlijn/antimicrobial_therapy_of_uti_in_adults',\n",
       "  '/richtlijn/brain_metastases',\n",
       "  '/richtlijn/breast_reconstruction',\n",
       "  '/richtlijn/in-commentaar',\n",
       "  '/richtlijn/open_fractures_of_the_lower_limb',\n",
       "  '/richtlijn/revisie_cystic_fibrosis',\n",
       "  '/richtlijn/safe_use_of_contrast_media_-_part_2',\n",
       "  '/richtlijn/totale_knieprothese',\n",
       "  '/richtlijn/veilig_gebruik_van_contrastmiddelen',\n",
       "  '/richtlijn/visusstoornissen_revalidatie_en_verwijzing'])"
      ]
     },
     "execution_count": 26,
     "metadata": {},
     "output_type": "execute_result"
    }
   ],
   "source": [
    "disappeared = compare_dicts(recommendations_old, recommendations)\n",
    "(len(disappeared), disappeared)"
   ]
  },
  {
   "cell_type": "code",
   "execution_count": 27,
   "metadata": {},
   "outputs": [
    {
     "data": {
      "text/plain": [
       "(26,\n",
       " ['/richtlijn/algemene_chirurgie_-_acnes',\n",
       "  '/richtlijn/anafylaxie_bij_kinderen',\n",
       "  '/richtlijn/beentumoren',\n",
       "  '/richtlijn/beleid_zwangerschap_41_weken',\n",
       "  '/richtlijn/botmetastasen',\n",
       "  '/richtlijn/cin_ais_en_vain',\n",
       "  '/richtlijn/cryopreservatie_van_zaadcellen_bij_oncol',\n",
       "  '/richtlijn/ddh_dysplastische_heupontwikkeling_bij_kinderen_onder_n_jaar',\n",
       "  '/richtlijn/erfelijk_en_familiair_ovariumcarcinoom_iknl',\n",
       "  '/richtlijn/erfelijke_darmkanker',\n",
       "  '/richtlijn/galweg_en_galblaascarcinoom',\n",
       "  '/richtlijn/hepatocellulair_carcinoom',\n",
       "  '/richtlijn/herstel_na_kanker',\n",
       "  '/richtlijn/maagcarcinoom',\n",
       "  '/richtlijn/nazorg_en_revalidatie_van_intensive_care_patienten',\n",
       "  '/richtlijn/neonatale_gehoorzorg_0-4_jarigen',\n",
       "  '/richtlijn/niet_epitheliale_maligniteiten_ovarium',\n",
       "  '/richtlijn/postnatale_zorg_in_de_algemene_kindergeneeskunde',\n",
       "  '/richtlijn/pten_hamartoom_tumor_syndroom',\n",
       "  '/richtlijn/sarcoom_en_carcinosarcoom_van_de_uterus',\n",
       "  '/richtlijn/thymomen',\n",
       "  '/richtlijn/totale_knieprothese_2014',\n",
       "  '/richtlijn/vaginacarcinoom',\n",
       "  '/richtlijn/vin',\n",
       "  '/richtlijn/vulvacarcinoom',\n",
       "  '/richtlijn/wervelmetastasen'])"
      ]
     },
     "execution_count": 27,
     "metadata": {},
     "output_type": "execute_result"
    }
   ],
   "source": [
    "new = compare_dicts(recommendations, recommendations_old)\n",
    "(len(new), new)"
   ]
  },
  {
   "cell_type": "code",
   "execution_count": 28,
   "metadata": {},
   "outputs": [
    {
     "data": {
      "text/plain": [
       "451"
      ]
     },
     "execution_count": 28,
     "metadata": {},
     "output_type": "execute_result"
    }
   ],
   "source": [
    "recommendation_files_old = sorted(os.listdir(DATA_DIR_OLD + \"richtlijn\"))\n",
    "recommendation_files_old = [\"/richtlijn/\" + file_name for file_name in recommendation_files_old]\n",
    "recommendation_files_old_en = sorted(os.listdir(DATA_DIR_OLD + \"en/richtlijn\"))\n",
    "recommendation_files_old_en = [\"/en/richtlijn/\" + file_name for file_name in recommendation_files_old_en]\n",
    "recommendation_files_old.extend(recommendation_files_old_en)\n",
    "len(recommendation_files_old)"
   ]
  },
  {
   "cell_type": "code",
   "execution_count": 29,
   "metadata": {},
   "outputs": [
    {
     "data": {
      "text/plain": [
       "448"
      ]
     },
     "execution_count": 29,
     "metadata": {},
     "output_type": "execute_result"
    }
   ],
   "source": [
    "recommendation_files = sorted(os.listdir(DATA_DIR + \"richtlijn\"))\n",
    "recommendation_files = [\"/richtlijn/\" + file_name for file_name in recommendation_files]\n",
    "recommendation_files_en = sorted(os.listdir(DATA_DIR + \"en/richtlijn\"))\n",
    "recommendation_files_en = [\"/en/richtlijn/\" + file_name for file_name in recommendation_files_en]\n",
    "recommendation_files.extend(recommendation_files_en)\n",
    "len(recommendation_files)"
   ]
  },
  {
   "cell_type": "code",
   "execution_count": 30,
   "metadata": {},
   "outputs": [
    {
     "data": {
      "text/plain": [
       "(6,\n",
       " ['/en/richtlijn/colorectal_cancer',\n",
       "  '/richtlijn/anogenitale_lichen_sclerosus',\n",
       "  '/richtlijn/in-commentaar',\n",
       "  '/richtlijn/revisie_cystic_fibrosis',\n",
       "  '/richtlijn/totale_knieprothese',\n",
       "  '/richtlijn/visusstoornissen_revalidatie_en_verwijzing'])"
      ]
     },
     "execution_count": 30,
     "metadata": {},
     "output_type": "execute_result"
    }
   ],
   "source": [
    "disappeared = compare_dicts(recommendation_files_old, recommendation_files)\n",
    "(len(disappeared), disappeared)"
   ]
  },
  {
   "cell_type": "code",
   "execution_count": 31,
   "metadata": {},
   "outputs": [
    {
     "data": {
      "text/plain": [
       "(3,\n",
       " ['/richtlijn/algemene_chirurgie_-_acnes',\n",
       "  '/richtlijn/totale_knieprothese_2014',\n",
       "  '/richtlijn/zoek'])"
      ]
     },
     "execution_count": 31,
     "metadata": {},
     "output_type": "execute_result"
    }
   ],
   "source": [
    "new = compare_dicts(recommendation_files, recommendation_files_old)\n",
    "(len(new), new)"
   ]
  },
  {
   "cell_type": "code",
   "execution_count": 33,
   "metadata": {},
   "outputs": [
    {
     "data": {
      "text/plain": [
       "9497"
      ]
     },
     "execution_count": 33,
     "metadata": {},
     "output_type": "execute_result"
    }
   ],
   "source": [
    "file_texts_old = make_file_texts(DATA_DIR_OLD)\n",
    "len(file_texts_old)"
   ]
  },
  {
   "cell_type": "code",
   "execution_count": 34,
   "metadata": {},
   "outputs": [
    {
     "name": "stdout",
     "output_type": "stream",
     "text": [
      "/richtlijn/adhd_bij_kinderen_en_jeugdigen_-_in_ontwikkeling\n",
      "/richtlijn/erfelijk_en_familiair_ovariumcarcinoom\n",
      "/richtlijn/interventional_pain_practice\n",
      "/richtlijn/eetstoornissen\n",
      "/richtlijn/sinus_pilonidalis\n",
      "/richtlijn/hemorrhagia_postpartum_hpp\n",
      "/richtlijn/herhaalde_miskraam\n",
      "/richtlijn/anovulatie_en_kinderwens\n",
      "/richtlijn/subfertiliteit\n",
      "/richtlijn/voor_toediening_gereed_maken_vtgm_van_parenteralia_op_verpleegafdelingen_in_ziekenhuizen\n",
      "/richtlijn/bloedingen_tractus_digestivus\n",
      "/richtlijn/ovarieel_hyperstimulatiesyndroom\n",
      "/richtlijn/mannelijke_subfertiliteit\n",
      "/richtlijn/cryopreservatie_van_zaadcellen_bij_oncol\n",
      "/richtlijn/hormoontherapie_van_klachten_in_het_climacterium_en_de_postmenopauze\n",
      "/richtlijn/off-label_gebruik_van_finasteride\n",
      "/richtlijn/diphencyprone_dpcp_bij_alopecia_areata_aa\n",
      "/richtlijn/polycysteus_ovarium_syndroom_pcos\n",
      "/richtlijn/informatie-uitwisseling_tussen_huisarts_en_specialist_hasp\n",
      "/richtlijn/startpagina_diabetes_mellitus\n",
      "/richtlijn/kwaliteitsstandaard_transgenderzorg\n",
      "/richtlijn/veldnorm_voorschrijven_klaarmaken_ter_hand_stellen_en_toedienen_van_cytostatica\n",
      "/richtlijn/barrett-oesofagus\n",
      "/richtlijn/hiv_humaan_immunodeficientievirus\n",
      "/richtlijn/follow-up_na_kinderkanker\n",
      "/richtlijn/prematuur_ovarieel_falen_diagnostiek_en_behandeling\n",
      "/richtlijn/spontane_vaginale_baring_-_in_ontwikkeling\n",
      "/richtlijn/periorbitale_chirurgie_blepharoplastiek_boven-_en_onderoogleden_ptosis_bovenoogleden_wenk\n",
      "/richtlijn/epilepsie\n",
      "/richtlijn/bloedtransfusiebeleid/transfusiereacties_en_gerelateerde_aandoeningen/transfusiereacties/transfusiereacties_met_dyspnoe/niet-hemolytische_transfusiereactie_nhtr_en_milde_niet-hemolytische_koortsreactie.h\n",
      "/richtlijn/bloedtransfusiebeleid/acute_bloeding_verbloedingsshock_en_bloedbesparende_technieken/invloed_van_verhoudingen_van_bloedproducten_en_tijdstip_van_toediening_van_plasma_op_uitkomst_bij_verbloedingsshock.ht\n",
      "/richtlijn/cervixcytologie/cervixcytologie_-_flowcharts.html\n",
      "/richtlijn/cervixcytologie/cervixcytologie_-_flowcharts/flowchart_follow_up_na_behandeling_cin_2.html\n",
      "/richtlijn/cervixcytologie/cervixcytologie_-_flowcharts/flowchart_follow_up_onbehandelde_cin.html\n",
      "/richtlijn/cervixcytologie/cervixcytologie_-_flowcharts/flowchart_bevolkingsonderzoek.html\n",
      "/richtlijn/cervixcytologie/cervixcytologie_-_flowcharts/flowchart_cytologisch_onderzoek_bij_klachten.html\n",
      "/richtlijn/safe_use_of_contrast_media_-_part_2/safe_use_of_central_venous_catheters_haemodialysis_catheters_peripherally_inserted_central_catheters_and_totally_implantable_venous_access_devices_for_contrast_adminis\n",
      "/richtlijn/allergie_van_de_bovenste_luchtwegen/startpagina_-_allergie_van_de_bovenste_luchtwegen.html\n",
      "/richtlijn/behandeling_van_pijn_bij_patienten_met_kanker/beleid_en_behandeling_bij_pijn_bij_kanker/medicamenteuze_behandeling_bij_pati_nten_met_kanker/behandeling_van_bijwerkingen_van_opioiden_bij_pijn_bij_kanker/s\n",
      "/richtlijn/behandeling_van_pijn_bij_patienten_met_kanker/beleid_en_behandeling_bij_pijn_bij_kanker/medicamenteuze_behandeling_bij_pati_nten_met_kanker/behandeling_van_bijwerkingen_van_opioiden_bij_pijn_bij_kanker/m\n",
      "/richtlijn/behandeling_van_pijn_bij_patienten_met_kanker/beleid_en_behandeling_bij_pijn_bij_kanker/medicamenteuze_behandeling_bij_pati_nten_met_kanker/behandeling_van_bijwerkingen_van_opioiden_bij_pijn_bij_kanker/a\n",
      "/richtlijn/behandeling_van_pijn_bij_patienten_met_kanker/beleid_en_behandeling_bij_pijn_bij_kanker/medicamenteuze_behandeling_bij_pati_nten_met_kanker/behandeling_van_bijwerkingen_van_opioiden_bij_pijn_bij_kanker/c\n",
      "/richtlijn/behandeling_van_pijn_bij_patienten_met_kanker/beleid_en_behandeling_bij_pijn_bij_kanker/medicamenteuze_behandeling_bij_pati_nten_met_kanker/behandeling_van_bijwerkingen_van_opioiden_bij_pijn_bij_kanker/j\n",
      "/richtlijn/behandeling_van_pijn_bij_patienten_met_kanker/beleid_en_behandeling_bij_pijn_bij_kanker/medicamenteuze_behandeling_bij_pati_nten_met_kanker/behandeling_van_bijwerkingen_van_opioiden_bij_pijn_bij_kanker/o\n",
      "/richtlijn/behandeling_van_pijn_bij_patienten_met_kanker/beleid_en_behandeling_bij_pijn_bij_kanker/medicamenteuze_behandeling_bij_pati_nten_met_kanker/behandeling_van_bijwerkingen_van_opioiden_bij_pijn_bij_kanker/d\n",
      "/richtlijn/behandeling_van_pijn_bij_patienten_met_kanker/beleid_en_behandeling_bij_pijn_bij_kanker/medicamenteuze_behandeling_bij_pati_nten_met_kanker/behandeling_van_bijwerkingen_van_opioiden_bij_pijn_bij_kanker/u\n",
      "/richtlijn/ziektemodulerende_behandeling_van_multiple_sclerose_bij_volwassenen/behandeling_van_patienten_met_secundair_progressieve_ms/behandelstrategie_voor_bijwerkingen_en_veiligheidsaspecten_bij_secundair_progre\n",
      "/richtlijn/ziektemodulerende_behandeling_van_multiple_sclerose_bij_volwassenen/behandeling_van_patienten_met_secundair_progressieve_ms/behandelstrategie_bij_klinische_en_of_radiologische_ziekteactiviteit_bij_secund\n",
      "/richtlijn/ziektemodulerende_behandeling_van_multiple_sclerose_bij_volwassenen/behandeling_van_patienten_met_secundair_progressieve_ms/ziektemodulerende_middelen_bij_secundair_progressieve_ms_en_behandelindicatie.h\n",
      "/richtlijn/ziektemodulerende_behandeling_van_multiple_sclerose_bij_volwassenen/behandeling_van_patienten_met_primair_progressieve_ms/behandelstrategie_voor_bijwerkingen_en_veiligheidsaspecten_bij_primair_progressie\n",
      "/richtlijn/ziektemodulerende_behandeling_van_multiple_sclerose_bij_volwassenen/behandeling_van_patienten_met_primair_progressieve_ms/behandelstrategie_bij_klinische_en_of_radiologische_ziekteactiviteit_bij_primair_\n",
      "/richtlijn/ziektemodulerende_behandeling_van_multiple_sclerose_bij_volwassenen/behandeling_van_patienten_met_relapsing_remitting_ms/behandelstrategie_voor_bijwerkingen_en_veiligheidsaspecten_bij_relapsing_remitting\n",
      "/richtlijn/ziektemodulerende_behandeling_van_multiple_sclerose_bij_volwassenen/behandeling_van_patienten_met_relapsing_remitting_ms/behandelstrategie_bij_klinische_en_of_radiologische_ziekteactiviteit_bij_relapsing\n",
      "/richtlijn/ziektemodulerende_behandeling_van_multiple_sclerose_bij_volwassenen/behandeling_van_patienten_met_een_eerste_relapse_ms/behandelstrategie_voor_bijwerkingen_en_veiligheidsaspecten_bij_eerste_relapse_ms.ht\n",
      "/richtlijn/ziektemodulerende_behandeling_van_multiple_sclerose_bij_volwassenen/behandeling_van_patienten_met_een_eerste_relapse_ms/behandelstrategie_bij_klinische_en_of_radiologische_ziekteactiviteit_bij_eerste_rel\n",
      "/richtlijn/vermoeidheid_bij_kanker_in_de_palliatieve_fase/beleid_en_behandeling_bij_vermoeidheid_bij_kanker/niet-medicamenteuze_behandeling_bij_vermoeidheid_bij_kanker/beweging_lichamelijke_activiteit_bij_vermoeidh\n",
      "/richtlijn/vermoeidheid_bij_kanker_in_de_palliatieve_fase/beleid_en_behandeling_bij_vermoeidheid_bij_kanker/niet-medicamenteuze_behandeling_bij_vermoeidheid_bij_kanker/psychosociale_interventies_bij_vermoeidheid_bi\n",
      "/richtlijn/hevig_menstrueel_bloedverlies/hmb_behandeling/hmb_alternatieven_voor_hysterectomie/hmb_myolyse_versus_hysterectomie.html\n",
      "/richtlijn/het_vergrote_ovarium/diagnostiek_bij_een_vergroot_ovarium.html\n",
      "/richtlijn/het_vergrote_ovarium/organisatie_zorg_bij_een_vergroot_ovarium.html\n",
      "/richtlijn/het_vergrote_ovarium/startpagina_-_vergroot_ovarium.html\n",
      "/richtlijn/het_vergrote_ovarium/behandeling_bij_een_vergroot_ovarium.html\n",
      "/richtlijn/het_vergrote_ovarium/vergroot_ovarium_torsie.html\n",
      "/richtlijn/het_vergrote_ovarium/vergroot_ovarium_in_de_zwangerschap.html\n",
      "/richtlijn/het_vergrote_ovarium/definities_bij_vergroot_ovarium.html\n",
      "/richtlijn/het_vergrote_ovarium/diagnostische_modellen_bij_een_vergroot_ovarium.html\n",
      "/richtlijn/het_vergrote_ovarium/diagnostiek_bij_een_vergroot_ovarium/beeldvorming_bij_een_vergroot_ovarium.html\n",
      "/richtlijn/het_vergrote_ovarium/diagnostiek_bij_een_vergroot_ovarium/tumormarkers_bij_een_vergroot_ovarium.html\n",
      "/richtlijn/het_vergrote_ovarium/behandeling_bij_een_vergroot_ovarium/benaderingswijze_bij_een_vergroot_ovarium.html\n",
      "/richtlijn/het_vergrote_ovarium/behandeling_bij_een_vergroot_ovarium/dermo_dcyste_bij_een_vergroot_ovarium.html\n",
      "/richtlijn/het_vergrote_ovarium/behandeling_bij_een_vergroot_ovarium/chirurgie_versus_expectatief_bij_een_vergroot_ovarium.html\n",
      "/richtlijn/het_vergrote_ovarium/behandeling_bij_een_vergroot_ovarium/contralaterale_ovarium_bij_een_vergroot_ovarium.html\n",
      "/richtlijn/het_vergrote_ovarium/behandeling_bij_een_vergroot_ovarium/follow-up_duur_benigne_ovarium_cyste_bij_een_vergroot_ovarium.html\n",
      "/richtlijn/dementie/startpagina_-_dementie.html\n",
      "/richtlijn/borstkanker/zwangerschap_en_borstkanker.html\n",
      "/richtlijn/borstkanker/ductoscopie.html\n",
      "/richtlijn/borstkanker/tnm_8.html\n",
      "/richtlijn/borstkanker/locoregionaal_recidief/behandeling/lokale_behandeling_na_borstsparende_oper.html\n",
      "/richtlijn/borstkanker/locoregionaal_recidief/behandeling/systemische_behandeling_locoregionaal_re.html\n",
      "/richtlijn/borstkanker/diagnostiek/fibroadenoom.html\n",
      "/richtlijn/borstkanker/diagnostiek/bi_rads.html\n",
      "/richtlijn/borstkanker/diagnostiek/siliconenprothesen.html\n",
      "/richtlijn/borstkanker/diagnostiek/mammografie_en_echografie/tomosynthese.html\n",
      "/richtlijn/borstkanker/diagnostiek/mri/verslaglegging.html\n",
      "/richtlijn/borstkanker/adjuvante_systemische_therapie/dosisintensiteit.html\n",
      "/richtlijn/borstkanker/adjuvante_systemische_therapie/bisfosfonaten.html\n",
      "/richtlijn/borstkanker/adjuvante_systemische_therapie/chemotherapie.html\n",
      "/richtlijn/borstkanker/adjuvante_systemische_therapie/de_oudere_patient.html\n",
      "/richtlijn/borstkanker/adjuvante_systemische_therapie/toxiciteit.html\n",
      "/richtlijn/borstkanker/adjuvante_systemische_therapie/chemotherapie/her2_positieve_borstkanker.html\n",
      "/richtlijn/borstkanker/adjuvante_systemische_therapie/chemotherapie/her2_negatieve_borstkanker.html\n",
      "/richtlijn/borstkanker/adjuvante_systemische_therapie/chemotherapie/her2_negatieve_borstkanker/hr_positieve_her2_negatieve_borstkanker.html\n",
      "/richtlijn/borstkanker/adjuvante_systemische_therapie/chemotherapie/her2_negatieve_borstkanker/triple_negatieve_borstkanker.html\n",
      "/richtlijn/borstkanker/screening/screeningsmiddelen/siliconenprothesen.html\n",
      "/richtlijn/borstkanker/nazorg_en_nacontrole/signalering_en_behandeling_van_gevolgen/zorg_voor_de_patient_met_gemetastaseerde.html\n",
      "/richtlijn/borstkanker/risicoprofilering/genexpressie_profielen.html\n",
      "/richtlijn/borstkanker/zwangerschap_en_borstkanker/fertiliteit_anticonceptie_en_overgangsk.html\n",
      "/richtlijn/borstkanker/zwangerschap_en_borstkanker/anticonceptie_als_risicofactor.html\n",
      "/richtlijn/borstkanker/zwangerschap_en_borstkanker/behandeling.html\n",
      "/richtlijn/borstkanker/zwangerschap_en_borstkanker/borstkanker_tijdens_borstvoeding.html\n",
      "/richtlijn/borstkanker/zwangerschap_en_borstkanker/diagnostiek.html\n",
      "/richtlijn/algemene_chirurgie_-_acnes/startpagina_-_anterior_cutaneous_nerve_entrapment_syndrome_acnes.html\n",
      "/richtlijn/algemene_chirurgie_-_acnes/organisatie_van_zorg_bij_acnes.html\n",
      "/richtlijn/algemene_chirurgie_-_acnes/diagnostiek_bij_acnes.html\n",
      "/richtlijn/algemene_chirurgie_-_acnes/behandeling_bij_acnes.html\n",
      "/richtlijn/ziekte_van_parkinson/medicamenteuze_behandeling_van_motorische_klachten_bij_de_ziekte_van_parkinson/medicamenteuze_behandeling_van_motorische_klachten_en_beginnende_responsfluctuaties_bij_de_ziekte_van_p\n",
      "/richtlijn/saps/subacromiale_decompressie_chirurgie_bij_saps.html\n",
      "/richtlijn/pelvic_inflammatory_disease/pid_handelen_bij_gecompliceerde_pid/pid_tbc_patienten.html?query=gentamicine\n",
      "/richtlijn/pelvic_inflammatory_disease/pid_handelen_bij_gecompliceerde_pid/pid_actinomyces_chirurgische_interventie.html?query=gentamicine\n",
      "/richtlijn/pelvic_inflammatory_disease/pid_handelen_bij_gecompliceerde_pid/pid_drainage_toa_toc_laparoscopie.html?query=gentamicine\n",
      "/richtlijn/pelvic_inflammatory_disease/pid_handelen_bij_gecompliceerde_pid/pid_hiv_immuumgecomprimitteerde_pati_nten.html?query=gentamicine\n",
      "/richtlijn/pelvic_inflammatory_disease/pid_handelen_bij_gecompliceerde_pid/pid_verdenking_actinomyces_infectie.html?query=gentamicine\n",
      "/richtlijn/pelvic_inflammatory_disease/pid_handelen_bij_gecompliceerde_pid/pid_drainage_geruptureerd_toa.html?query=gentamicine\n",
      "/richtlijn/pelvic_inflammatory_disease/pid_handelen_bij_gecompliceerde_pid/pid_handelen_bij_niet_geruptureerd_toa.html?query=gentamicine\n",
      "/richtlijn/pelvic_inflammatory_disease/pid_handelen_bij_gecompliceerde_pid/pid_drainage_toa_toc_echo-_of_ct-geleid.html?query=gentamicine\n",
      "/richtlijn/vulvodynie/startpagina_-_vulvodynie.html\n",
      "/richtlijn/pijn_bij_patienten_met_gevorderde_stadia_van_copd_of_hartfalen/beleid_en_behandeling_-_pijn_bij_copd/medicamenteuze_behandeling_-_pijn_bij_copd/behandeling_van_bijwerkingen_van_opioiden_-_pijn_bij_copd/s\n",
      "/richtlijn/pijn_bij_patienten_met_gevorderde_stadia_van_copd_of_hartfalen/beleid_en_behandeling_-_pijn_bij_copd/medicamenteuze_behandeling_-_pijn_bij_copd/behandeling_van_bijwerkingen_van_opioiden_-_pijn_bij_copd/m\n",
      "/richtlijn/pijn_bij_patienten_met_gevorderde_stadia_van_copd_of_hartfalen/beleid_en_behandeling_-_pijn_bij_copd/medicamenteuze_behandeling_-_pijn_bij_copd/behandeling_van_bijwerkingen_van_opioiden_-_pijn_bij_copd/a\n",
      "/richtlijn/pijn_bij_patienten_met_gevorderde_stadia_van_copd_of_hartfalen/beleid_en_behandeling_-_pijn_bij_copd/medicamenteuze_behandeling_-_pijn_bij_copd/behandeling_van_bijwerkingen_van_opioiden_-_pijn_bij_copd/c\n",
      "/richtlijn/pijn_bij_patienten_met_gevorderde_stadia_van_copd_of_hartfalen/beleid_en_behandeling_-_pijn_bij_copd/medicamenteuze_behandeling_-_pijn_bij_copd/behandeling_van_bijwerkingen_van_opioiden_-_pijn_bij_copd/j\n",
      "/richtlijn/pijn_bij_patienten_met_gevorderde_stadia_van_copd_of_hartfalen/beleid_en_behandeling_-_pijn_bij_copd/medicamenteuze_behandeling_-_pijn_bij_copd/behandeling_van_bijwerkingen_van_opioiden_-_pijn_bij_copd/o\n",
      "/richtlijn/pijn_bij_patienten_met_gevorderde_stadia_van_copd_of_hartfalen/beleid_en_behandeling_-_pijn_bij_copd/medicamenteuze_behandeling_-_pijn_bij_copd/behandeling_van_bijwerkingen_van_opioiden_-_pijn_bij_copd/d\n",
      "/richtlijn/pijn_bij_patienten_met_gevorderde_stadia_van_copd_of_hartfalen/beleid_en_behandeling_-_pijn_bij_copd/medicamenteuze_behandeling_-_pijn_bij_copd/behandeling_van_bijwerkingen_van_opioiden_-_pijn_bij_copd/u\n",
      "/richtlijn/zoek/pelvic_inflammatory_disease?query=gentamicine\n",
      "/richtlijn/zoek/craniosynostose?query=tranexaminezuur\n",
      "/richtlijn/totale_knieprothese_2014/optimale_indicatiestelling_voor_plaatsen_tkp.html\n",
      "/richtlijn/totale_knieprothese_2014/werk_en_sportbelasting_bij_tkp.html\n",
      "/richtlijn/totale_knieprothese_2014/routinematige_follow-up_bij_knieprothese.html\n",
      "/richtlijn/totale_knieprothese_2014/effect_van_klinische_paden_bij_tkp.html\n",
      "/richtlijn/totale_knieprothese_2014/patientverwachtingen_en_patienttevredenheid.html\n",
      "/richtlijn/totale_knieprothese_2014/plaats_van_prothese_ontwerpen_bij_tkp.html\n",
      "/richtlijn/totale_knieprothese_2014/totale_knieprothese_-_korte_beschrijving_2014.html\n",
      "/richtlijn/totale_knieprothese_2014/randvoorwaarden_nazorg_patienten_bij_tkp.html\n",
      "/richtlijn/totale_knieprothese_2014/patient-reported_outcome_measures_bij_tkp.html\n",
      "/richtlijn/totale_knieprothese_2014/optimale_indicatiestelling_voor_plaatsen_tkp/fixed_flexion_vs_standaard_knieonderzoek.html\n",
      "/richtlijn/totale_knieprothese_2014/optimale_indicatiestelling_voor_plaatsen_tkp/toegevoegde_waarde_mri_onderzoek_bij_tkp.html\n",
      "/richtlijn/totale_knieprothese_2014/optimale_indicatiestelling_voor_plaatsen_tkp/indicatiestelling_voor_plaatsen_tkp.html\n",
      "/richtlijn/totale_knieprothese_2014/randvoorwaarden_nazorg_patienten_bij_tkp/registratie_gebruikte_implantaten_bij_tkp.html\n",
      "/richtlijn/totale_knieprothese_2014/randvoorwaarden_nazorg_patienten_bij_tkp/landelijke_organisatie_zorg_bij_tkp.html\n",
      "/richtlijn/totale_knieprothese_2014/randvoorwaarden_nazorg_patienten_bij_tkp/organisatie_zorg_rondom_kwetsbare_ouderen.html\n",
      "/richtlijn/totale_knieprothese_2014/randvoorwaarden_nazorg_patienten_bij_tkp/voorlichting_patienten_bij_tkp.html\n",
      "/richtlijn/totale_knieprothese_2014/randvoorwaarden_nazorg_patienten_bij_tkp/classificatie_knieprothesen.html\n",
      "/richtlijn/totale_knieprothese_2014/effect_van_klinische_paden_bij_tkp/plaats_fysiotherapie_voor_en_na_de_operatie.html\n",
      "/richtlijn/totale_knieprothese_2014/effect_van_klinische_paden_bij_tkp/peri-_en_postoperatieve_pijnbestrijding_tkp.html\n",
      "/richtlijn/totale_knieprothese_2014/werk_en_sportbelasting_bij_tkp/veiligheid_hervatten_sport_na_tkp_operatie.html\n",
      "/richtlijn/totale_knieprothese_2014/werk_en_sportbelasting_bij_tkp/hervatten_werk_na_tkp_operatie.html\n",
      "/richtlijn/totale_knieprothese_2014/plaats_van_prothese_ontwerpen_bij_tkp/kruisbandsparende_of_-opofferende_prothese.html\n",
      "/richtlijn/totale_knieprothese_2014/plaats_van_prothese_ontwerpen_bij_tkp/mobile_vs_fixed_bearing_insert_bij_tkp.html\n",
      "/richtlijn/totale_knieprothese_2014/plaats_van_prothese_ontwerpen_bij_tkp/high_flex_of_conventionele_knieprothese.html\n",
      "/richtlijn/totale_knieprothese_2014/plaats_van_prothese_ontwerpen_bij_tkp/additioneel_plaatsen_van_een_patellacomponent.html\n",
      "/richtlijn/totale_knieprothese_2014/plaats_van_prothese_ontwerpen_bij_tkp/on_gecementeerde_knieprothese_tkp.html\n",
      "/richtlijn/orofaryngeale_dysfagie/startpagina_-_orofaryngeale_dysfagie.html\n"
     ]
    }
   ],
   "source": [
    "for file_name in file_texts:\n",
    "    if not file_name in file_texts_old:\n",
    "        print(file_name)"
   ]
  },
  {
   "cell_type": "markdown",
   "metadata": {},
   "source": [
    "## Download html pages (old code)"
   ]
  },
  {
   "cell_type": "code",
   "execution_count": null,
   "metadata": {},
   "outputs": [],
   "source": [
    "BASE_URL = \"https://richtlijnendatabase.nl\"\n",
    "CSV_DIR = \"csv/\"\n",
    "MAIN_WEB_PAGES_FILE = \"main_web_pages.csv\"\n",
    "PAGE1 = \"/?page=1\"\n",
    "RECOMMENDATIONS_FILE = \"recommendation_web_pages.csv\""
   ]
  },
  {
   "cell_type": "code",
   "execution_count": null,
   "metadata": {},
   "outputs": [],
   "source": [
    "main_web_pages = get_web_pages(BASE_URL+PAGE1, patterns=[\"^/\\?page=\\d+$\"])\n",
    "save_dict(main_web_pages, CSV_DIR+MAIN_WEB_PAGES_FILE)\n",
    "print(f\"number of pages: {len(main_web_pages)}\")"
   ]
  },
  {
   "cell_type": "code",
   "execution_count": null,
   "metadata": {},
   "outputs": [],
   "source": [
    "try:\n",
    "    main_web_pages\n",
    "except NameError:\n",
    "    print(\"Reading main_web_pages from disk...\")\n",
    "    main_web_pages = read_dict(CSV_DIR+MAIN_WEB_PAGES_FILE)\n",
    "recommendation_list = get_recommendation_list(main_web_pages)\n",
    "print(f\"found {len(recommendation_list)} recommendations\")"
   ]
  },
  {
   "cell_type": "code",
   "execution_count": null,
   "metadata": {},
   "outputs": [],
   "source": [
    "web_pages = read_dict(CSV_DIR+RECOMMENDATIONS_FILE, spy=True)\n",
    "processed_urls = list(web_pages.keys())"
   ]
  },
  {
   "cell_type": "code",
   "execution_count": null,
   "metadata": {},
   "outputs": [],
   "source": [
    "update_recommendations(recommendation_list, processed_urls, CSV_DIR+RECOMMENDATIONS_FILE, BASE_URL=BASE_URL)"
   ]
  },
  {
   "cell_type": "code",
   "execution_count": null,
   "metadata": {},
   "outputs": [],
   "source": [
    "web_pages = read_dict(CSV_DIR+RECOMMENDATIONS_FILE, spy=True)"
   ]
  },
  {
   "cell_type": "markdown",
   "metadata": {},
   "source": [
    "## Derive categories of recommendations"
   ]
  },
  {
   "cell_type": "code",
   "execution_count": null,
   "metadata": {},
   "outputs": [],
   "source": [
    "BASE_QUERY = \"/?query=&page=1&specialism=\"\n",
    "BASE_URL = \"https://richtlijnendatabase.nl\"\n",
    "CATEGORIES_FILE = \"categories.csv\"\n",
    "CSV_DIR = \"csv/\"\n",
    "MAIN_WEB_PAGES_FILE = \"main_web_pages.csv\"\n",
    "RECOMMENDATIONS_PER_CATEGORY_FILE = \"recommendations_per_category.csv\"\n",
    "PAGE1 = \"/?page=1\""
   ]
  },
  {
   "cell_type": "code",
   "execution_count": null,
   "metadata": {},
   "outputs": [],
   "source": [
    "if os.path.isfile(CSV_DIR+CATEGORIES_FILE):\n",
    "    categories = read_dict(CSV_DIR+CATEGORIES_FILE)\n",
    "else:\n",
    "    main_web_pages = read_dict(CSV_DIR+MAIN_WEB_PAGES_FILE)\n",
    "    categories = get_categories(main_web_pages[PAGE1])\n",
    "    save_dict(categories, CSV_DIR+CATEGORIES_FILE)\n",
    "if os.path.isfile(CSV_DIR+RECOMMENDATIONS_PER_CATEGORY_FILE):\n",
    "    recommendations_per_category = read_dict(CSV_DIR+RECOMMENDATIONS_PER_CATEGORY_FILE)\n",
    "else:\n",
    "    recommendations_per_category = get_recommendations_per_category(categories)\n",
    "    save_dict(recommendations_per_category, CSV_DIR+RECOMMENDATIONS_PER_CATEGORY_FILE)"
   ]
  },
  {
   "cell_type": "code",
   "execution_count": null,
   "metadata": {},
   "outputs": [],
   "source": [
    "pd.set_option('display.max_rows', None)\n",
    "pd.set_option('display.min_rows', None)\n",
    "pd.set_option('display.max_columns', None)\n",
    "pretty_df = pretty_print(recommendations_per_category, CSV_DIR+\"richtlijnen-categorie.csv\")\n",
    "recommendations = get_recommendations(web_pages)\n",
    "for recommendation in recommendations:\n",
    "    if recommendation not in pretty_df.index:\n",
    "        pretty_df = pretty_df.append(pd.Series({i:' ' for i in pretty_df.iloc[0].index},name=recommendation))\n",
    "pretty_df.index = [x[:30] for x in pretty_df.index]\n",
    "pretty_df"
   ]
  },
  {
   "cell_type": "markdown",
   "metadata": {},
   "source": [
    "## Summary"
   ]
  },
  {
   "cell_type": "code",
   "execution_count": null,
   "metadata": {},
   "outputs": [],
   "source": [
    "CSV_DIR = \"csv/\"\n",
    "MAIN_WEB_PAGES_FILE = \"main_web_pages.csv\"\n",
    "RECOMMENDATIONS_FILE = \"recommendation_web_pages.csv\""
   ]
  },
  {
   "cell_type": "code",
   "execution_count": null,
   "metadata": {},
   "outputs": [],
   "source": [
    "main_web_pages = read_dict(CSV_DIR+MAIN_WEB_PAGES_FILE)\n",
    "web_pages = read_dict(CSV_DIR+RECOMMENDATIONS_FILE, spy=True)"
   ]
  },
  {
   "cell_type": "code",
   "execution_count": null,
   "metadata": {},
   "outputs": [],
   "source": [
    "print(f\"number of main web pages: {len(main_web_pages)}\")\n",
    "print(f\"number of categories: {len(recommendations_per_category)}\")\n",
    "print(f\"number of recommendations: {len(get_recommendations(web_pages))}\")\n",
    "print(f\"number of web pages: {len(web_pages)}\")\n",
    "print(f\"file suffixes: {count_suffixes(web_pages)}\")"
   ]
  },
  {
   "cell_type": "code",
   "execution_count": null,
   "metadata": {},
   "outputs": [],
   "source": [
    "recommendation = \"/richtlijn/abdominoplastiek\"\n",
    "url_part = \"Algemene\"\n",
    "\n",
    "for href in get_links(web_pages, recommendation, url_part):\n",
    "    print(f\"url: {href}; web page size: {len(web_pages[href][0])}\")"
   ]
  },
  {
   "cell_type": "markdown",
   "metadata": {},
   "source": [
    "## Summary in Dutch\n",
    "\n",
    "We hebben de webpagina's opgehaald van de website richtlijnendatabase.nl met als startpagina:\n",
    "\n",
    "https://richtlijnendatabase.nl/?page=1\n",
    "\n",
    "| Soort             | Aantal | Voorbeeld | Opmerking |\n",
    "| :---------------- | -----: | :-------- | :-------- |\n",
    "| hoofdpagina       |     42 | /?page=1 | 1-42 |\n",
    "| alle webpagina's  | 47.569 | /?page=1 | |\n",
    "| zonder extensie:  |    417 | /richtlijn/acne | |\n",
    "| extensie: .html   | 42.190 | /gerelateerde_documenten/bijlage/001094/1/90/Afkortingen.html | |\n",
    "| extensie: .pdf    |  4.435 | /gerelateerde_documenten/f/21504/Kennisdocument%20-%20Statines.pdf | |\n",
    "| extensie: .php    |    153 | /richtlijn/item/pagina.php?id=24679&richtlijn_id=480&tab=1 | |\n",
    "| extensie: .docx   |    135 | /gerelateerde_documenten/f/11337/Vragenlijst.docx | |\n",
    "| extensie: .pptx   |    129 | /gerelateerde_documenten/f/19293/presentatie%20richtlijn%20DCD.pptx | |\n",
    "| overige extensies |    110 | /gerelateerde_documenten/f/3691/Interventiegrenzen.doc | .doc:35 .htm:1 .jpg:16 .PNG: 1 .png:23 .ppt:14 .tif:6 .xls:3 .xlsx:11 |\n",
    "| richtlijnen       |    418 | /richtlijn/acne | |\n",
    "| categorieën       |     51 | /?query=&page=1&specialism=61 | 2-64 (missen: 10 20 23 24 26 32 35 38 39 41 42 48) |\n",
    "\n",
    "Onder de richtlijnen bleken identieke bijlagen gelinkt te zijn onder verschilende namen. Bijvoorbeeld, op de veertien pagina's voor \"/richtlijn/abdominoplastiek\" werd de bijlage Algemene inleiding.html viertien keer gelinkt vanuit dertien verschillende folders:\n",
    "\n",
    "* /gerelateerde_documenten/bijlage/015124/1/60/Algemene%20inleiding.html\n",
    "* /gerelateerde_documenten/bijlage/018015/1/60/Algemene%20inleiding.html\n",
    "* /gerelateerde_documenten/bijlage/015130/1/60/Algemene%20inleiding.html\n",
    "* /gerelateerde_documenten/bijlage/018017/1/60/Algemene%20inleiding.html\n",
    "* /gerelateerde_documenten/bijlage/018010/1/60/Algemene%20inleiding.html\n",
    "* /gerelateerde_documenten/bijlage/015128/1/60/Algemene%20inleiding.html\n",
    "* /gerelateerde_documenten/bijlage/015131/1/60/Algemene%20inleiding.html\n",
    "* /gerelateerde_documenten/bijlage/015129/1/60/Algemene%20inleiding.html\n",
    "* /gerelateerde_documenten/bijlage/015125/1/60/Algemene%20inleiding.html\n",
    "* /gerelateerde_documenten/bijlage/015126/1/60/Algemene%20inleiding.html\n",
    "* /gerelateerde_documenten/bijlage/015127/1/60/Algemene%20inleiding.html\n",
    "* /gerelateerde_documenten/bijlage/018016/1/60/Algemene%20inleiding.html\n",
    "* /gerelateerde_documenten/bijlage/015132/1/60/Algemene%20inleiding.html\n",
    "\n",
    "Uit een analyse kwam naar voren dat het hier om twee verschillende documenten ging die konden worden onderscheiden op basis van de eerste drie cijfers in het eerste getal in het webadres (015 vs 018). Omdat we niet aan het webadres konden zien welke documenten uniek waren en welke duplicaten, hebben we alle webdocumenten opgehaald.  "
   ]
  },
  {
   "cell_type": "markdown",
   "metadata": {},
   "source": [
    "## Wget download check"
   ]
  },
  {
   "cell_type": "code",
   "execution_count": null,
   "metadata": {},
   "outputs": [],
   "source": [
    "BASE_URL = \"https://richtlijnendatabase.nl\"\n",
    "CSV_DIR = \"csv/\"\n",
    "RECOMMENDATIONS_FILE = \"recommendation_web_pages.csv\"\n",
    "WGET = \"../data/wget.sh\""
   ]
  },
  {
   "cell_type": "code",
   "execution_count": null,
   "metadata": {},
   "outputs": [],
   "source": [
    "web_pages = read_dict(CSV_DIR+RECOMMENDATIONS_FILE, spy=True)"
   ]
  },
  {
   "cell_type": "code",
   "execution_count": null,
   "metadata": {},
   "outputs": [],
   "source": [
    "BASE_DIR = \"../data/richtlijnendatabase.nl\"\n",
    "\n",
    "def find_missing_files():\n",
    "    file_counter = 0\n",
    "    missing_recommendations = []\n",
    "    urls = []\n",
    "    for original_url in web_pages:\n",
    "        url = urllib.parse.unquote(original_url)\n",
    "        url = re.sub(r'\\t', '%09', url)\n",
    "        if not os.path.isfile(BASE_DIR+url) and not os.path.isdir(BASE_DIR+url) and not os.path.isfile((BASE_DIR+url)[:244]):\n",
    "            if re.search(\"^/richtlijn/[^.]*$\", url): \n",
    "                missing_recommendations.append(url)\n",
    "            original_url = re.sub(\" \", \"%20\", original_url)\n",
    "            original_url = re.sub(\"ë\", \"%C3%AB\", original_url)\n",
    "            urls.append(original_url)\n",
    "    return(urls, missing_recommendations)\n",
    "\n",
    "urls, missing_recommendations = find_missing_files()\n",
    "print(f\"missing urls: {len(urls)}, of which missing recommendations: {len(missing_recommendations)}: {missing_recommendations}\")"
   ]
  },
  {
   "cell_type": "code",
   "execution_count": null,
   "metadata": {},
   "outputs": [],
   "source": [
    "LOGFILE = \"../data/logfile\"\n",
    "\n",
    "def find_cause_of_missing_files(urls):\n",
    "    status = 0\n",
    "    msgs = {}\n",
    "    url = \"\"\n",
    "    logfile = open(LOGFILE, \"r\")\n",
    "    for line in logfile:\n",
    "        if re.search(BASE_URL, line):\n",
    "            url = re.sub(\".*\"+BASE_URL, \"\", line.strip())\n",
    "            if url in urls:\n",
    "                msgs[url] = line.strip()\n",
    "                status = 1\n",
    "            else:\n",
    "                status = 0\n",
    "                url = \"\"\n",
    "        elif status == 1 and re.search(\"^HTTP\", line):\n",
    "            msgs[url] = line.strip()+\" \"+msgs[url]\n",
    "    logfile.close()\n",
    "    return(msgs)\n",
    "\n",
    "msgs = find_cause_of_missing_files(urls)\n",
    "print(\"missing urls in logfile:\",len(msgs.keys()))"
   ]
  },
  {
   "cell_type": "code",
   "execution_count": null,
   "metadata": {},
   "outputs": [],
   "source": [
    "def count_cause_of_missing_files(msgs, fetch_web_pages = False):\n",
    "    counter_404_error = 0\n",
    "    counter_500_error = 0\n",
    "\n",
    "    for url in msgs:\n",
    "        if re.search(\"404 Not Found\", msgs[url]):\n",
    "            counter_404_error += 1\n",
    "        elif re.search(\"500 Internal Server Error\", msgs[url]):\n",
    "            counter_500_error += 1\n",
    "        else:\n",
    "            print(msgs[url])\n",
    "            if fetch_web_pages:\n",
    "                print(\"fetching\", BASE_URL+url)\n",
    "                time.sleep(2)\n",
    "                os.system(WGET+\" \"+'\"'+BASE_URL+url+'\"')\n",
    "\n",
    "    counter_other = len(msgs.keys())-counter_404_error-counter_500_error\n",
    "    return(counter_404_error, counter_500_error, counter_other)\n",
    "\n",
    "counter_404_error, counter_500_error, counter_other = count_cause_of_missing_files(msgs)\n",
    "print(f\"cause of missing files: 404 error (file not found): {counter_404_error}; 500 error (access denied): {counter_500_error}; other: {counter_other}\")"
   ]
  },
  {
   "cell_type": "code",
   "execution_count": null,
   "metadata": {},
   "outputs": [],
   "source": [
    "fetch_web_pages = True\n",
    "\n",
    "def find_missing_files_without_cause(urls, msgs, fetch_web_pages = False):\n",
    "    list_without_cause = []\n",
    "    for url in urls:\n",
    "        if not url in msgs:\n",
    "            list_without_cause.append(url)\n",
    "            if fetch_web_pages:\n",
    "                print(\"fetching\", BASE_URL+url)\n",
    "                time.sleep(2)\n",
    "                os.system(WGET+\" \"+'\"'+BASE_URL+url+'\"')\n",
    "    return(list_without_cause)\n",
    "\n",
    "print(f\"Processed: {len(find_missing_files_without_cause(urls, msgs, fetch_web_pages=fetch_web_pages))} urls\")"
   ]
  },
  {
   "cell_type": "code",
   "execution_count": null,
   "metadata": {},
   "outputs": [],
   "source": [
    "def rename_web_pages(web_pages, rename_web_pages = False):\n",
    "    file_counter = 0\n",
    "    missing_recommendations = []\n",
    "    urls = []\n",
    "    counter = 0\n",
    "    for original_url in web_pages:\n",
    "        url = urllib.parse.unquote(original_url)\n",
    "        url = re.sub(r'\\t', '%09', url)\n",
    "        if not os.path.isfile(BASE_DIR+url) and not os.path.isdir(BASE_DIR+url) and os.path.isfile((BASE_DIR+url)[:244]):\n",
    "            counter += 1\n",
    "            path_parts = (BASE_DIR+url)[:244].split(\"/\")\n",
    "            file_name_clipped = path_parts.pop(-1)\n",
    "            directory = \"/\".join(path_parts)\n",
    "            file_name_complete = url.split(\"/\")[-1]\n",
    "            if rename_web_pages:\n",
    "                os.system(f\"mv {directory}/{file_name_clipped} {directory}/{file_name_complete}\")\n",
    "    print(f\"found {counter} relevant webpages\")\n",
    "                \n",
    "rename_web_pages(web_pages)"
   ]
  },
  {
   "cell_type": "code",
   "execution_count": null,
   "metadata": {},
   "outputs": [],
   "source": []
  }
 ],
 "metadata": {
  "kernelspec": {
   "display_name": "Python 3",
   "language": "python",
   "name": "python3"
  },
  "language_info": {
   "codemirror_mode": {
    "name": "ipython",
    "version": 3
   },
   "file_extension": ".py",
   "mimetype": "text/x-python",
   "name": "python",
   "nbconvert_exporter": "python",
   "pygments_lexer": "ipython3",
   "version": "3.6.11"
  }
 },
 "nbformat": 4,
 "nbformat_minor": 4
}
