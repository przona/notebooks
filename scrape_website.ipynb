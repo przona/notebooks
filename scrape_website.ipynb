{
 "cells": [
  {
   "cell_type": "markdown",
   "metadata": {},
   "source": [
    "# Scrape Website"
   ]
  },
  {
   "cell_type": "code",
   "execution_count": null,
   "metadata": {},
   "outputs": [],
   "source": [
    "from bs4 import BeautifulSoup\n",
    "from colorama import Fore, Back, Style\n",
    "import csv\n",
    "import os\n",
    "import pandas as pd\n",
    "import re\n",
    "import requests\n",
    "import sys\n",
    "import time\n",
    "import urllib.parse\n",
    "from IPython.display import clear_output\n",
    "from przona import *\n",
    "\n",
    "dummy = csv.field_size_limit(sys.maxsize)"
   ]
  },
  {
   "cell_type": "markdown",
   "metadata": {},
   "source": [
    "## Get web pages with python's request (2021-04-19)"
   ]
  },
  {
   "cell_type": "code",
   "execution_count": null,
   "metadata": {},
   "outputs": [],
   "source": [
    "def split_url(url):\n",
    "    if re.search(\"^https?://\", url, flags=re.IGNORECASE):\n",
    "        return(\"/\".join(url.split(\"/\")[:3]), \"/\"+\"/\".join(url.split(\"/\")[3:]))\n",
    "    else:\n",
    "        return(\"\", url)"
   ]
  },
  {
   "cell_type": "code",
   "execution_count": null,
   "metadata": {},
   "outputs": [],
   "source": [
    "def get_web_page(url, debug=True):\n",
    "    assert re.search(r\"^https://\", url), f\"get_web_page: url has unexpected format: {url}\"\n",
    "    time.sleep(1)\n",
    "    web_page = requests.get(url)\n",
    "    if web_page.status_code == 200:\n",
    "        if debug:\n",
    "            print(f\"retrieved web page {url} (200/{len(web_page.content)})\")\n",
    "    else:\n",
    "        print(Fore.RED, f\"web page {url} returned status code {web_page.status_code}\", Style.RESET_ALL)\n",
    "    return(web_page.content)"
   ]
  },
  {
   "cell_type": "code",
   "execution_count": null,
   "metadata": {},
   "outputs": [],
   "source": [
    "def get_page_links(web_page, patterns=[]):\n",
    "    page_links = []\n",
    "    for a in BeautifulSoup(web_page, \"html.parser\").select('a'):\n",
    "        try:\n",
    "            href = a.get(\"href\")\n",
    "            for pattern in patterns:\n",
    "                if re.search(pattern, href):\n",
    "                    page_links.append(href)\n",
    "        except TypeError:\n",
    "            pass\n",
    "    return(page_links)"
   ]
  },
  {
   "cell_type": "code",
   "execution_count": null,
   "metadata": {},
   "outputs": [],
   "source": [
    "def store_content(remote_file, url, content):\n",
    "    out_file_name = make_local_file_name(remote_file, url)\n",
    "    out_file_name_parts = out_file_name.split(\"/\")\n",
    "    for i in range(1, len(out_file_name_parts)):\n",
    "        if not os.path.isdir(\"/\".join(out_file_name_parts[0: i])):\n",
    "            os.mkdir(\"/\".join(out_file_name_parts[0: i]))\n",
    "    out_file = open(out_file_name, \"w\")\n",
    "    print(content.decode(\"utf8\"), file=out_file)\n",
    "    out_file.close()"
   ]
  },
  {
   "cell_type": "code",
   "execution_count": null,
   "metadata": {},
   "outputs": [],
   "source": [
    "def make_local_file_name(remote_file, url):\n",
    "    url = re.sub(\"^https*://\", \"\", url)\n",
    "    base_dir = f\"../data/{'.'.join(url.split('.')[-2:])}\"\n",
    "    remote_file_parts = remote_file.split(\"/\")\n",
    "    if re.search(r'\\.html$', remote_file):\n",
    "        dir_name = \"/\".join(remote_file_parts[:-1])\n",
    "        file_name = remote_file_parts[-1]\n",
    "    else:\n",
    "        dir_name = remote_file\n",
    "        file_name = \"index.html\"\n",
    "        remote_file = os.path.join(dir_name, file_name)\n",
    "    remote_file = re.sub(r\"^/\", \"\", remote_file)\n",
    "    out_file_name = os.path.join(base_dir, remote_file)\n",
    "    return(out_file_name)"
   ]
  },
  {
   "cell_type": "code",
   "execution_count": null,
   "metadata": {},
   "outputs": [],
   "source": [
    "def get_web_pages(url, patterns=[], processed_urls=[], debug=True):\n",
    "    base_url, remote_file = split_url(url)\n",
    "    if remote_file in processed_urls or re.search(r'\\.pdf$', remote_file) or re.search(r'\\?', remote_file):\n",
    "        return\n",
    "    out_file_name = make_local_file_name(remote_file, url)\n",
    "    if os.path.isfile(out_file_name) and not re.search(\"index.html$\", out_file_name):\n",
    "        processed_urls[remote_file] = \"\"\n",
    "        return\n",
    "    processed_urls[remote_file] = get_web_page(url, debug)\n",
    "    store_content(remote_file, url, processed_urls[remote_file])\n",
    "    page_links = get_page_links(processed_urls[remote_file], patterns)\n",
    "    for page_link in sorted(page_links):\n",
    "        get_web_pages(base_url + page_link, patterns, processed_urls, debug)\n",
    "    return"
   ]
  },
  {
   "cell_type": "code",
   "execution_count": null,
   "metadata": {},
   "outputs": [],
   "source": [
    "url = \"https://richtlijnendatabase.nl/\"\n",
    "patterns = [\"^/richtlijn/\", \"^/en/richtlijn/\"]\n",
    "processed_urls = {}\n",
    "debug = True\n",
    "get_web_pages(url, patterns, processed_urls, debug)\n",
    "len(processed_urls)"
   ]
  },
  {
   "cell_type": "code",
   "execution_count": null,
   "metadata": {},
   "outputs": [],
   "source": []
  }
 ],
 "metadata": {
  "kernelspec": {
   "display_name": "python37",
   "language": "python",
   "name": "python37"
  },
  "language_info": {
   "codemirror_mode": {
    "name": "ipython",
    "version": 3
   },
   "file_extension": ".py",
   "mimetype": "text/x-python",
   "name": "python",
   "nbconvert_exporter": "python",
   "pygments_lexer": "ipython3",
   "version": "3.7.3"
  }
 },
 "nbformat": 4,
 "nbformat_minor": 4
}
