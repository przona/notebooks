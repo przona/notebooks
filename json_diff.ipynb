{
 "cells": [
  {
   "cell_type": "markdown",
   "metadata": {},
   "source": [
    "# JSON diff\n",
    "\n",
    "Find difference between two json analysis files and record these in a new version of the latest file"
   ]
  },
  {
   "cell_type": "markdown",
   "metadata": {},
   "source": [
    "## 1. Compare two json files with paragraphs"
   ]
  },
  {
   "cell_type": "code",
   "execution_count": 1,
   "metadata": {},
   "outputs": [],
   "source": [
    "import datetime\n",
    "import json\n",
    "import re"
   ]
  },
  {
   "cell_type": "code",
   "execution_count": 2,
   "metadata": {},
   "outputs": [],
   "source": [
    "def read_json_file(file_name):\n",
    "    infile = open(file_name, \"r\")\n",
    "    text_data = infile.read()\n",
    "    infile.close()\n",
    "    json_data = json.loads(text_data)\n",
    "    return(json_data)"
   ]
  },
  {
   "cell_type": "code",
   "execution_count": 3,
   "metadata": {},
   "outputs": [],
   "source": [
    "def remove_counts(paragraphs, delete_flag=False):\n",
    "    new_keys = {}\n",
    "    for key in paragraphs:\n",
    "        if type(paragraphs[key]) == dict:\n",
    "            paragraphs[key] = remove_counts(paragraphs[key], delete_flag)\n",
    "        new_key = re.sub('^\\(\\d+\\) ', \"\", key)\n",
    "        if new_key != key:\n",
    "            new_keys[new_key] = key\n",
    "    for new_key in new_keys:\n",
    "        paragraphs[new_key] = paragraphs[new_keys[new_key]]\n",
    "        if delete_flag:\n",
    "            del(paragraphs[new_keys[new_key]])\n",
    "    return(dict(paragraphs))\n",
    "\n",
    "assert remove_counts({ \"1\": 1, \"(2) 2\": 2 }) == { \"1\": 1, \"(2) 2\": 2, \"2\": 2 } , \"test 1 failed!\"\n",
    "assert remove_counts({ \"0\": { \"1\": 1, \"(2) 2\": 2 }}) == { \"0\": { \"1\": 1, \"(2) 2\": 2, \"2\": 2 }} , \"test 2 failed!\""
   ]
  },
  {
   "cell_type": "code",
   "execution_count": 4,
   "metadata": {},
   "outputs": [],
   "source": [
    "def undo_remove_counts(paragraphs):\n",
    "    new_keys = []\n",
    "    for key in paragraphs:\n",
    "        if type(paragraphs[key]) == dict:\n",
    "            paragraphs[key] = undo_remove_counts(paragraphs[key])\n",
    "        new_key = re.sub('^\\(\\d+\\) ', \"\", key)\n",
    "        if new_key != key and new_key in paragraphs:\n",
    "            new_keys.append(new_key)\n",
    "    for new_key in new_keys:\n",
    "        del(paragraphs[new_key])\n",
    "    return(dict(paragraphs))\n",
    "\n",
    "assert undo_remove_counts({ \"1\": 1, \"(2) 2\": 2, \"2\": 2 }) == { \"1\": 1, \"(2) 2\": 2 }, \"test 1 failed!\"\n",
    "assert undo_remove_counts({ \"0\": {\"1\": 1, \"(2) 2\": 2, \"2\": 2 }}) == { \"0\": { \"1\": 1, \"(2) 2\": 2 }}, \"test 2 failed!\""
   ]
  },
  {
   "cell_type": "code",
   "execution_count": 5,
   "metadata": {},
   "outputs": [],
   "source": [
    "def compare_items(old, new):\n",
    "    return \"aantal gevonden sleuteltermen\" in old and \"aantal gevonden sleuteltermen\" in new and old[\"aantal gevonden sleuteltermen\"] != new[\"aantal gevonden sleuteltermen\"] or \\\n",
    "           \"documenten\" in old and \"documenten\" in new and len(old[\"documenten\"]) != len(new[\"documenten\"]) or \\\n",
    "           \"paragrafen\" in old and \"paragrafen\" in new and len(old[\"paragrafen\"]) != len(new[\"paragrafen\"]) or \\\n",
    "           \"richtlijnen\" in old and \"richtlijnen\" in new and len(old[\"richtlijnen\"]) != len(new[\"richtlijnen\"]) or \\\n",
    "           \"sleuteltermen\" in old and \"sleuteltermen\" in new and len(old[\"sleuteltermen\"]) != len(new[\"sleuteltermen\"])\n"
   ]
  },
  {
   "cell_type": "code",
   "execution_count": 6,
   "metadata": {},
   "outputs": [],
   "source": [
    "def compare_sub_groups(paragraphs_new, paragraphs_old):\n",
    "    for sub_group_name in [\"documenten\", \"richtlijnen\", \"sleuteltermen\"]:\n",
    "        if sub_group_name in paragraphs_new:\n",
    "            for file_name_new in paragraphs_new[sub_group_name]:\n",
    "                if not re.search('^\\(\\d+\\) ', file_name_new):\n",
    "                    if file_name_new == \"index.html\":\n",
    "                        file_name_old = \"\"\n",
    "                    else:\n",
    "                        file_name_old = file_name_new\n",
    "                    if file_name_old not in paragraphs_old[sub_group_name]:\n",
    "                        paragraphs_new[sub_group_name][file_name_new][\"status\"] = \"nieuw\"\n",
    "                        propagate_status(paragraphs_new[sub_group_name][file_name_new], \"nieuw\")\n",
    "                    else:\n",
    "                        if compare_items(paragraphs_old[sub_group_name][file_name_old], paragraphs_new[sub_group_name][file_name_new]):\n",
    "                            paragraphs_new[sub_group_name][file_name_new][\"status\"] = \"veranderd\"\n",
    "                        compare_sub_groups(paragraphs_new[sub_group_name][file_name_new], paragraphs_old[sub_group_name][file_name_old])\n",
    "            for file_name_old in paragraphs_old[sub_group_name]:\n",
    "                if not re.search('^\\(\\d+\\) ', file_name_old):\n",
    "                    if file_name_old == \"\":\n",
    "                        file_name_new = \"index.html\"\n",
    "                    else:\n",
    "                        file_name_new = file_name_old\n",
    "                    if file_name_new not in paragraphs_new[sub_group_name]:\n",
    "                        key = f'({paragraphs_old[sub_group_name][file_name_old][\"aantal gevonden sleuteltermen\"]}) {file_name_old}'\n",
    "                        paragraphs_new[sub_group_name][key] = dict(paragraphs_old[sub_group_name][file_name_old])\n",
    "                        paragraphs_new[sub_group_name][key][\"status\"] = \"verwijderd\"\n",
    "                        propagate_status(paragraphs_new[sub_group_name][key], \"verwijderd\")"
   ]
  },
  {
   "cell_type": "code",
   "execution_count": 7,
   "metadata": {},
   "outputs": [],
   "source": [
    "def propagate_status(paragraphs_new, status):\n",
    "    for sub_group_name in [\"documenten\", \"richtlijnen\", \"sleuteltermen\"]:\n",
    "        if sub_group_name in paragraphs_new:\n",
    "            for file_name_new in paragraphs_new[sub_group_name]:\n",
    "                if not re.search('^\\(\\d+\\) ', file_name_new):\n",
    "                    paragraphs_new[sub_group_name][file_name_new][\"status\"] = status\n",
    "                    propagate_status(paragraphs_new[sub_group_name][file_name_new], status)\n"
   ]
  },
  {
   "cell_type": "code",
   "execution_count": 8,
   "metadata": {},
   "outputs": [],
   "source": [
    "def compare_group(paragraphs_new, paragraphs_old, group_name):\n",
    "    for measure in paragraphs_new[group_name]:\n",
    "        if not re.search('^\\(\\d+\\) ', measure):\n",
    "            if measure not in paragraphs_old[group_name]:\n",
    "                paragraphs_new[group_name][measure][\"status\"] = \"nieuw\"\n",
    "                propagate_status(paragraphs_new[group_name][measure], \"nieuw\")\n",
    "                continue\n",
    "            elif compare_items(paragraphs_old[group_name][measure], paragraphs_new[group_name][measure]):\n",
    "                paragraphs_new[group_name][measure][\"status\"] = \"veranderd\"\n",
    "            compare_sub_groups(paragraphs_new[group_name][measure], paragraphs_old[group_name][measure])            \n",
    "    for measure in paragraphs_old[group_name]:\n",
    "        if not re.search('^\\(\\d+\\) ', measure):\n",
    "            if measure not in paragraphs_new[group_name]:\n",
    "                key = f'({paragraphs_old[group_name][measure][\"aantal gevonden sleuteltermen\"]}) {measure}'\n",
    "                paragraphs_new[group_name][key] = dict(paragraphs_old[group_name][measure])\n",
    "                paragraphs_new[group_name][key][\"status\"] = \"verwijderd\"\n",
    "                propagate_status(paragraphs_new[group_name][key], \"verwijderd\")"
   ]
  },
  {
   "cell_type": "code",
   "execution_count": 9,
   "metadata": {},
   "outputs": [],
   "source": [
    "def compare(paragraphs_new, paragraphs_old):\n",
    "    compare_group(paragraphs_new, paragraphs_old, \"richtlijnen\")\n",
    "    compare_group(paragraphs_new, paragraphs_old, \"sleuteltermen\")"
   ]
  },
  {
   "cell_type": "code",
   "execution_count": 10,
   "metadata": {},
   "outputs": [],
   "source": [
    "def json2html(data, outfile, counter=0, top=False):\n",
    "    if type(data) != dict:\n",
    "        print(f\"<font style=\\\"color:grey;\\\">{data}</font>\", file=outfile)\n",
    "    else:\n",
    "        if top:\n",
    "            print(f\"<div id=\\\"div{counter}\\\" style=\\\"display:block\\\">\\n<ul>\", file=outfile)\n",
    "        else:\n",
    "            print(f\"<a href=\\\"javascript:toggle('div{counter}')\\\" id=\\\"div{counter}link\\\">open</a>\", file=outfile)\n",
    "            print(f\"<div id=\\\"div{counter}\\\" style=\\\"display:none\\\">\\n<ul>\", file=outfile)\n",
    "        for key in data:\n",
    "            if type(data[key]) != dict or \"status\" not in data[key]: \n",
    "                print(\"<li style=\\\"background-color: white;\\\">\", key, \":\", file=outfile)\n",
    "            elif data[key][\"status\"] == \"nieuw\":\n",
    "                print(\"<li style=\\\"background-color: lightgreen;\\\">\", key, \":\", file=outfile)\n",
    "            elif data[key][\"status\"] == \"veranderd\":\n",
    "                print(\"<li style='background-color: yellow;'>\", key, \":\", file=outfile)\n",
    "            elif data[key][\"status\"] == \"verwijderd\":\n",
    "                print(\"<li style=\\\"background-color: pink;\\\">\", key, \":\", file=outfile)\n",
    "            else:\n",
    "                print(\"<li>\", key, \":\", \"ERROR: unexpected status:\", data[key][\"status\"], file=outfile)\n",
    "            counter += 1\n",
    "            counter = json2html(data[key], outfile, counter=counter)\n",
    "            print(\"</li>\", file=outfile)\n",
    "        print(\"</ul>\\n</div>\", file=outfile)\n",
    "    return(counter)"
   ]
  },
  {
   "cell_type": "code",
   "execution_count": 11,
   "metadata": {},
   "outputs": [],
   "source": [
    "explanation = (\"<p><strong>Uitleg</strong> \"\n",
    "\"<a href=\\\"javascript:toggle('divexplanation')\\\" id=\\\"divexplanationlink\\\">open</a></p> \"\n",
    "\"<div id=\\\"divexplanation\\\" style=\\\"display:none\\\"> \"\n",
    "\"<p>Op deze pagina staat een analyse van de website <a href=\\\"https://richtlijnendatabase.nl\\\">richtlijnendatabase.nl</a>. De analyse betreft het voorkomen van termen over het \"\n",
    "\"onderwerp <strong>ehealth</strong>, de zogenaamde sleuteltermen. Alle paragrafen die sleuteltermen bevatten zijn geselecteerd en de aantallen sleuteltermen zijn geteld, zowel \"\n",
    "\"per paragraaf, per document als voor de gehele website.</p>\"\n",
    "\"<p>De website richtlijnendatabase.nl bevat een lijst van medische richtlijnen voor het behandelen van aandoeningen. Deze analyse van de website is gedaan op twee niveau's: \"\n",
    "\"richtlijnen en sleuteltermen. Voor elke richtlijn en voor elk sleutelterm is een analyse gemaakt, en is de paragraaf met de meeste sleuteltermen gekozen: de exemplarische \"\n",
    "\"paragraaf. De analyse kan worden ingezien door eerst op \\\"richlijnen\\\" of \\\"sleuteltermen\\\" te klikken en dan op de naam van de richtlijn of de sleutelterm.</p>\"\n",
    "\"<p>Omdat de website richtlijnendatabase.nl regelmatig verandert, houden we met kleurcodes bij welke richtlijnen, documenten en sleuteltermen nieuw zijn, of zijn veranderd. \"\n",
    "\"Nieuwe richtlijnen, documenten en sleuteltermen zijn <font style=\\\"background-color: lightgreen;\\\">groen</font> gekleurd en veranderde elementen zijn \"\n",
    "\"<font style=\\\"background-color: yellow;\\\">geel</font>. Daarnaast zijn verwijderde richtlijnen, documenten en sleuteltermen in een <font style=\\\"background-color: pink;\\\">rode</font> \"\n",
    "\"kleur opgenomen in de lijsten. De aantallen gevonden in verwijderde elementen worden niet meegeteld op de hogere niveau's. In deze analyse wordt de versie van de website van 12 juli \"\n",
    "\"2021 vergeleken met de versie van 21 juni 2021.</p>\"\n",
    "\"<p>Bij de vergelijking op basis van verandering wordt alleen gekeken naar de aantallen gevonden sleuteltermen, de aantallen relevante paragrafen, de aantallen relevante documenten \"\n",
    "\"en de aantallen relevante richtlijnen. De documenten worden niet woord-voor-woord vergeleken omdat kleine veranderingen, zoals voor webnavigatie, voor deze analyse niet interessant \"\n",
    "\"zijn.</p>\"\n",
    "\"</div> \")"
   ]
  },
  {
   "cell_type": "code",
   "execution_count": 12,
   "metadata": {},
   "outputs": [],
   "source": [
    "def write_to_index_file(paragraphs):\n",
    "    title = \"analyse richtlijnendatabase.nl\"\n",
    "    date = datetime.datetime.strftime(datetime.datetime.now(), \"%Y-%m-%d %H:%M:%S\")\n",
    "    outfile = open(\"index.html\", \"w\")\n",
    "    print(f\"<html>\\n<head>\\n<meta charset=\\\"utf-8\\\"/>\\n<title>{title}</title>\\n<script type=\\\"text/javascript\\\">\", file=outfile)\n",
    "    print(\"function toggle(divid) {\\nvar item=document.getElementById(divid); if (item) { item.style.display=(item.style.display=='none')?'block':'none'; }\\n\"\n",
    "          \"var itemlink=document.getElementById(divid+'link'); if (itemlink) { itemlink.text=(itemlink.text=='open')?'sluit':'open'; }}\", file=outfile)\n",
    "    print(f\"</script>\\n</head>\\n<body><p>Generated at {date}</p>\", file=outfile)\n",
    "    print(\"<p>Versies: <a href=\\\"index-20210315.html\\\">15 maart 2021</a> | <a href=\\\"index-20210420.html\\\">20 april 2021</a> | <a href=\\\"index-20210621.html\\\">21 juni 2021</a> | <a href=\\\"index-20210712.html\\\">12 juli 2021</a></p>\", file=outfile)\n",
    "    print(\"<p>Kleurcodes: <font style=\\\"background-color: lightgreen;\\\">Nieuw</font> | <font style=\\\"background-color: yellow;\\\">Veranderd</font> | <font style=\\\"background-color: pink;\\\">Verwijderd</font></p>\", file=outfile)\n",
    "    print(explanation, file=outfile)\n",
    "    print(f\"<h2>{title}</h2>\", file=outfile)\n",
    "    json2html(paragraphs, outfile, top=True)\n",
    "    print(\"<p>Klaar met laden</p></body>\\n</html>\", file=outfile)\n",
    "    outfile.close()"
   ]
  },
  {
   "cell_type": "markdown",
   "metadata": {},
   "source": [
    "Files of interest:\n",
    "* paragraphs-20210315.json\n",
    "* paragraphs-20210429.json\n",
    "* paragraphs-20210622.json\n",
    "* paragraphs-20210712.json\n",
    "\n",
    "Note that `text_ranking.ipynb` stores it output in the file `paragraphs.json` (without the date in the name)"
   ]
  },
  {
   "cell_type": "code",
   "execution_count": 13,
   "metadata": {},
   "outputs": [],
   "source": [
    "JSON_FILE_OLD = \"paragraphs-20210621.json\"\n",
    "JSON_FILE_NEW = \"paragraphs-20210712.json\"\n",
    "\n",
    "paragraphs_old = read_json_file(JSON_FILE_OLD)\n",
    "paragraphs_new = read_json_file(JSON_FILE_NEW)\n",
    "paragraphs_old = remove_counts(paragraphs_old)\n",
    "paragraphs_new = remove_counts(paragraphs_new)\n",
    "compare(paragraphs_new, paragraphs_old)\n",
    "paragraphs_new = undo_remove_counts(paragraphs_new)"
   ]
  },
  {
   "cell_type": "code",
   "execution_count": 14,
   "metadata": {},
   "outputs": [],
   "source": [
    "write_to_index_file(paragraphs_new)"
   ]
  },
  {
   "cell_type": "markdown",
   "metadata": {},
   "source": [
    "## 2. Divide documents into classes\n",
    "\n",
    "Classes are defined in input file"
   ]
  },
  {
   "cell_type": "code",
   "execution_count": 15,
   "metadata": {},
   "outputs": [],
   "source": [
    "import pandas as pd"
   ]
  },
  {
   "cell_type": "code",
   "execution_count": 16,
   "metadata": {},
   "outputs": [],
   "source": [
    "def summarize_document_name(document_name):\n",
    "    document_name = re.sub(r\"^\\(\\d+\\) \", \"\", document_name)\n",
    "    document_name = re.sub(r\"\\.html$\", \"\", document_name)\n",
    "    return document_name"
   ]
  },
  {
   "cell_type": "code",
   "execution_count": 17,
   "metadata": {},
   "outputs": [],
   "source": [
    "def remove_counts_from_document_name(document_name):\n",
    "    document_name = re.sub(r\"^\\(\\d+\\) \", \"\", document_name)\n",
    "    return document_name"
   ]
  },
  {
   "cell_type": "code",
   "execution_count": 18,
   "metadata": {},
   "outputs": [],
   "source": [
    "def remove_periods_from_numbers(number):\n",
    "    return re.sub(\"\\.\", \"\", number)"
   ]
  },
  {
   "cell_type": "code",
   "execution_count": 19,
   "metadata": {},
   "outputs": [],
   "source": [
    "def make_large_number_readable(number_in):\n",
    "    number_in = remove_periods_from_numbers(str(number_in))\n",
    "    number_out = \"\"\n",
    "    for i in range(1, 1+len(number_in)):\n",
    "        number_out = number_in[-i] + number_out\n",
    "        if i % 3 == 0 and i < len(number_in):\n",
    "            number_out = \".\" + number_out\n",
    "    return number_out"
   ]
  },
  {
   "cell_type": "code",
   "execution_count": 20,
   "metadata": {},
   "outputs": [],
   "source": [
    "paragraphs_new = remove_counts(paragraphs_new, delete_flag=True)\n",
    "classes_from_file = pd.read_csv(\"csv/210519 indeling documenten richtlijnendatabse FMS.csv\")"
   ]
  },
  {
   "cell_type": "code",
   "execution_count": 21,
   "metadata": {},
   "outputs": [
    {
     "data": {
      "text/plain": [
       "behandeling         5618\n",
       "diagnostiek         2460\n",
       "nazorg               469\n",
       "preventie            263\n",
       "screening            175\n",
       "palliatieve zorg     163\n",
       "revalidatie          146\n",
       "Name: indeling, dtype: int64"
      ]
     },
     "execution_count": 21,
     "metadata": {},
     "output_type": "execute_result"
    }
   ],
   "source": [
    "classes_from_file[\"indeling\"].value_counts()"
   ]
  },
  {
   "cell_type": "code",
   "execution_count": 22,
   "metadata": {},
   "outputs": [],
   "source": [
    "classes = {}\n",
    "for i, row in classes_from_file.iterrows():\n",
    "    document_parts = row[\"document\"].split(\"/\")\n",
    "    measure = document_parts.pop(0)\n",
    "    document = \"/\".join(document_parts)\n",
    "    if measure not in classes:\n",
    "        classes[measure] = {}\n",
    "    classes[measure][document] = row[\"indeling\"]"
   ]
  },
  {
   "cell_type": "code",
   "execution_count": 23,
   "metadata": {},
   "outputs": [
    {
     "name": "stdout",
     "output_type": "stream",
     "text": [
      "document not found in classes: behandeling_van_kinderen_met_obesitas index\n",
      "document not found in classes: dementie behandeling_dementie/psychosociale_non-farmacologische_interventies/domotica_en_e-health_bij_dementie\n",
      "document not found in classes: dementie besluitvorming_bij_dementie/einde_van_leven\n",
      "document not found in classes: dementie besluitvorming_bij_dementie/rijgeschiktheid_bij_dementie\n",
      "document not found in classes: dementie besluitvorming_bij_dementie/wilsbekwaamheid_medische_besluitvorming\n",
      "document not found in classes: dementie index\n",
      "document not found in classes: dementie organisatie_van_zorg_bij_dementie/de_zorgstandaard_dementie\n",
      "document not found in classes: dementie organisatie_van_zorg_bij_dementie/regionale_samenwerking_dementiezorg\n",
      "document not found in classes: dementie organisatie_van_zorg_bij_dementie/scholing_verzorgend_personeel_bij_dementie\n",
      "document not found in classes: dementie startpagina_-_dementie\n",
      "document not found in classes: chronische_nierschade_cns index\n",
      "document not found in classes: ziekte_van_parkinson index\n",
      "document not found in classes: colorectaal_carcinoom_crc index\n",
      "document not found in classes: schildklierfunctiestoornissen index\n",
      "document not found in classes: wondzorg index\n",
      "document not found in classes: vermoeden_van_ouderenmishandeling_om index\n",
      "document not found in classes: erfelijke_dyslipidemie_in_de_2e_en_3e_lijn index\n",
      "document not found in classes: achilles_tendinopathie index\n",
      "document not found in classes: cardiovasculair_risicomanagement_cvrm index\n",
      "document not found in classes: behandeling_van_patienten_met_een_schisis index\n",
      "document not found in classes: pijnbehandeling_tijdens_de_bevalling index\n",
      "document not found in classes: borstkanker index\n",
      "document not found in classes: eerste_opvang_van_brandwondpati_nten_in_de_acute_fase index\n",
      "document not found in classes: rectumprolaps index\n",
      "document not found in classes: handeczeem index\n",
      "document not found in classes: depressie_bij_jeugd index\n",
      "document not found in classes: behandeling_copd-longaanval_in_het_ziekenhuis index\n",
      "document not found in classes: mannelijke_niet-neurogene_luts index\n",
      "document not found in classes: nierfunctievervangende_behandeling index\n",
      "document not found in classes: preconceptie_dragerschapsonderzoek_pdo_voor_hoogrisicogroepen index\n",
      "document not found in classes: liesbreuk_bij_kinderen index\n",
      "document not found in classes: medicamenteuze_behandeling_migraine_en_moh index\n",
      "document not found in classes: seksueel_overdraagbare_aandoeningen_soa index\n",
      "document not found in classes: meerlingzwangerschap index\n",
      "document not found in classes: antitrombotisch_beleid communicatie_met_patienten_bij_antitrombotisch_beleid\n",
      "treatment not found in classes: aneurysma_van_de_abdominale_aorta_aaa\n",
      "treatment not found in classes: duchenne_spierdystrofie_dmd\n",
      "document not found in classes: het_vergrote_ovarium diagnostische_modellen_bij_een_vergroot_ovarium\n",
      "treatment not found in classes: hoorzorg_voor_slechthorende_kinderen_van_4_tot_18_jaar\n",
      "document not found in classes: informatie-uitwisseling_tussen_huisarts_en_specialist_hasp index\n",
      "document not found in classes: saps subacromiale_decompressie_chirurgie_bij_saps\n"
     ]
    }
   ],
   "source": [
    "paragraphs_new[\"stappen\"] = {}\n",
    "for treatment in paragraphs_new[\"richtlijnen\"]:\n",
    "    summarized_treatment = summarize_document_name(treatment)\n",
    "    if summarized_treatment not in classes:\n",
    "        print(\"treatment not found in classes:\", summarized_treatment)\n",
    "        continue\n",
    "    for document in paragraphs_new[\"richtlijnen\"][treatment][\"documenten\"]:\n",
    "        summarized_document = summarize_document_name(document)\n",
    "        if summarized_document not in classes[summarized_treatment]:\n",
    "            print(\"document not found in classes:\", summarized_treatment, summarized_document)\n",
    "            continue\n",
    "        step = classes[summarized_treatment][summarized_document]\n",
    "        if step not in paragraphs_new[\"stappen\"]:\n",
    "            paragraphs_new[\"stappen\"][step] =  { \"aantal gevonden sleuteltermen\": 0,\n",
    "                                                 \"aantal tokens\": 0,\n",
    "                                                 \"aantal types\": 0,\n",
    "                                                 \"exemplarische paragraaf\": {\n",
    "                                                     \"aantal gevonden sleuteltermen\": 0,\n",
    "                                                 },\n",
    "                                                 \"richtlijnen\": {},\n",
    "                                                 \"sleuteltermen\": {},\n",
    "                                                }            \n",
    "        paragraphs_new[\"stappen\"][step][\"aantal gevonden sleuteltermen\"] += \\\n",
    "            int(re.sub(r'\\.', \"\", paragraphs_new[\"richtlijnen\"][treatment][\"documenten\"][document][\"aantal gevonden sleuteltermen\"]))\n",
    "        paragraphs_new[\"stappen\"][step][\"aantal tokens\"] += \\\n",
    "            int(re.sub(r'\\.', \"\", paragraphs_new[\"richtlijnen\"][treatment][\"documenten\"][document][\"aantal tokens\"]))\n",
    "        paragraphs_new[\"stappen\"][step][\"aantal types\"] += \\\n",
    "            int(re.sub(r'\\.', \"\", paragraphs_new[\"richtlijnen\"][treatment][\"documenten\"][document][\"aantal types\"]))\n",
    "        if treatment not in paragraphs_new[\"stappen\"][step][\"richtlijnen\"]:\n",
    "            paragraphs_new[\"stappen\"][step][\"richtlijnen\"][treatment] = { \"documenten\": {} }\n",
    "        paragraphs_new[\"stappen\"][step][\"richtlijnen\"][treatment][\"documenten\"][document] = \\\n",
    "            dict(paragraphs_new[\"richtlijnen\"][treatment][\"documenten\"][document])\n",
    "        if int(paragraphs_new[\"stappen\"][step][\"richtlijnen\"][treatment][\"documenten\"][document][\"paragrafen\"][list(paragraphs_new[\"stappen\"][step][\"richtlijnen\"][treatment][\"documenten\"][document][\"paragrafen\"].keys())[0]][\"aantal gevonden sleuteltermen\"]) > \\\n",
    "           int(paragraphs_new[\"stappen\"][step][\"exemplarische paragraaf\"][\"aantal gevonden sleuteltermen\"]):\n",
    "            paragraphs_new[\"stappen\"][step][\"exemplarische paragraaf\"] = \\\n",
    "                dict(paragraphs_new[\"stappen\"][step][\"richtlijnen\"][treatment][\"documenten\"][document][\"paragrafen\"][list(paragraphs_new[\"stappen\"][step][\"richtlijnen\"][treatment][\"documenten\"][document][\"paragrafen\"].keys())[0]])\n",
    "paragraphs_new[\"stappen\"] = { key: paragraphs_new[\"stappen\"][key] for key in sorted(paragraphs_new[\"stappen\"].keys(), \n",
    "                                                                                    key=lambda k: paragraphs_new[\"stappen\"][k][\"aantal gevonden sleuteltermen\"], \n",
    "                                                                                    reverse=True)}"
   ]
  },
  {
   "cell_type": "code",
   "execution_count": 24,
   "metadata": {},
   "outputs": [
    {
     "name": "stdout",
     "output_type": "stream",
     "text": [
      "document not found in classes: behandeling_van_kinderen_met_obesitas index\n",
      "document not found in classes: dementie behandeling_dementie/psychosociale_non-farmacologische_interventies/domotica_en_e-health_bij_dementie\n",
      "document not found in classes: dementie besluitvorming_bij_dementie/einde_van_leven\n",
      "document not found in classes: dementie besluitvorming_bij_dementie/rijgeschiktheid_bij_dementie\n",
      "document not found in classes: dementie besluitvorming_bij_dementie/wilsbekwaamheid_medische_besluitvorming\n",
      "document not found in classes: dementie index\n",
      "document not found in classes: dementie organisatie_van_zorg_bij_dementie/de_zorgstandaard_dementie\n",
      "document not found in classes: dementie organisatie_van_zorg_bij_dementie/regionale_samenwerking_dementiezorg\n",
      "document not found in classes: dementie organisatie_van_zorg_bij_dementie/scholing_verzorgend_personeel_bij_dementie\n",
      "document not found in classes: dementie startpagina_-_dementie\n",
      "document not found in classes: ziekte_van_parkinson index\n",
      "document not found in classes: rectumprolaps index\n",
      "document not found in classes: depressie_bij_jeugd index\n",
      "document not found in classes: nierfunctievervangende_behandeling index\n",
      "document not found in classes: preconceptie_dragerschapsonderzoek_pdo_voor_hoogrisicogroepen index\n",
      "treatment not found in classes: duchenne_spierdystrofie_dmd\n",
      "document not found in classes: colorectaal_carcinoom_crc index\n",
      "document not found in classes: schildklierfunctiestoornissen index\n",
      "document not found in classes: vermoeden_van_ouderenmishandeling_om index\n",
      "document not found in classes: pijnbehandeling_tijdens_de_bevalling index\n",
      "document not found in classes: mannelijke_niet-neurogene_luts index\n",
      "document not found in classes: medicamenteuze_behandeling_migraine_en_moh index\n",
      "document not found in classes: wondzorg index\n",
      "document not found in classes: erfelijke_dyslipidemie_in_de_2e_en_3e_lijn index\n",
      "document not found in classes: behandeling_van_patienten_met_een_schisis index\n",
      "document not found in classes: behandeling_copd-longaanval_in_het_ziekenhuis index\n",
      "document not found in classes: eerste_opvang_van_brandwondpati_nten_in_de_acute_fase index\n",
      "document not found in classes: handeczeem index\n",
      "document not found in classes: liesbreuk_bij_kinderen index\n",
      "document not found in classes: seksueel_overdraagbare_aandoeningen_soa index\n",
      "document not found in classes: meerlingzwangerschap index\n",
      "document not found in classes: het_vergrote_ovarium diagnostische_modellen_bij_een_vergroot_ovarium\n",
      "document not found in classes: saps subacromiale_decompressie_chirurgie_bij_saps\n",
      "document not found in classes: borstkanker index\n",
      "document not found in classes: chronische_nierschade_cns index\n",
      "document not found in classes: cardiovasculair_risicomanagement_cvrm index\n",
      "treatment not found in classes: hoorzorg_voor_slechthorende_kinderen_van_4_tot_18_jaar\n",
      "document not found in classes: antitrombotisch_beleid communicatie_met_patienten_bij_antitrombotisch_beleid\n",
      "treatment not found in classes: aneurysma_van_de_abdominale_aorta_aaa\n",
      "document not found in classes: achilles_tendinopathie index\n",
      "document not found in classes: informatie-uitwisseling_tussen_huisarts_en_specialist_hasp index\n"
     ]
    }
   ],
   "source": [
    "mentioned = {}\n",
    "for keyword in paragraphs_new[\"sleuteltermen\"]:\n",
    "    summarized_keyword = summarize_document_name(keyword)\n",
    "    for treatment in paragraphs_new[\"sleuteltermen\"][keyword][\"richtlijnen\"]:\n",
    "        summarized_treatment = summarize_document_name(treatment)\n",
    "        if summarized_treatment not in classes:\n",
    "            if summarized_treatment not in mentioned:\n",
    "                print(\"treatment not found in classes:\", summarized_treatment)\n",
    "                mentioned[summarized_treatment] = True\n",
    "            continue\n",
    "        for document in paragraphs_new[\"sleuteltermen\"][keyword][\"richtlijnen\"][treatment][\"documenten\"]:\n",
    "            summarized_document = summarize_document_name(document)\n",
    "            if summarized_document not in classes[summarized_treatment]:\n",
    "                key = f\"{summarized_treatment} {summarized_document}\"\n",
    "                if key not in mentioned:\n",
    "                    print(\"document not found in classes:\", summarized_treatment, summarized_document)\n",
    "                    mentioned[key] = True\n",
    "                continue\n",
    "            target = paragraphs_new[\"stappen\"][classes[summarized_treatment][summarized_document]][\"sleuteltermen\"] \n",
    "            if keyword not in target:\n",
    "                target[keyword] = { \"aantal gevonden sleuteltermen\": 0,\n",
    "                                    \"exemplarische paragraaf\": {},\n",
    "                                    \"richtlijnen\": {}\n",
    "                                  }\n",
    "            target[keyword][\"aantal gevonden sleuteltermen\"] += \\\n",
    "                int(re.sub(r'\\.', \"\", paragraphs_new[\"richtlijnen\"][summarized_treatment][\"documenten\"][remove_counts_from_document_name(document)][\"aantal gevonden sleuteltermen\"]))\n",
    "            if treatment not in target[keyword][\"richtlijnen\"]:\n",
    "                target[keyword][\"richtlijnen\"][treatment] = { \"documenten\": {} }\n",
    "            target[keyword][\"richtlijnen\"][treatment][\"documenten\"][remove_counts_from_document_name(document)] = \\\n",
    "                dict(paragraphs_new[\"richtlijnen\"][summarized_treatment][\"documenten\"][remove_counts_from_document_name(document)])"
   ]
  },
  {
   "cell_type": "code",
   "execution_count": 27,
   "metadata": {},
   "outputs": [],
   "source": [
    "for step in paragraphs_new[\"stappen\"]:\n",
    "    paragraphs_new[\"stappen\"][step][\"aantal gevonden sleuteltermen\"] = make_large_number_readable(paragraphs_new[\"stappen\"][step][\"aantal gevonden sleuteltermen\"])\n",
    "    paragraphs_new[\"stappen\"][step][\"aantal tokens\"] = make_large_number_readable(paragraphs_new[\"stappen\"][step][\"aantal tokens\"])\n",
    "    paragraphs_new[\"stappen\"][step][\"aantal types\"] = make_large_number_readable(paragraphs_new[\"stappen\"][step][\"aantal types\"])"
   ]
  },
  {
   "cell_type": "code",
   "execution_count": 28,
   "metadata": {},
   "outputs": [],
   "source": [
    "write_to_index_file(paragraphs_new)"
   ]
  },
  {
   "cell_type": "code",
   "execution_count": 30,
   "metadata": {},
   "outputs": [
    {
     "data": {
      "text/plain": [
       "7"
      ]
     },
     "execution_count": 30,
     "metadata": {},
     "output_type": "execute_result"
    }
   ],
   "source": [
    "len(paragraphs_new[\"stappen\"])"
   ]
  },
  {
   "cell_type": "markdown",
   "metadata": {},
   "source": [
    "## 3. Remove duplicate paragraphs from counts"
   ]
  },
  {
   "cell_type": "code",
   "execution_count": 31,
   "metadata": {},
   "outputs": [],
   "source": [
    "def reorder_measures(paragraphs_new):\n",
    "    paragraphs_new[\"richtlijnen\"] = { measure: paragraphs_new[\"richtlijnen\"][measure] for measure in \n",
    "                                               sorted(paragraphs_new[\"richtlijnen\"], \n",
    "                                                      key = lambda m: int(paragraphs_new[\"richtlijnen\"][m][\"aantal gevonden sleuteltermen\"]),\n",
    "                                                      reverse = True) }"
   ]
  },
  {
   "cell_type": "code",
   "execution_count": 32,
   "metadata": {},
   "outputs": [],
   "source": [
    "def reorder_measure_duplicates(paragraphs_new):\n",
    "    for measure in paragraphs_new[\"richtlijnen\"]:\n",
    "        paragraphs_new_list = \\\n",
    "            [{ \"aantal duplicaatparagrafen\": paragraphs_new[\"richtlijnen\"][measure][\"niet-meegerekende duplicaatsleuteltermen\"][text],\n",
    "               \"text\": text} for text in sorted(paragraphs_new[\"richtlijnen\"][measure][\"niet-meegerekende duplicaatsleuteltermen\"],\n",
    "                                                key = lambda t: paragraphs_new[\"richtlijnen\"][measure][\"niet-meegerekende duplicaatsleuteltermen\"][t],\n",
    "                                                reverse = True)]\n",
    "        paragraphs_new[\"richtlijnen\"][measure][\"niet-meegerekende duplicaatsleuteltermen\"] = \\\n",
    "            { i+1: paragraphs_new_list[i] for i in range(0, len(paragraphs_new_list)) }"
   ]
  },
  {
   "cell_type": "code",
   "execution_count": 33,
   "metadata": {},
   "outputs": [],
   "source": [
    "def remove_duplicates_from_counts_measures(paragraphs_new):\n",
    "    for measure in paragraphs_new[\"richtlijnen\"]:\n",
    "        seen = {}\n",
    "        paragraphs_new[\"richtlijnen\"][measure][\"aantal niet-meegerekende duplicaatsleuteltermen\"] = 0\n",
    "        paragraphs_new[\"richtlijnen\"][measure][\"niet-meegerekende duplicaatsleuteltermen\"] = {}\n",
    "        for document in paragraphs_new[\"richtlijnen\"][measure][\"documenten\"]:\n",
    "            for paragraph in paragraphs_new[\"richtlijnen\"][measure][\"documenten\"][document][\"paragrafen\"]:\n",
    "                text = paragraphs_new[\"richtlijnen\"][measure][\"documenten\"][document][\"paragrafen\"][paragraph][\"paragraaf\"]\n",
    "                text = re.sub(\"^[^ ]* \", \"\", text)\n",
    "                if text in seen:\n",
    "                    paragraphs_new[\"richtlijnen\"][measure][\"aantal gevonden sleuteltermen\"] = str(\n",
    "                        int(paragraphs_new[\"richtlijnen\"][measure][\"aantal gevonden sleuteltermen\"]) - \n",
    "                        int(paragraphs_new[\"richtlijnen\"][measure][\"documenten\"][document][\"paragrafen\"][paragraph][\"aantal gevonden sleuteltermen\"]))\n",
    "                    paragraphs_new[\"richtlijnen\"][measure][\"aantal niet-meegerekende duplicaatsleuteltermen\"] += 1\n",
    "                    if text in paragraphs_new[\"richtlijnen\"][measure][\"niet-meegerekende duplicaatsleuteltermen\"]:\n",
    "                        paragraphs_new[\"richtlijnen\"][measure][\"niet-meegerekende duplicaatsleuteltermen\"][text] += 1\n",
    "                    else:\n",
    "                        paragraphs_new[\"richtlijnen\"][measure][\"niet-meegerekende duplicaatsleuteltermen\"][text] = 1\n",
    "                seen[text] = True\n",
    "    reorder_measures(paragraphs_new)\n",
    "    reorder_measure_duplicates(paragraphs_new)"
   ]
  },
  {
   "cell_type": "code",
   "execution_count": 34,
   "metadata": {},
   "outputs": [],
   "source": [
    "def reorder_keywords(paragraphs_new):\n",
    "    paragraphs_new[\"sleuteltermen\"] = { keyword: paragraphs_new[\"sleuteltermen\"][keyword] for keyword in \n",
    "                                                 sorted(paragraphs_new[\"sleuteltermen\"], \n",
    "                                                        key = lambda k: int(re.sub(\"\\.\", \"\", paragraphs_new[\"sleuteltermen\"][k][\"aantal gevonden sleuteltermen\"])),\n",
    "                                                        reverse = True) }"
   ]
  },
  {
   "cell_type": "code",
   "execution_count": 35,
   "metadata": {},
   "outputs": [],
   "source": [
    "def reorder_keyword_duplicates(paragraphs_new):\n",
    "    for keyword in paragraphs_new[\"sleuteltermen\"]:\n",
    "        paragraphs_new_list = \\\n",
    "            [{ \"aantal duplicaatparagrafen\": paragraphs_new[\"sleuteltermen\"][keyword][\"niet-meegerekende duplicaatsleuteltermen\"][text],\n",
    "               \"text\": text} for text in sorted(paragraphs_new[\"sleuteltermen\"][keyword][\"niet-meegerekende duplicaatsleuteltermen\"],\n",
    "                                                key = lambda t: paragraphs_new[\"sleuteltermen\"][keyword][\"niet-meegerekende duplicaatsleuteltermen\"][t],\n",
    "                                                reverse = True)]\n",
    "        paragraphs_new[\"sleuteltermen\"][keyword][\"niet-meegerekende duplicaatsleuteltermen\"] = \\\n",
    "            { i+1: paragraphs_new_list[i] for i in range(0, len(paragraphs_new_list)) }"
   ]
  },
  {
   "cell_type": "code",
   "execution_count": 36,
   "metadata": {},
   "outputs": [],
   "source": [
    "def remove_duplicates_from_counts_keywords(paragraphs_new):\n",
    "    for keyword in paragraphs_new[\"sleuteltermen\"]:\n",
    "        seen = {}\n",
    "        paragraphs_new[\"sleuteltermen\"][keyword][\"aantal niet-meegerekende duplicaatsleuteltermen\"] = 0\n",
    "        paragraphs_new[\"sleuteltermen\"][keyword][\"niet-meegerekende duplicaatsleuteltermen\"] = {}\n",
    "        for measure in paragraphs_new[\"sleuteltermen\"][keyword][\"richtlijnen\"]:\n",
    "            for document in  paragraphs_new[\"sleuteltermen\"][keyword][\"richtlijnen\"][measure][\"documenten\"]:\n",
    "                for paragraph in paragraphs_new[\"sleuteltermen\"][keyword][\"richtlijnen\"][measure][\"documenten\"][document][\"paragrafen\"]:\n",
    "                    text = paragraphs_new[\"sleuteltermen\"][keyword][\"richtlijnen\"][measure][\"documenten\"][document][\"paragrafen\"][paragraph][\"paragraaf\"]\n",
    "                    text = re.sub(\"^[^ ]* \", \"\", text)\n",
    "                    if text in seen:\n",
    "                        paragraphs_new[\"sleuteltermen\"][keyword][\"aantal gevonden sleuteltermen\"] = str(\n",
    "                            int(re.sub(\"\\.\", \"\", paragraphs_new[\"sleuteltermen\"][keyword][\"aantal gevonden sleuteltermen\"])) - \n",
    "                            int(paragraphs_new[\"sleuteltermen\"][keyword][\"richtlijnen\"][measure][\"documenten\"][document][\"paragrafen\"][paragraph][\"aantal gevonden sleuteltermen\"]))\n",
    "                        paragraphs_new[\"sleuteltermen\"][keyword][\"aantal niet-meegerekende duplicaatsleuteltermen\"] += 1\n",
    "                        if text in paragraphs_new[\"sleuteltermen\"][keyword][\"niet-meegerekende duplicaatsleuteltermen\"]:\n",
    "                            paragraphs_new[\"sleuteltermen\"][keyword][\"niet-meegerekende duplicaatsleuteltermen\"][text] += 1\n",
    "                        else:\n",
    "                            paragraphs_new[\"sleuteltermen\"][keyword][\"niet-meegerekende duplicaatsleuteltermen\"][text] = 1\n",
    "                    seen[text] = True\n",
    "    reorder_keywords(paragraphs_new)\n",
    "    reorder_keyword_duplicates(paragraphs_new)"
   ]
  },
  {
   "cell_type": "code",
   "execution_count": 37,
   "metadata": {},
   "outputs": [],
   "source": [
    "remove_duplicates_from_counts_measures(paragraphs_new)\n",
    "remove_duplicates_from_counts_keywords(paragraphs_new)"
   ]
  },
  {
   "cell_type": "code",
   "execution_count": 38,
   "metadata": {},
   "outputs": [],
   "source": [
    "write_to_index_file(paragraphs_new)"
   ]
  },
  {
   "cell_type": "code",
   "execution_count": 39,
   "metadata": {},
   "outputs": [],
   "source": [
    "paragraphs_old = read_json_file(JSON_FILE_OLD)\n",
    "paragraphs_old = remove_counts(paragraphs_old)\n",
    "compare(paragraphs_new, paragraphs_old)\n",
    "write_to_index_file(paragraphs_new)"
   ]
  },
  {
   "cell_type": "markdown",
   "metadata": {},
   "source": [
    "## 4. Add keyword counts to measure and keyword headings"
   ]
  },
  {
   "cell_type": "code",
   "execution_count": 40,
   "metadata": {},
   "outputs": [],
   "source": [
    "def add_keyword_counts_to_headings(paragraphs_new):\n",
    "    paragraphs_with_counts = dict(paragraphs_new)\n",
    "    paragraphs_with_counts[\"richtlijnen\"] = {}\n",
    "    for measure in paragraphs_new[\"richtlijnen\"]:\n",
    "        measure_with_count = f'({make_large_number_readable(paragraphs_new[\"richtlijnen\"][measure][\"aantal gevonden sleuteltermen\"])}) {measure}'\n",
    "        paragraphs_with_counts[\"richtlijnen\"][measure_with_count] = dict(paragraphs_new[\"richtlijnen\"][measure])\n",
    "    paragraphs_with_counts[\"sleuteltermen\"] = {}\n",
    "    for keyword in paragraphs_new[\"sleuteltermen\"]:\n",
    "        keyword_with_count = f'({make_large_number_readable(paragraphs_new[\"sleuteltermen\"][keyword][\"aantal gevonden sleuteltermen\"])}) {keyword}'\n",
    "        paragraphs_with_counts[\"sleuteltermen\"][keyword_with_count] = dict(paragraphs_new[\"sleuteltermen\"][keyword])\n",
    "    paragraphs_with_counts[\"stappen\"] = {}\n",
    "    for step in paragraphs_new[\"stappen\"]:\n",
    "        step_with_count = f'({make_large_number_readable(paragraphs_new[\"stappen\"][step][\"aantal gevonden sleuteltermen\"])}) {step}'\n",
    "        paragraphs_with_counts[\"stappen\"][step_with_count] = dict(paragraphs_new[\"stappen\"][step])\n",
    "    paragraphs_with_counts[\"exemplarische paragrafen\"] = {}\n",
    "    for document in paragraphs_new[\"exemplarische paragrafen\"]:\n",
    "        document_with_count = f'({make_large_number_readable(paragraphs_new[\"exemplarische paragrafen\"][document][\"aantal gevonden sleuteltermen\"])}) {document}'\n",
    "        paragraphs_with_counts[\"exemplarische paragrafen\"][document_with_count] = dict(paragraphs_new[\"exemplarische paragrafen\"][document])\n",
    "    return paragraphs_with_counts"
   ]
  },
  {
   "cell_type": "code",
   "execution_count": 41,
   "metadata": {},
   "outputs": [],
   "source": [
    "paragraphs_with_counts = add_keyword_counts_to_headings(paragraphs_new)"
   ]
  },
  {
   "cell_type": "code",
   "execution_count": 42,
   "metadata": {},
   "outputs": [],
   "source": [
    "write_to_index_file(paragraphs_with_counts)"
   ]
  },
  {
   "cell_type": "code",
   "execution_count": null,
   "metadata": {},
   "outputs": [],
   "source": []
  }
 ],
 "metadata": {
  "kernelspec": {
   "display_name": "python37",
   "language": "python",
   "name": "python37"
  },
  "language_info": {
   "codemirror_mode": {
    "name": "ipython",
    "version": 3
   },
   "file_extension": ".py",
   "mimetype": "text/x-python",
   "name": "python",
   "nbconvert_exporter": "python",
   "pygments_lexer": "ipython3",
   "version": "3.7.3"
  }
 },
 "nbformat": 4,
 "nbformat_minor": 4
}
