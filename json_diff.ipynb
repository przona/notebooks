{
 "cells": [
  {
   "cell_type": "markdown",
   "metadata": {},
   "source": [
    "# JSON diff\n",
    "\n",
    "Find difference between two json analysis files and record these in a new version of the latest file"
   ]
  },
  {
   "cell_type": "code",
   "execution_count": 90,
   "metadata": {},
   "outputs": [],
   "source": [
    "import datetime\n",
    "import json\n",
    "import re"
   ]
  },
  {
   "cell_type": "code",
   "execution_count": 2,
   "metadata": {},
   "outputs": [],
   "source": [
    "def read_json_file(file_name):\n",
    "    infile = open(file_name, \"r\")\n",
    "    text_data = infile.read()\n",
    "    infile.close()\n",
    "    json_data = json.loads(text_data)\n",
    "    return(json_data)"
   ]
  },
  {
   "cell_type": "code",
   "execution_count": 136,
   "metadata": {},
   "outputs": [],
   "source": [
    "def remove_counts(paragraphs):\n",
    "    new_keys = {}\n",
    "    for key in paragraphs:\n",
    "        if type(paragraphs[key]) == dict:\n",
    "            paragraphs[key] = remove_counts(paragraphs[key])\n",
    "        new_key = re.sub('^\\(\\d+\\) ', \"\", key)\n",
    "        if new_key != key:\n",
    "            new_keys[new_key] = key\n",
    "    for new_key in new_keys:\n",
    "        paragraphs[new_key] = paragraphs[new_keys[new_key]]\n",
    "    return(dict(paragraphs))\n",
    "\n",
    "assert remove_counts({ \"1\": 1, \"(2) 2\": 2 }) == { \"1\": 1, \"(2) 2\": 2, \"2\": 2 } , \"test 1 failed!\"\n",
    "assert remove_counts({ \"0\": { \"1\": 1, \"(2) 2\": 2 }}) == { \"0\": { \"1\": 1, \"(2) 2\": 2, \"2\": 2 }} , \"test 2 failed!\""
   ]
  },
  {
   "cell_type": "code",
   "execution_count": 137,
   "metadata": {},
   "outputs": [],
   "source": [
    "def undo_remove_counts(paragraphs):\n",
    "    new_keys = []\n",
    "    for key in paragraphs:\n",
    "        if type(paragraphs[key]) == dict:\n",
    "            paragraphs[key] = undo_remove_counts(paragraphs[key])\n",
    "        new_key = re.sub('^\\(\\d+\\) ', \"\", key)\n",
    "        if new_key != key and new_key in paragraphs:\n",
    "            new_keys.append(new_key)\n",
    "    for new_key in new_keys:\n",
    "        del(paragraphs[new_key])\n",
    "    return(dict(paragraphs))\n",
    "\n",
    "assert undo_remove_counts({ \"1\": 1, \"(2) 2\": 2, \"2\": 2 }) == { \"1\": 1, \"(2) 2\": 2 }, \"test 1 failed!\"\n",
    "assert undo_remove_counts({ \"0\": {\"1\": 1, \"(2) 2\": 2, \"2\": 2 }}) == { \"0\": { \"1\": 1, \"(2) 2\": 2 }}, \"test 2 failed!\""
   ]
  },
  {
   "cell_type": "code",
   "execution_count": 268,
   "metadata": {},
   "outputs": [],
   "source": [
    "def compare_items(old, new):\n",
    "    return \"aantal gevonden sleuteltermen\" in old and \"aantal gevonden sleuteltermen\" in new and old[\"aantal gevonden sleuteltermen\"] != new[\"aantal gevonden sleuteltermen\"] or \\\n",
    "           \"documenten\" in old and \"documenten\" in new and len(old[\"documenten\"]) != len(new[\"documenten\"]) or \\\n",
    "           \"paragrafen\" in old and \"paragrafen\" in new and len(old[\"paragrafen\"]) != len(new[\"paragrafen\"]) or \\\n",
    "           \"richtlijnen\" in old and \"richtlijnen\" in new and len(old[\"richtlijnen\"]) != len(new[\"richtlijnen\"]) or \\\n",
    "           \"sleuteltermen\" in old and \"sleuteltermen\" in new and len(old[\"sleuteltermen\"]) != len(new[\"sleuteltermen\"])\n",
    "\n",
    "\n",
    "def compare_sub_groups(paragraphs_new, paragraphs_old):\n",
    "    for sub_group_name in [\"documenten\", \"richtlijnen\", \"sleuteltermen\"]:\n",
    "        if sub_group_name in paragraphs_new:\n",
    "            for file_name_new in paragraphs_new[sub_group_name]:\n",
    "                if not re.search('^\\(\\d+\\) ', file_name_new):\n",
    "                    if file_name_new == \"index.html\":\n",
    "                        file_name_old = \"\"\n",
    "                    else:\n",
    "                        file_name_old = file_name_new\n",
    "                    if file_name_old not in paragraphs_old[sub_group_name]:\n",
    "                        paragraphs_new[sub_group_name][file_name_new][\"status\"] = \"nieuw\"\n",
    "                        propagate_status(paragraphs_new[sub_group_name][file_name_new], \"nieuw\")\n",
    "                    else:\n",
    "                        if compare_items(paragraphs_old[sub_group_name][file_name_old], paragraphs_new[sub_group_name][file_name_new]):\n",
    "                            paragraphs_new[sub_group_name][file_name_new][\"status\"] = \"veranderd\"\n",
    "                        compare_sub_groups(paragraphs_new[sub_group_name][file_name_new], paragraphs_old[sub_group_name][file_name_old])\n",
    "            for file_name_old in paragraphs_old[sub_group_name]:\n",
    "                if not re.search('^\\(\\d+\\) ', file_name_old):\n",
    "                    if file_name_old == \"\":\n",
    "                        file_name_new = \"index.html\"\n",
    "                    else:\n",
    "                        file_name_new = file_name_old\n",
    "                    if file_name_new not in paragraphs_new[sub_group_name]:\n",
    "                        key = f'({paragraphs_old[sub_group_name][file_name_old][\"aantal gevonden sleuteltermen\"]}) {file_name_old}'\n",
    "                        paragraphs_new[sub_group_name][key] = dict(paragraphs_old[sub_group_name][file_name_old])\n",
    "                        paragraphs_new[sub_group_name][key][\"status\"] = \"verwijderd\"\n",
    "                        propagate_status(paragraphs_new[sub_group_name][key], \"verwijderd\")\n",
    "\n",
    "\n",
    "def propagate_status(paragraphs_new, status):\n",
    "    for sub_group_name in [\"documenten\", \"richtlijnen\", \"sleuteltermen\"]:\n",
    "        if sub_group_name in paragraphs_new:\n",
    "            for file_name_new in paragraphs_new[sub_group_name]:\n",
    "                if not re.search('^\\(\\d+\\) ', file_name_new):\n",
    "                    paragraphs_new[sub_group_name][file_name_new][\"status\"] = status\n",
    "                    propagate_status(paragraphs_new[sub_group_name][file_name_new], status)\n",
    "                    \n",
    "                    \n",
    "def compare_group(paragraphs_new, paragraphs_old, group_name):\n",
    "    for measure in paragraphs_new[group_name]:\n",
    "        if not re.search('^\\(\\d+\\) ', measure):\n",
    "            if measure not in paragraphs_old[group_name]:\n",
    "                paragraphs_new[group_name][measure][\"status\"] = \"nieuw\"\n",
    "                propagate_status(paragraphs_new[group_name][measure], \"nieuw\")\n",
    "                continue\n",
    "            elif compare_items(paragraphs_old[group_name][measure], paragraphs_new[group_name][measure]):\n",
    "                paragraphs_new[group_name][measure][\"status\"] = \"veranderd\"\n",
    "            compare_sub_groups(paragraphs_new[group_name][measure], paragraphs_old[group_name][measure])            \n",
    "    for measure in paragraphs_old[group_name]:\n",
    "        if not re.search('^\\(\\d+\\) ', measure):\n",
    "            if measure not in paragraphs_new[group_name]:\n",
    "                key = f'({paragraphs_old[group_name][measure][\"aantal gevonden sleuteltermen\"]}) {measure}'\n",
    "                paragraphs_new[group_name][key] = dict(paragraphs_old[group_name][measure])\n",
    "                paragraphs_new[group_name][key][\"status\"] = \"verwijderd\"\n",
    "                propagate_status(paragraphs_new[group_name][key], \"verwijderd\")\n",
    "\n",
    "                \n",
    "def compare(paragraphs_new, paragraphs_old):\n",
    "    compare_group(paragraphs_new, paragraphs_old, \"richtlijnen\")\n",
    "    compare_group(paragraphs_new, paragraphs_old, \"sleuteltermen\")"
   ]
  },
  {
   "cell_type": "code",
   "execution_count": 213,
   "metadata": {},
   "outputs": [],
   "source": [
    "def json2html(data, outfile, top=False, counter=0):\n",
    "    if type(data) != dict:\n",
    "        print(f\"<font style=\\\"color:grey;\\\">{data}</font>\", file=outfile)\n",
    "    else:\n",
    "        if top:\n",
    "            print(f\"<div id=\\\"div{counter}\\\" style=\\\"display:block\\\">\\n<ul>\", file=outfile)\n",
    "        else:\n",
    "            print(f\"<a href=\\\"javascript:toggle('div{counter}')\\\" id=\\\"div{counter}link\\\">open</a>\", file=outfile)\n",
    "            print(f\"<div id=\\\"div{counter}\\\" style=\\\"display:none\\\">\\n<ul>\", file=outfile)\n",
    "        for key in data:\n",
    "            if type(data[key]) != dict or \"status\" not in data[key]: \n",
    "                print(\"<li style=\\\"background-color: white;\\\">\", key, \":\", file=outfile)\n",
    "            elif data[key][\"status\"] == \"nieuw\":\n",
    "                print(\"<li style=\\\"background-color: lightgreen;\\\">\", key, \":\", file=outfile)\n",
    "            elif data[key][\"status\"] == \"veranderd\":\n",
    "                print(\"<li style='background-color: yellow;'>\", key, \":\", file=outfile)\n",
    "            elif data[key][\"status\"] == \"d\":\n",
    "                print(\"<li style=\\\"background-color: pink;\\\">\", key, \":\", file=outfile)\n",
    "            else:\n",
    "                print(\"<li>\", key, \":\", \"ERROR: unexpected status:\", data[key][\"status\"], file=outfile)\n",
    "            counter += 1\n",
    "            counter = json2html(data[key], outfile, counter=counter)\n",
    "            print(\"</li>\", file=outfile)\n",
    "        print(\"</ul>\\n</div>\", file=outfile)\n",
    "    return(counter)"
   ]
  },
  {
   "cell_type": "code",
   "execution_count": 269,
   "metadata": {},
   "outputs": [],
   "source": [
    "paragraphs_old = read_json_file(\"paragraphs-20210315.json\")\n",
    "paragraphs_new = read_json_file(\"paragraphs-20210420.json\")\n",
    "paragraphs_old = remove_counts(paragraphs_old)\n",
    "paragraphs_new = remove_counts(paragraphs_new)\n",
    "compare(paragraphs_new, paragraphs_old)\n",
    "paragraphs_new = undo_remove_counts(paragraphs_new)"
   ]
  },
  {
   "cell_type": "code",
   "execution_count": 270,
   "metadata": {},
   "outputs": [],
   "source": [
    "title = \"analyse richtlijnendatabase.nl\"\n",
    "date = datetime.datetime.strftime(datetime.datetime.now(), \"%Y-%m-%d %H:%M:%S\")\n",
    "outfile = open(\"index.html\", \"w\")\n",
    "print(f\"<html>\\n<head>\\n<title>{title}</title>\\n<script type=\\\"text/javascript\\\">\", file=outfile)\n",
    "print(\"function toggle(divid) {\\nvar item=document.getElementById(divid); if (item) { item.style.display=(item.style.display=='none')?'block':'none'; }\\n\"\n",
    "      \"var itemlink=document.getElementById(divid+'link'); if (itemlink) { itemlink.text=(itemlink.text=='open')?'sluit':'open'; }}\", file=outfile)\n",
    "print(f\"</script>\\n</head>\\n<body><p>Generated at {date}</p>\", file=outfile)\n",
    "print(\"<p>Versies: <a href=\\\"index-20210315.html\\\">15 maart 2021</a> | <a href=\\\"index-20210420.html\\\">20 april 2021</a></p>\", file=outfile)\n",
    "print(\"<p>Kleurcodes: <font style=\\\"background-color: lightgreen;\\\">Nieuw</font> | <font style=\\\"background-color: yellow;\\\">Veranderd</font> | <font style=\\\"background-color: pink;\\\">Verwijderd</font></p>\", file=outfile)\n",
    "print(f\"<h2>{title}</h2>\", file=outfile)\n",
    "json2html(paragraphs_new, outfile, top=True)\n",
    "print(\"<p>Klaar met laden</p></body>\\n</html>\", file=outfile)\n",
    "outfile.close()"
   ]
  },
  {
   "cell_type": "code",
   "execution_count": null,
   "metadata": {},
   "outputs": [],
   "source": []
  }
 ],
 "metadata": {
  "kernelspec": {
   "display_name": "python37",
   "language": "python",
   "name": "python37"
  },
  "language_info": {
   "codemirror_mode": {
    "name": "ipython",
    "version": 3
   },
   "file_extension": ".py",
   "mimetype": "text/x-python",
   "name": "python",
   "nbconvert_exporter": "python",
   "pygments_lexer": "ipython3",
   "version": "3.7.3"
  }
 },
 "nbformat": 4,
 "nbformat_minor": 4
}
