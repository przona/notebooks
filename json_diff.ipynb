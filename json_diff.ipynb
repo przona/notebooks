{
 "cells": [
  {
   "cell_type": "markdown",
   "metadata": {},
   "source": [
    "# JSON diff\n",
    "\n",
    "Find difference between two json analysis files and record these in a new version of the latest file"
   ]
  },
  {
   "cell_type": "markdown",
   "metadata": {},
   "source": [
    "## 1. Compare two json files with paragraphs"
   ]
  },
  {
   "cell_type": "code",
   "execution_count": 1,
   "metadata": {},
   "outputs": [],
   "source": [
    "import datetime\n",
    "import json\n",
    "import re"
   ]
  },
  {
   "cell_type": "code",
   "execution_count": 2,
   "metadata": {},
   "outputs": [],
   "source": [
    "def read_json_file(file_name):\n",
    "    infile = open(file_name, \"r\")\n",
    "    text_data = infile.read()\n",
    "    infile.close()\n",
    "    json_data = json.loads(text_data)\n",
    "    return(json_data)"
   ]
  },
  {
   "cell_type": "code",
   "execution_count": 3,
   "metadata": {},
   "outputs": [],
   "source": [
    "def remove_counts(paragraphs):\n",
    "    new_keys = {}\n",
    "    for key in paragraphs:\n",
    "        if type(paragraphs[key]) == dict:\n",
    "            paragraphs[key] = remove_counts(paragraphs[key])\n",
    "        new_key = re.sub('^\\(\\d+\\) ', \"\", key)\n",
    "        if new_key != key:\n",
    "            new_keys[new_key] = key\n",
    "    for new_key in new_keys:\n",
    "        paragraphs[new_key] = paragraphs[new_keys[new_key]]\n",
    "    return(dict(paragraphs))\n",
    "\n",
    "assert remove_counts({ \"1\": 1, \"(2) 2\": 2 }) == { \"1\": 1, \"(2) 2\": 2, \"2\": 2 } , \"test 1 failed!\"\n",
    "assert remove_counts({ \"0\": { \"1\": 1, \"(2) 2\": 2 }}) == { \"0\": { \"1\": 1, \"(2) 2\": 2, \"2\": 2 }} , \"test 2 failed!\""
   ]
  },
  {
   "cell_type": "code",
   "execution_count": 4,
   "metadata": {},
   "outputs": [],
   "source": [
    "def undo_remove_counts(paragraphs):\n",
    "    new_keys = []\n",
    "    for key in paragraphs:\n",
    "        if type(paragraphs[key]) == dict:\n",
    "            paragraphs[key] = undo_remove_counts(paragraphs[key])\n",
    "        new_key = re.sub('^\\(\\d+\\) ', \"\", key)\n",
    "        if new_key != key and new_key in paragraphs:\n",
    "            new_keys.append(new_key)\n",
    "    for new_key in new_keys:\n",
    "        del(paragraphs[new_key])\n",
    "    return(dict(paragraphs))\n",
    "\n",
    "assert undo_remove_counts({ \"1\": 1, \"(2) 2\": 2, \"2\": 2 }) == { \"1\": 1, \"(2) 2\": 2 }, \"test 1 failed!\"\n",
    "assert undo_remove_counts({ \"0\": {\"1\": 1, \"(2) 2\": 2, \"2\": 2 }}) == { \"0\": { \"1\": 1, \"(2) 2\": 2 }}, \"test 2 failed!\""
   ]
  },
  {
   "cell_type": "code",
   "execution_count": 5,
   "metadata": {},
   "outputs": [],
   "source": [
    "def compare_items(old, new):\n",
    "    return \"aantal gevonden sleuteltermen\" in old and \"aantal gevonden sleuteltermen\" in new and old[\"aantal gevonden sleuteltermen\"] != new[\"aantal gevonden sleuteltermen\"] or \\\n",
    "           \"documenten\" in old and \"documenten\" in new and len(old[\"documenten\"]) != len(new[\"documenten\"]) or \\\n",
    "           \"paragrafen\" in old and \"paragrafen\" in new and len(old[\"paragrafen\"]) != len(new[\"paragrafen\"]) or \\\n",
    "           \"richtlijnen\" in old and \"richtlijnen\" in new and len(old[\"richtlijnen\"]) != len(new[\"richtlijnen\"]) or \\\n",
    "           \"sleuteltermen\" in old and \"sleuteltermen\" in new and len(old[\"sleuteltermen\"]) != len(new[\"sleuteltermen\"])\n",
    "\n",
    "\n",
    "def compare_sub_groups(paragraphs_new, paragraphs_old):\n",
    "    for sub_group_name in [\"documenten\", \"richtlijnen\", \"sleuteltermen\"]:\n",
    "        if sub_group_name in paragraphs_new:\n",
    "            for file_name_new in paragraphs_new[sub_group_name]:\n",
    "                if not re.search('^\\(\\d+\\) ', file_name_new):\n",
    "                    if file_name_new == \"index.html\":\n",
    "                        file_name_old = \"\"\n",
    "                    else:\n",
    "                        file_name_old = file_name_new\n",
    "                    if file_name_old not in paragraphs_old[sub_group_name]:\n",
    "                        paragraphs_new[sub_group_name][file_name_new][\"status\"] = \"nieuw\"\n",
    "                        propagate_status(paragraphs_new[sub_group_name][file_name_new], \"nieuw\")\n",
    "                    else:\n",
    "                        if compare_items(paragraphs_old[sub_group_name][file_name_old], paragraphs_new[sub_group_name][file_name_new]):\n",
    "                            paragraphs_new[sub_group_name][file_name_new][\"status\"] = \"veranderd\"\n",
    "                        compare_sub_groups(paragraphs_new[sub_group_name][file_name_new], paragraphs_old[sub_group_name][file_name_old])\n",
    "            for file_name_old in paragraphs_old[sub_group_name]:\n",
    "                if not re.search('^\\(\\d+\\) ', file_name_old):\n",
    "                    if file_name_old == \"\":\n",
    "                        file_name_new = \"index.html\"\n",
    "                    else:\n",
    "                        file_name_new = file_name_old\n",
    "                    if file_name_new not in paragraphs_new[sub_group_name]:\n",
    "                        key = f'({paragraphs_old[sub_group_name][file_name_old][\"aantal gevonden sleuteltermen\"]}) {file_name_old}'\n",
    "                        paragraphs_new[sub_group_name][key] = dict(paragraphs_old[sub_group_name][file_name_old])\n",
    "                        paragraphs_new[sub_group_name][key][\"status\"] = \"verwijderd\"\n",
    "                        propagate_status(paragraphs_new[sub_group_name][key], \"verwijderd\")\n",
    "\n",
    "\n",
    "def propagate_status(paragraphs_new, status):\n",
    "    for sub_group_name in [\"documenten\", \"richtlijnen\", \"sleuteltermen\"]:\n",
    "        if sub_group_name in paragraphs_new:\n",
    "            for file_name_new in paragraphs_new[sub_group_name]:\n",
    "                if not re.search('^\\(\\d+\\) ', file_name_new):\n",
    "                    paragraphs_new[sub_group_name][file_name_new][\"status\"] = status\n",
    "                    propagate_status(paragraphs_new[sub_group_name][file_name_new], status)\n",
    "                    \n",
    "                    \n",
    "def compare_group(paragraphs_new, paragraphs_old, group_name):\n",
    "    for measure in paragraphs_new[group_name]:\n",
    "        if not re.search('^\\(\\d+\\) ', measure):\n",
    "            if measure not in paragraphs_old[group_name]:\n",
    "                paragraphs_new[group_name][measure][\"status\"] = \"nieuw\"\n",
    "                propagate_status(paragraphs_new[group_name][measure], \"nieuw\")\n",
    "                continue\n",
    "            elif compare_items(paragraphs_old[group_name][measure], paragraphs_new[group_name][measure]):\n",
    "                paragraphs_new[group_name][measure][\"status\"] = \"veranderd\"\n",
    "            compare_sub_groups(paragraphs_new[group_name][measure], paragraphs_old[group_name][measure])            \n",
    "    for measure in paragraphs_old[group_name]:\n",
    "        if not re.search('^\\(\\d+\\) ', measure):\n",
    "            if measure not in paragraphs_new[group_name]:\n",
    "                key = f'({paragraphs_old[group_name][measure][\"aantal gevonden sleuteltermen\"]}) {measure}'\n",
    "                paragraphs_new[group_name][key] = dict(paragraphs_old[group_name][measure])\n",
    "                paragraphs_new[group_name][key][\"status\"] = \"verwijderd\"\n",
    "                propagate_status(paragraphs_new[group_name][key], \"verwijderd\")\n",
    "\n",
    "                \n",
    "def compare(paragraphs_new, paragraphs_old):\n",
    "    compare_group(paragraphs_new, paragraphs_old, \"richtlijnen\")\n",
    "    compare_group(paragraphs_new, paragraphs_old, \"sleuteltermen\")"
   ]
  },
  {
   "cell_type": "code",
   "execution_count": 43,
   "metadata": {},
   "outputs": [],
   "source": [
    "def json2html(data, outfile, top=False, counter=0):\n",
    "    if type(data) != dict:\n",
    "        print(f\"<font style=\\\"color:grey;\\\">{data}</font>\", file=outfile)\n",
    "    else:\n",
    "        if top:\n",
    "            print(f\"<div id=\\\"div{counter}\\\" style=\\\"display:block\\\">\\n<ul>\", file=outfile)\n",
    "        else:\n",
    "            print(f\"<a href=\\\"javascript:toggle('div{counter}')\\\" id=\\\"div{counter}link\\\">open</a>\", file=outfile)\n",
    "            print(f\"<div id=\\\"div{counter}\\\" style=\\\"display:none\\\">\\n<ul>\", file=outfile)\n",
    "        for key in data:\n",
    "            if type(data[key]) != dict or \"status\" not in data[key]: \n",
    "                print(\"<li style=\\\"background-color: white;\\\">\", key, \":\", file=outfile)\n",
    "            elif data[key][\"status\"] == \"nieuw\":\n",
    "                print(\"<li style=\\\"background-color: lightgreen;\\\">\", key, \":\", file=outfile)\n",
    "            elif data[key][\"status\"] == \"veranderd\":\n",
    "                print(\"<li style='background-color: yellow;'>\", key, \":\", file=outfile)\n",
    "            elif data[key][\"status\"] == \"verwijderd\":\n",
    "                print(\"<li style=\\\"background-color: pink;\\\">\", key, \":\", file=outfile)\n",
    "            else:\n",
    "                print(\"<li>\", key, \":\", \"ERROR: unexpected status:\", data[key][\"status\"], file=outfile)\n",
    "            counter += 1\n",
    "            counter = json2html(data[key], outfile, counter=counter)\n",
    "            print(\"</li>\", file=outfile)\n",
    "        print(\"</ul>\\n</div>\", file=outfile)\n",
    "    return(counter)"
   ]
  },
  {
   "cell_type": "code",
   "execution_count": 49,
   "metadata": {},
   "outputs": [],
   "source": [
    "explanation = (\"<p><strong>Uitleg</strong> \"\n",
    "\"<a href=\\\"javascript:toggle('divexplanation')\\\" id=\\\"divexplanationlink\\\">open</a></p> \"\n",
    "\"<div id=\\\"divexplanation\\\" style=\\\"display:none\\\"> \"\n",
    "\"<p>Op deze pagina staat een analyse van de website <a href=\\\"https://richtlijnendatabase.nl\\\">richtlijnendatabase.nl</a>. De analyse betreft het voorkomen van termen over het \"\n",
    "\"onderwerp <strong>ehealth</strong>, de zogenaamde sleuteltermen. Alle paragrafen die sleuteltermen bevatten zijn geselecteerd en de aantallen sleuteltermen zijn geteld, zowel \"\n",
    "\"per paragraaf, per document als voor de gehele website.</p>\"\n",
    "\"<p>De website richtlijnendatabase.nl bevat een lijst van medische richtlijnen voor het behandelen van aandoeningen. Deze analyse van de website is gedaan op twee niveau's: \"\n",
    "\"richtlijnen en sleuteltermen. Voor elke richtlijn en voor elk sleutelterm is een analyse gemaakt, en is de paragraaf met de meeste sleuteltermen gekozen: de exemplarische \"\n",
    "\"paragraaf. De analyse kan worden ingezien door eerst op \\\"richlijnen\\\" of \\\"sleuteltermen\\\" te klikken en dan op de naam van de richtlijn of de sleutelterm.</p>\"\n",
    "\"<p>Omdat de website richtlijnendatabase.nl regelmatig verandert, houden we met kleurcodes bij welke richtlijnen, documenten en sleuteltermen nieuw zijn, of zijn veranderd. \"\n",
    "\"Nieuwe richtlijnen, documenten en sleuteltermen zijn <font style=\\\"background-color: lightgreen;\\\">groen</font> gekleurd en veranderde elementen zijn \"\n",
    "\"<font style=\\\"background-color: yellow;\\\">geel</font>. Daarnaast zijn verwijderde richtlijnen, documenten en sleuteltermen in een <font style=\\\"background-color: pink;\\\">rode</font> \"\n",
    "\"kleur opgenomen in de lijsten. De aantallen gevonden in verwijderde elementen worden niet meegeteld op de hogere niveau's. In deze analyse wordt de versie van de website van 20 april \"\n",
    "\"2021 vergeleken met de versie van 15 maart 2021.</p>\"\n",
    "\"<p>Bij de vergelijking op basis van verandering wordt alleen gekeken naar de aantallen gevonden sleuteltermen, de aantallen relevante paragrafen, de aantallen relevante documenten \"\n",
    "\"en de aantallen relevante richtlijnen. De documenten worden niet woord-voor-woord vergeleken omdat kleine veranderingen, zoals voor webnavigatie, voor deze analyse niet interessant \"\n",
    "\"zijn.</p>\"\n",
    "\"</div> \")"
   ]
  },
  {
   "cell_type": "code",
   "execution_count": 88,
   "metadata": {},
   "outputs": [],
   "source": [
    "def print_paragraphs(paragraphs):\n",
    "    title = \"analyse richtlijnendatabase.nl\"\n",
    "    date = datetime.datetime.strftime(datetime.datetime.now(), \"%Y-%m-%d %H:%M:%S\")\n",
    "    outfile = open(\"index.html\", \"w\")\n",
    "    print(f\"<html>\\n<head>\\n<meta charset=\\\"utf-8\\\"/>\\n<title>{title}</title>\\n<script type=\\\"text/javascript\\\">\", file=outfile)\n",
    "    print(\"function toggle(divid) {\\nvar item=document.getElementById(divid); if (item) { item.style.display=(item.style.display=='none')?'block':'none'; }\\n\"\n",
    "          \"var itemlink=document.getElementById(divid+'link'); if (itemlink) { itemlink.text=(itemlink.text=='open')?'sluit':'open'; }}\", file=outfile)\n",
    "    print(f\"</script>\\n</head>\\n<body><p>Generated at {date}</p>\", file=outfile)\n",
    "    print(\"<p>Versies: <a href=\\\"index-20210315.html\\\">15 maart 2021</a> | <a href=\\\"index-20210420.html\\\">20 april 2021</a></p>\", file=outfile)\n",
    "    print(\"<p>Kleurcodes: <font style=\\\"background-color: lightgreen;\\\">Nieuw</font> | <font style=\\\"background-color: yellow;\\\">Veranderd</font> | <font style=\\\"background-color: pink;\\\">Verwijderd</font></p>\", file=outfile)\n",
    "    print(explanation, file=outfile)\n",
    "    print(f\"<h2>{title}</h2>\", file=outfile)\n",
    "    json2html(paragraphs, outfile, top=True)\n",
    "    print(\"<p>Klaar met laden</p></body>\\n</html>\", file=outfile)\n",
    "    outfile.close()"
   ]
  },
  {
   "cell_type": "code",
   "execution_count": 44,
   "metadata": {},
   "outputs": [],
   "source": [
    "paragraphs_old = read_json_file(\"paragraphs-20210315.json\")\n",
    "paragraphs_new = read_json_file(\"paragraphs-20210420.json\")\n",
    "paragraphs_old = remove_counts(paragraphs_old)\n",
    "paragraphs_new = remove_counts(paragraphs_new)\n",
    "compare(paragraphs_new, paragraphs_old)\n",
    "paragraphs_new = undo_remove_counts(paragraphs_new)"
   ]
  },
  {
   "cell_type": "code",
   "execution_count": 89,
   "metadata": {},
   "outputs": [],
   "source": [
    "print_paragraphs(paragraphs_new)"
   ]
  },
  {
   "cell_type": "markdown",
   "metadata": {},
   "source": [
    "## 2. Divide documents into classes\n",
    "\n",
    "Classes: behandeling, beleid, diagnostiek, overige"
   ]
  },
  {
   "cell_type": "code",
   "execution_count": 77,
   "metadata": {},
   "outputs": [],
   "source": [
    "target_tokens = {\n",
    "    \"beeldvorming\": \"diagnostiek\",\n",
    "    \"behandel\": \"behandeling\",\n",
    "    \"beleid\": \"beleid\",\n",
    "    \"beoordeling\": \"diagnostiek\",\n",
    "    \"beschrijving\": \"diagnostiek\",\n",
    "    \"besluitvorming\": \"beleid\",\n",
    "    \"care\": \"behandeling\",\n",
    "    \"chirugie\": \"behandeling\",\n",
    "    \"communicatie\": \"beleid\",\n",
    "    \"detectie\": \"diagnostiek\",\n",
    "    \"diagnose\": \"diagnostiek\",\n",
    "    \"diagnostiek\": \"diagnostiek\",\n",
    "    \"diagnostische\": \"diagnostiek\",\n",
    "    \"duiding\": \"diagnostiek\",\n",
    "    \"herkennen\": \"diagnostiek\",\n",
    "    \"identificati\": \"diagnostiek\",\n",
    "    \"informeren\": \"beleid\",\n",
    "    \"interventie\": \"behandeling\",\n",
    "    \"interventies\": \"behandeling\",\n",
    "    \"onderzoek\": \"diagnostiek\",\n",
    "    \"preventie\": \"beleid\",\n",
    "    \"procedure\": \"beleid\",\n",
    "    \"reiniging\": \"behandeling\",\n",
    "    \"revalidatie\": \"behandeling\",\n",
    "    \"samenwerking\": \"beleid\",\n",
    "    \"screening\": \"diagnostiek\",\n",
    "    \"therapie\": \"behandeling\",\n",
    "    \"voorkomen\": \"beleid\",\n",
    "    \"voorlicht\": \"beleid\",\n",
    "    \"zorg\": \"behandeling\",\n",
    "}"
   ]
  },
  {
   "cell_type": "code",
   "execution_count": 84,
   "metadata": {},
   "outputs": [],
   "source": [
    "def match_target_tokens(string):\n",
    "    for target_token in target_tokens:\n",
    "        if re.search(target_token, string):\n",
    "            return(target_tokens[target_token])\n",
    "    return False"
   ]
  },
  {
   "cell_type": "code",
   "execution_count": 87,
   "metadata": {},
   "outputs": [],
   "source": [
    "classes = {}\n",
    "for treatment in paragraphs_new[\"richtlijnen\"].keys():\n",
    "    match = match_target_tokens(treatment)\n",
    "    if match:\n",
    "        classes[treatment] = match\n",
    "        continue\n",
    "    classes[treatment] = {}\n",
    "    for document in paragraphs_new[\"richtlijnen\"][treatment][\"documenten\"].keys():\n",
    "        match = match_target_tokens(document)\n",
    "        if match:\n",
    "            classes[treatment][document] = match\n",
    "        else:\n",
    "            classes[treatment][document] = \"overige\""
   ]
  },
  {
   "cell_type": "code",
   "execution_count": 101,
   "metadata": {},
   "outputs": [],
   "source": [
    "paragraphs_new[\"stappen\"] = {}\n",
    "for treatment in classes:\n",
    "    if type(classes[treatment]) == dict:        \n",
    "        for document in paragraphs_new[\"richtlijnen\"][treatment][\"documenten\"]:\n",
    "            if classes[treatment][document] not in paragraphs_new[\"stappen\"]:\n",
    "                paragraphs_new[\"stappen\"][classes[treatment][document]] =  { \"aantal gevonden sleuteltermen\": 0,\n",
    "                                                                             \"aantal tokens\": 0,\n",
    "                                                                             \"aantal types\": 0,\n",
    "                                                                             \"exemplarische paragraaf\": {},\n",
    "                                                                             \"richtlijnen\": {},\n",
    "                                                                             \"sleuteltermen\": {},\n",
    "                                                                           }            \n",
    "            paragraphs_new[\"stappen\"][classes[treatment][document]][\"aantal gevonden sleuteltermen\"] += \\\n",
    "                int(re.sub(r'\\.', \"\", paragraphs_new[\"richtlijnen\"][treatment][\"documenten\"][document][\"aantal gevonden sleuteltermen\"]))\n",
    "            paragraphs_new[\"stappen\"][classes[treatment][document]][\"aantal tokens\"] += \\\n",
    "                int(re.sub(r'\\.', \"\", paragraphs_new[\"richtlijnen\"][treatment][\"documenten\"][document][\"aantal tokens\"]))\n",
    "            paragraphs_new[\"stappen\"][classes[treatment][document]][\"aantal types\"] += \\\n",
    "                int(re.sub(r'\\.', \"\", paragraphs_new[\"richtlijnen\"][treatment][\"documenten\"][document][\"aantal types\"]))\n",
    "            if treatment not in paragraphs_new[\"stappen\"][classes[treatment][document]][\"richtlijnen\"]:\n",
    "                paragraphs_new[\"stappen\"][classes[treatment][document]][\"richtlijnen\"][treatment] = { \"documenten\": {} }\n",
    "            paragraphs_new[\"stappen\"][classes[treatment][document]][\"richtlijnen\"][treatment][\"documenten\"][document] = dict(paragraphs_new[\"richtlijnen\"][treatment][\"documenten\"][document]) \n",
    "    else:\n",
    "        if classes[treatment] not in paragraphs_new[\"stappen\"]:\n",
    "            paragraphs_new[\"stappen\"][classes[treatment]] =  { \"aantal gevonden sleuteltermen\": 0,\n",
    "                                                               \"aantal tokens\": 0,\n",
    "                                                               \"aantal types\": 0,\n",
    "                                                               \"exemplarische paragraaf\": {},\n",
    "                                                               \"richtlijnen\": {},\n",
    "                                                               \"sleuteltermen\": {},\n",
    "                                                             }\n",
    "        for document in paragraphs_new[\"richtlijnen\"][treatment][\"documenten\"]:\n",
    "            paragraphs_new[\"stappen\"][classes[treatment]][\"aantal gevonden sleuteltermen\"] += \\\n",
    "                int(re.sub(r'\\.', \"\", paragraphs_new[\"richtlijnen\"][treatment][\"documenten\"][document][\"aantal gevonden sleuteltermen\"]))\n",
    "            paragraphs_new[\"stappen\"][classes[treatment]][\"aantal tokens\"] += \\\n",
    "                int(re.sub(r'\\.', \"\", paragraphs_new[\"richtlijnen\"][treatment][\"documenten\"][document][\"aantal tokens\"]))\n",
    "            paragraphs_new[\"stappen\"][classes[treatment]][\"aantal types\"] += \\\n",
    "                int(re.sub(r'\\.', \"\", paragraphs_new[\"richtlijnen\"][treatment][\"documenten\"][document][\"aantal types\"]))\n",
    "            if treatment not in paragraphs_new[\"stappen\"][classes[treatment]][\"richtlijnen\"]:\n",
    "                paragraphs_new[\"stappen\"][classes[treatment]][\"richtlijnen\"][treatment] = { \"documenten\": {} }\n",
    "            paragraphs_new[\"stappen\"][classes[treatment]][\"richtlijnen\"][treatment][\"documenten\"][document] = dict(paragraphs_new[\"richtlijnen\"][treatment][\"documenten\"][document]) "
   ]
  },
  {
   "cell_type": "code",
   "execution_count": 102,
   "metadata": {},
   "outputs": [],
   "source": [
    "print_paragraphs(paragraphs_new)"
   ]
  },
  {
   "cell_type": "code",
   "execution_count": null,
   "metadata": {},
   "outputs": [],
   "source": []
  }
 ],
 "metadata": {
  "kernelspec": {
   "display_name": "python37",
   "language": "python",
   "name": "python37"
  },
  "language_info": {
   "codemirror_mode": {
    "name": "ipython",
    "version": 3
   },
   "file_extension": ".py",
   "mimetype": "text/x-python",
   "name": "python",
   "nbconvert_exporter": "python",
   "pygments_lexer": "ipython3",
   "version": "3.7.3"
  }
 },
 "nbformat": 4,
 "nbformat_minor": 4
}
