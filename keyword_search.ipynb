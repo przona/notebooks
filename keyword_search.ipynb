{
 "cells": [
  {
   "cell_type": "markdown",
   "metadata": {},
   "source": [
    "# Keyword search"
   ]
  },
  {
   "cell_type": "code",
   "execution_count": 1,
   "metadata": {},
   "outputs": [],
   "source": [
    "from bs4 import BeautifulSoup\n",
    "from colorama import Fore, Back, Style\n",
    "import csv\n",
    "import re\n",
    "import sys\n",
    "import przona\n",
    "\n",
    "dummy = csv.field_size_limit(sys.maxsize)"
   ]
  },
  {
   "cell_type": "code",
   "execution_count": 2,
   "metadata": {},
   "outputs": [
    {
     "name": "stdout",
     "output_type": "stream",
     "text": [
      "155051\n"
     ]
    }
   ],
   "source": [
    "CSV_DIR = \"csv/\"\n",
    "RECOMMENDATIONS_FILE = \"recommendation_web_pages.csv\"\n",
    "\n",
    "web_pages = przona.read_dict(CSV_DIR+RECOMMENDATIONS_FILE, spy=True)"
   ]
  },
  {
   "cell_type": "markdown",
   "metadata": {},
   "source": [
    "## Text segmentation"
   ]
  },
  {
   "cell_type": "code",
   "execution_count": null,
   "metadata": {},
   "outputs": [],
   "source": [
    "def get_paragraphs(soup):\n",
    "    paragraphs = []\n",
    "    for paragraph in re.sub('\\\\\\\\r',' ',re.sub('\\\\\\\\t',' ',soup.text)).split('\\\\n'):\n",
    "        paragraph = re.sub(\"\\s+\", \" \", paragraph).strip()\n",
    "        if paragraph != \"\":\n",
    "            paragraphs.append(paragraph)\n",
    "    return(paragraphs)"
   ]
  },
  {
   "cell_type": "code",
   "execution_count": null,
   "metadata": {},
   "outputs": [],
   "source": [
    "paragraphs = {}\n",
    "counter = 0\n",
    "for url in web_pages.keys():\n",
    "    counter += 1\n",
    "    if counter % 100 == 0:\n",
    "        squeal(counter)\n",
    "    web_page_text = web_pages[url][0]\n",
    "    web_page_text_with_spaces = re.sub(\">\", \"> \", web_page_text)\n",
    "    soup = BeautifulSoup(web_page_text_with_spaces)\n",
    "    paragraphs[url] = get_paragraphs(soup)"
   ]
  },
  {
   "cell_type": "code",
   "execution_count": null,
   "metadata": {},
   "outputs": [],
   "source": [
    "przona.save_dict(paragraphs, CSV_DIR+\"paragraphs.csv\")"
   ]
  },
  {
   "cell_type": "markdown",
   "metadata": {},
   "source": [
    "## Keyword search"
   ]
  },
  {
   "cell_type": "code",
   "execution_count": 11,
   "metadata": {},
   "outputs": [],
   "source": [
    "KEYWORD_FILE = \"../data/beeldvormende_diagnostiek.txt\""
   ]
  },
  {
   "cell_type": "code",
   "execution_count": 4,
   "metadata": {},
   "outputs": [],
   "source": [
    "paragraphs = przona.read_dict(CSV_DIR+\"paragraphs.csv\")"
   ]
  },
  {
   "cell_type": "code",
   "execution_count": 14,
   "metadata": {},
   "outputs": [
    {
     "data": {
      "text/plain": [
       "113"
      ]
     },
     "execution_count": 14,
     "metadata": {},
     "output_type": "execute_result"
    }
   ],
   "source": [
    "infile = open(KEYWORD_FILE, \"r\")\n",
    "keywords = []\n",
    "for line in infile:\n",
    "    keywords.append(line.strip().lower())\n",
    "infile.close()\n",
    "len(keywords)"
   ]
  },
  {
   "cell_type": "code",
   "execution_count": 26,
   "metadata": {},
   "outputs": [
    {
     "name": "stdout",
     "output_type": "stream",
     "text": [
      "47600\n"
     ]
    }
   ],
   "source": [
    "matches = {}\n",
    "counter = 0\n",
    "for url in paragraphs:\n",
    "    text = (\" \".join(paragraphs[url])).lower()\n",
    "    nbr_of_matches = 0\n",
    "    for keyword in keywords:\n",
    "        if re.search(r'\\b'+keyword+r'\\b', text):\n",
    "            nbr_of_matches += 1\n",
    "    matches[url] = nbr_of_matches\n",
    "    counter += 1\n",
    "    if counter % 100 == 0:\n",
    "        przona.squeal(counter)"
   ]
  },
  {
   "cell_type": "code",
   "execution_count": 32,
   "metadata": {},
   "outputs": [
    {
     "name": "stdout",
     "output_type": "stream",
     "text": [
      "21 /richtlijn/meningeoom/diagnostiek/beeldvorming.html\n",
      "19 /richtlijn/diabetische_voet/diagnostiek_en_behandeling_charcot/diagnostiek_van_acute_charcot-voet.html\n",
      "19 /richtlijn/necrotiserende_wekedeleninfecties/beeldvormende_diagnostiek_nwdi.html\n",
      "18 /richtlijn/klinische_postmortem_radiologie/indicatiestelling_bij_foetussen_en_neonaten.html\n",
      "17 /richtlijn/fractuur-gerelateerde_infecties_fri_s/beeldvormend_onderzoek.html\n",
      "17 /richtlijn/veneuze_pathologie_varices/varices-diagnostiek_en_onderzoek/varices-overige_beeldvormende_technieken.html\n",
      "17 /richtlijn/primaire_tumor_onbekend/diagnostiek/beeldvormend_onderzoek.html\n",
      "17 /richtlijn/psa_bij_kinderen_op_locaties_buiten_de_ok/randvoorwaarden_toedienen_psa_bij_kinderen/procedures_voor_psa_bij_kinderen.html\n",
      "16 /richtlijn/borstkanker/screening/screening_binnen_het_bob/bob.html\n",
      "16 /richtlijn/borstkanker/diagnostiek/preoperatieve_stadiering/pet_ct.html\n",
      "16 /richtlijn/schildkliercarcinoom/behandeling_recidief_en_afstandsmetastas/locoregionale_recidief_behandeling.html\n",
      "16 /richtlijn/schildkliercarcinoom/diagnostiek/bij_toeval_gevonden_nodus_beeldvormend_o.html\n",
      "16 /richtlijn/schildkliercarcinoom/follow_up/beeldvormende_technieken.html\n",
      "16 /richtlijn/aneurysma_van_de_abdominale_aorta/aanvullende_diagnostiek_bij_een_aaa/beeldvormend_onderzoek_naar_een_aaa.html\n",
      "15 /richtlijn/osteoporose_en_fractuurpreventie/wervelfracturen_en_vfa_bij_osteoporose.html\n",
      "15 /richtlijn/acute_neurologie/acute_neurologie_bij_traumatisch_wervelletsel/opvang_en_behandeling_op_seh_met_wervelletsel/radiologisch_onderzoek_bij_wervelletsel/indicaties_voor_ct_na_screenend_onderzoek.html\n",
      "15 /richtlijn/acute_traumatische_wervelletsels/radiologisch_onderzoek_bij_wervelletsel/indicaties_voor_ct_na_screenend_onderzoek.html\n",
      "15 /richtlijn/colorectaal_carcinoom_crc/follow-up_bij_crc/follow-up_na_chirurgische_resectie_coloncarcinoom_bij_crc.html\n",
      "15 /richtlijn/veneuze_pathologie_varices/varices-diagnostiek_en_onderzoek/varices-duplex.html\n",
      "15 /richtlijn/melanoom/melanoom_-_locoregionale_ziekte/melanoom_-_aanvullend_onderzoek_rol_pet_ct_in_follow-up.html\n"
     ]
    }
   ],
   "source": [
    "counter = 0\n",
    "for key in sorted(matches.keys(), key=lambda key:matches[key], reverse=True):\n",
    "    print(matches[key], key)\n",
    "    counter += 1\n",
    "    if counter >= 20:\n",
    "        break"
   ]
  },
  {
   "cell_type": "code",
   "execution_count": 34,
   "metadata": {},
   "outputs": [],
   "source": [
    "przona.save_dict(matches, CSV_DIR+\"matches.csv\")"
   ]
  },
  {
   "cell_type": "code",
   "execution_count": null,
   "metadata": {},
   "outputs": [],
   "source": []
  }
 ],
 "metadata": {
  "kernelspec": {
   "display_name": "Python 3",
   "language": "python",
   "name": "python3"
  },
  "language_info": {
   "codemirror_mode": {
    "name": "ipython",
    "version": 3
   },
   "file_extension": ".py",
   "mimetype": "text/x-python",
   "name": "python",
   "nbconvert_exporter": "python",
   "pygments_lexer": "ipython3",
   "version": "3.6.11"
  }
 },
 "nbformat": 4,
 "nbformat_minor": 4
}
