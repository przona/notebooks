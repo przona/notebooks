{
 "cells": [
  {
   "cell_type": "markdown",
   "metadata": {},
   "source": [
    "# Content analysis"
   ]
  },
  {
   "cell_type": "code",
   "execution_count": 85,
   "metadata": {},
   "outputs": [],
   "source": [
    "from bs4 import BeautifulSoup\n",
    "from colorama import Fore, Back, Style\n",
    "import csv\n",
    "import os\n",
    "import pandas as pd\n",
    "import re\n",
    "import sys\n",
    "import przona\n",
    "\n",
    "dummy = csv.field_size_limit(sys.maxsize)"
   ]
  },
  {
   "cell_type": "code",
   "execution_count": 2,
   "metadata": {},
   "outputs": [
    {
     "name": "stdout",
     "output_type": "stream",
     "text": [
      "155051\n"
     ]
    }
   ],
   "source": [
    "CSV_DIR = \"csv/\"\n",
    "RECOMMENDATIONS_FILE = \"recommendation_web_pages.csv\"\n",
    "\n",
    "web_pages = przona.read_dict(CSV_DIR+RECOMMENDATIONS_FILE, spy=True)"
   ]
  },
  {
   "cell_type": "markdown",
   "metadata": {},
   "source": [
    "## Text segmentation"
   ]
  },
  {
   "cell_type": "code",
   "execution_count": 53,
   "metadata": {},
   "outputs": [],
   "source": [
    "def get_paragraphs(soup):\n",
    "    paragraphs = []\n",
    "    for paragraph in re.sub('\\\\\\\\r',' ',re.sub('\\\\\\\\t',' ',soup.text)).split('\\\\n'):\n",
    "        paragraph = re.sub(\"\\s+\", \" \", paragraph).strip()\n",
    "        if paragraph != \"\":\n",
    "            paragraphs.append(paragraph)\n",
    "    return(paragraphs)"
   ]
  },
  {
   "cell_type": "code",
   "execution_count": 54,
   "metadata": {},
   "outputs": [],
   "source": [
    "if os.path.isfile(CSV_DIR+\"paragraphs.csv\"):\n",
    "    paragraphs = przona.read_dict(CSV_DIR+\"paragraphs.csv\")\n",
    "else:\n",
    "    paragraphs = {}\n",
    "    counter = 0\n",
    "    for url in web_pages.keys():\n",
    "        counter += 1\n",
    "        if counter % 100 == 0:\n",
    "            squeal(counter)\n",
    "        web_page_text = web_pages[url][0]\n",
    "        web_page_text_with_spaces = re.sub(\">\", \"> \", web_page_text)\n",
    "        soup = BeautifulSoup(web_page_text_with_spaces)\n",
    "        paragraphs[url] = get_paragraphs(soup)\n",
    "    przona.save_dict(paragraphs, CSV_DIR+\"paragraphs.csv\")"
   ]
  },
  {
   "cell_type": "markdown",
   "metadata": {},
   "source": [
    "## Keyword search"
   ]
  },
  {
   "cell_type": "code",
   "execution_count": 3,
   "metadata": {},
   "outputs": [],
   "source": [
    "KEYWORD_FILE = \"../data/beeldvormende_diagnostiek.txt\""
   ]
  },
  {
   "cell_type": "code",
   "execution_count": 4,
   "metadata": {},
   "outputs": [],
   "source": [
    "paragraphs = przona.read_dict(CSV_DIR+\"paragraphs.csv\")"
   ]
  },
  {
   "cell_type": "code",
   "execution_count": 5,
   "metadata": {},
   "outputs": [
    {
     "data": {
      "text/plain": [
       "113"
      ]
     },
     "execution_count": 5,
     "metadata": {},
     "output_type": "execute_result"
    }
   ],
   "source": [
    "infile = open(KEYWORD_FILE, \"r\")\n",
    "keywords = []\n",
    "for line in infile:\n",
    "    keywords.append(line.strip().lower())\n",
    "infile.close()\n",
    "len(keywords)"
   ]
  },
  {
   "cell_type": "code",
   "execution_count": 51,
   "metadata": {},
   "outputs": [],
   "source": [
    "if os.path.isfile(CSV_DIR+\"matches.csv\"):\n",
    "    matches = przona.read_dict(CSV_DIR+\"matches.csv\")\n",
    "else:\n",
    "    matches = {}\n",
    "    counter = 0\n",
    "    for url in paragraphs:\n",
    "        text = \" \".join(paragraphs[url])\n",
    "        matches[url] = []\n",
    "        for keyword in keywords:\n",
    "            if re.search(r'\\b'+keyword+r'\\b', text, flags=re.IGNORECASE):\n",
    "                matches[url].append(keyword)\n",
    "        counter += 1\n",
    "        if counter % 100 == 0:\n",
    "            przona.squeal(counter)\n",
    "    przona.squeal(counter)\n",
    "    przona.save_dict(matches, CSV_DIR+\"matches.csv\")"
   ]
  },
  {
   "cell_type": "code",
   "execution_count": 52,
   "metadata": {},
   "outputs": [
    {
     "name": "stdout",
     "output_type": "stream",
     "text": [
      "21 48293 /richtlijn/meningeoom/diagnostiek/beeldvorming.html\n",
      "19 102977 /richtlijn/diabetische_voet/diagnostiek_en_behandeling_charcot/diagnostiek_van_acute_charcot-voet.html\n",
      "19 45354 /richtlijn/necrotiserende_wekedeleninfecties/beeldvormende_diagnostiek_nwdi.html\n",
      "18 90994 /richtlijn/klinische_postmortem_radiologie/indicatiestelling_bij_foetussen_en_neonaten.html\n",
      "17 43144 /richtlijn/fractuur-gerelateerde_infecties_fri_s/beeldvormend_onderzoek.html\n",
      "17 40131 /richtlijn/veneuze_pathologie_varices/varices-diagnostiek_en_onderzoek/varices-overige_beeldvormende_technieken.html\n",
      "17 52384 /richtlijn/primaire_tumor_onbekend/diagnostiek/beeldvormend_onderzoek.html\n",
      "17 27431 /richtlijn/psa_bij_kinderen_op_locaties_buiten_de_ok/randvoorwaarden_toedienen_psa_bij_kinderen/procedures_voor_psa_bij_kinderen.html\n",
      "16 106091 /richtlijn/borstkanker/screening/screening_binnen_het_bob/bob.html\n",
      "16 108900 /richtlijn/borstkanker/diagnostiek/preoperatieve_stadiering/pet_ct.html\n",
      "16 67006 /richtlijn/schildkliercarcinoom/behandeling_recidief_en_afstandsmetastas/locoregionale_recidief_behandeling.html\n",
      "16 60300 /richtlijn/schildkliercarcinoom/diagnostiek/bij_toeval_gevonden_nodus_beeldvormend_o.html\n",
      "16 70426 /richtlijn/schildkliercarcinoom/follow_up/beeldvormende_technieken.html\n",
      "16 37271 /richtlijn/aneurysma_van_de_abdominale_aorta/aanvullende_diagnostiek_bij_een_aaa/beeldvormend_onderzoek_naar_een_aaa.html\n",
      "15 52729 /richtlijn/osteoporose_en_fractuurpreventie/wervelfracturen_en_vfa_bij_osteoporose.html\n",
      "15 35466 /richtlijn/acute_neurologie/acute_neurologie_bij_traumatisch_wervelletsel/opvang_en_behandeling_op_seh_met_wervelletsel/radiologisch_onderzoek_bij_wervelletsel/indicaties_voor_ct_na_screenend_onderzoek.html\n",
      "15 31810 /richtlijn/acute_traumatische_wervelletsels/radiologisch_onderzoek_bij_wervelletsel/indicaties_voor_ct_na_screenend_onderzoek.html\n",
      "15 54546 /richtlijn/colorectaal_carcinoom_crc/follow-up_bij_crc/follow-up_na_chirurgische_resectie_coloncarcinoom_bij_crc.html\n",
      "15 40395 /richtlijn/veneuze_pathologie_varices/varices-diagnostiek_en_onderzoek/varices-duplex.html\n",
      "15 100875 /richtlijn/melanoom/melanoom_-_locoregionale_ziekte/melanoom_-_aanvullend_onderzoek_rol_pet_ct_in_follow-up.html\n"
     ]
    }
   ],
   "source": [
    "counter = 0\n",
    "for url in sorted(matches.keys(), key=lambda url:len(matches[url]), reverse=True):\n",
    "    print(len(matches[url]), len((\" \".join(paragraphs[url])).lower()), url)\n",
    "    counter += 1\n",
    "    if counter >= 20:\n",
    "        break"
   ]
  },
  {
   "cell_type": "code",
   "execution_count": 49,
   "metadata": {},
   "outputs": [
    {
     "name": "stdout",
     "output_type": "stream",
     "text": [
      "\u001b[32m\u001b[1m6 ['beeld', 'ct', 'beeldvorming', 'mr', 'mri', 'scan']\u001b[0m Indien \u001b[1mbeeldvorming\u001b[0m van een (vermoedelijk) meningeoom door \u001b[1mMRI\u001b[0m bij de diagnostiek of follow-up niet haalbaar is, bijvoorbeeld doordat een patiënt niet lang plat kan liggen of bij contra-indicaties voor een \u001b[1mMRI\u001b[0m, is een \u001b[1mCT\u001b[0m-\u001b[1mscan\u001b[0m, bij voorkeur zonder en met jodiumhoudend contrast, een redelijk alternatief. Daar staat tegenover dat follow-up van een meningeoom met \u001b[1mCT\u001b[0m een herhaalde stralenbelasting betekent; dit in tegenstelling tot \u001b[1mMRI\u001b[0m.\n",
      "\u001b[32m\u001b[1m9 ['beeld', 'computer', 'ct', 'tomografie', 'beeldvormende', 'mr', 'mri', 'radiologisch', 'scan']\u001b[0m Voor het vaststellen van de aanwezigheid van een ruimte-innemende intracraniële afwijking, de nadere differentiatie hiervan en/of de follow-up staan meerdere \u001b[1mbeeldvormende\u001b[0m modaliteiten ter beschikking. Als eerste modaliteit voor patiënten met acute symptomatologie wordt vaak gebruik gemaakt van een blanco \u001b[1mCT\u001b[0m-\u001b[1mscan\u001b[0m, eventueel aangevuld met jodiumhoudend contrast ( 1 ). Voor het vaststellen of er sprake is van een extra-axiale afwijking of een intra-axiale afwijking kan gekeken worden naar een aantal kenmerken, die met name goed te zien zijn op \u001b[1mMRI\u001b[0m : de aanwezigheid van een \"cerebrospinal fluid (CSF) cleft\", dat wil zeggen liquor tussen de hersenschors en de tumor; verplaatsing van de subarachnoïdale vaten, de aanwezigheid van cortex tussen de afwijking en de witte stof, de hoek van de afwijking met de convexiteit (stompe hoek) en de eventuele toename van de subarachnoïdale ruimte. De aanwezigheid van een liquor cleft is het beste te beoordelen op een T2-gewogen \u001b[1mMRI\u001b[0m. Ook kan er gekeken worden naar de aanwezigheid van een dural tail en de aanwezigheid van een ossale reactie: hyperostose. De meeste van deze kenmerken wijzen op een extra-axiale lokalisatie van de laesie, In de differentiaal diagnose van een voor meningeoom verdachte extra-axiale laesie kunnen staan een hemangiopericytoom, een durale metastase, lymfoom of een granuloom (sarcoidose of TBC) ( 2 ) ( 3 ). \u001b[1mComputer\u001b[0m \u001b[1mTomografie\u001b[0m (\u001b[1mCT\u001b[0m) Op een \u001b[1mCT\u001b[0m-\u001b[1mscan\u001b[0m is een meningeoom een extra-axiale massa die isodens (25%) of licht hyperdens (70-75%) is ten opzichte van normaal hersenweefsel en sterk homogeen aankleurt na contrasttoediening. Bij 15% van de patiënten wordt op \u001b[1mCT\u001b[0m een atypisch \u001b[1mradiologisch\u001b[0m \u001b[1mbeeld\u001b[0m gezien met (centrale) necrose, cystevorming, bloeding, onscherpe begrenzing, veel oedeem, multilobulaire groei of inhomogene aankleuring. Deze kenmerken zijn niet bewijzend voor agressieve groei of een hogere maligniteitsgraad ( 4 ) ( 5 ). In 5% van de gevallen veroorzaken meningeomen arachnoïdale cysten, vooral wanneer een meningeoom rond de basale cisternen is gelokaliseerd ( 6 ). Hyperostosis van de schedel wordt bij patiënten met een meningeoom frequent (50-75%) gezien en wordt in een groot deel van de gevallen veroorzaakt door infiltratie van het bot door het meningeoom ( 7 ) ( 8 ) ( 9 ). Hyperostosis is niet specifiek voor meningeomen, maar kan ook voorkomen bij andere (intra)craniële tumoren (bijvoorbeeld lipoom, PNET, lymfoom) ( 10 ) ( 11 ) ( 12 ). De aanwezigheid van calcificaties kan goed worden beoordeeld op een \u001b[1mCT\u001b[0m-\u001b[1mscan\u001b[0m. De aanwezigheid van (psammomateuze) calcificaties is bij 25% van de meningeomen aanwezig en is geassocieerd met tragere groei ( 13 ) ( 14 ).\n",
      "\u001b[32m\u001b[1m6 ['beeld', 'ct', 'beelden', 'mr', 'mri', 'scan']\u001b[0m De dural tail, welke met name goed zichtbaar is op een \u001b[1mMRI\u001b[0m \u001b[1mscan\u001b[0m, kan soms ook worden waargenomen op een post-contrast \u001b[1mCT\u001b[0m-\u001b[1mscan\u001b[0m ( 15 ) ( 16 ). Magnetic Resonance Imaging (\u001b[1mMRI\u001b[0m) Een \u001b[1mMRI\u001b[0m-\u001b[1mscan\u001b[0m geeft bij een verdenking op een meningeoom een betere contrastresolutie van de tumor ten opzichte van de aangrenzende hersengebieden dan een \u001b[1mCT\u001b[0m-\u001b[1mscan\u001b[0m en is onmisbaar bij de diagnostiek van meningeomen van de schedelbasis, de achterste schedelgroeve of een meningeoom en plaque ( 3 ) ( 17 ). Gasparetto et al. onderzochten de \u001b[1mMRI\u001b[0m-kenmerken van 78 patiënten met een meningeoom ( 18 ). Zestig procent van de tumoren had een verlaagde signaalintensiteit op de T1 gewogen \u001b[1mbeelden\u001b[0m, 36% een intermediaire signaalintensiteit en 4% een verhoogde signaalintensiteit. In 60% van de tumoren was de signaalintensiteit heterogeen op T1, en in 40% homogeen. Op de FLAIR \u001b[1mMRI\u001b[0m sequentie had 69% een verhoogde signaalintensiteit, 22% een intermediaire signaalintensiteit en 9% verlaagde signaalintensiteit; bovendien was de signaalintensiteit op FLAIR van 64% van de tumoren heterogeen. Op de T2-gewogen \u001b[1mbeelden\u001b[0m vertoonden 68% van de meningeomen een verhoogde signaalintensiteit, 26% een intermediaire signaalintensiteit en 4% een verlaagde signaalintensiteit. Na toediening van gadolineum kleurde 83% van de tumoren fel aan en 17% matig. In het overgrote deel (64%) was dit een heterogene aankleuring ( 18 ). Maiuri et al. correleerden de signaalintensiteit op \u001b[1mMRI\u001b[0m-\u001b[1mscan\u001b[0m met histologie en concludeerden dat de signaalintensiteit informatie kan geven over de preoperatieve karakteristieken van de intracraniële meningeomen. T1-gewogen \u001b[1mbeelden\u001b[0m kunnen informatie verschaffen over de aanwezigheid van cysten en intratumorale bloedvaten. T2-gewogen \u001b[1mbeelden\u001b[0m kunnen meer informatie geven over histologisch subtype, vascularisatie en consistentie van het tumorweefsel. Meer hyperintense meningeomen op T2-gewogen \u001b[1mbeelden\u001b[0m zijn vaker zacht, meer gevasculariseerd en vaker van het meningotheliale of angiomateuze subtype. Meer hypointense meningeomen op T2 zijn vaker van vastere consistentie en van het fibroblastaire of transitionele subtype ( 19 ).\n",
      "\u001b[32m\u001b[1m6 ['beeld', 'ct', 'beelden', 'mr', 'mri', 'scan']\u001b[0m In de studie van Gasparetto et al. was vasogeen oedeem rondom de tumor aanwezig bij 90% van de tumoren. Dit was discreet bij 50%, matig in 37% en ernstig in 17% van de gevallen. Bij 4% werden kleine bloedingscomponenten gezien, bij 4% cysteuze veranderingen en bij 4% was er calcificatie. Tekenen van botinfiltratie waren aanwezig bij 26%. Een dural tail was aanwezig bij 59% van de tumoren ( 18 ). Oner et al. concludeerden op basis van een onderzoek van 29 patiënten met 46 meningeomen dat in tegenstelling tot andere extra-axiale ziekten er bij meningeomen geen toegevoegde waarde is van een postcontrast FLAIR boven postcontrast T1-gewogen \u001b[1mbeelden\u001b[0m ( 20 ). Dural tail Op een \u001b[1mMRI\u001b[0m-\u001b[1mscan\u001b[0m is de ‘dural tail\\' van een meningeoom beter te zien dan op een \u001b[1mCT\u001b[0m-\u001b[1mscan\u001b[0m. Dit betreft een lokale verdikking van de dura bij de aanhechting van het meningeoom ( 2 ) ( 3 ).\n",
      "\u001b[32m\u001b[1m11 ['digitale', 'beeld', 'ct', 'radiotherapie', 'angiografie', 'arteriograf', 'arteriografie', 'mr', 'mri', 'pet', 'scan']\u001b[0m Een dural tail doet zich vaker supratentorieel voor en minder vaak in de fossa posterior en bij cysteuze meningeomen ( 15 ). De dural tail wordt in 35-80% van de meningeomen gezien, maar is niet pathognomonisch voor de diagnose meningeoom ( 21 ). Rhokni-Yazdi et al. onderzochten de prevalentie van een dural tail in 98 patiënten met een intracraniële tumor. Zij vonden een dural tail in 44% van de patiënten: bij 18 patiënten ging het om een meningeoom, bij 2 om een hypofyse-adenoom, 1 patiënt had een lymfoom en 1 een abces. Van de patiënten met een bewezen meningeoom had 58% een dural tail. In deze studiepopulatie had de aanwezigheid van een dural tail een sensitiviteit van 59% en specificiteit van 94% voor de diagnose meningeoom ( 16 ). Histologisch worden in een deel (ongeveer 50%) van de dural tails tumorcellen gevonden, naast gestuwde durale bloedvaten en ontsteking ( 22 ) ( 23 ) ( 24 ). Qi et al. onderzochten in 179 patiënten die een Simpson graad 1 resectie van een meningeoom ondergingen de aanwezigheid van een dural tail op een preoperatieve \u001b[1mMRI\u001b[0m. De dural tail was gedefinieerd volgens de Goldsher criteria. In 86% van de patiënten betrof het een WHO graad I meningeoom en in 14% een WHO II of III meningeoom. Een nodulair type dural tail was geassocieerd met een WHO II en III meningeoom. Een smooth-type (lineair; egaal-glad begrensd) kwam daarentegen uitsluitend voor bij een WHO graad I meningeoom. Er was tumorinvasie in de dural tail in 88% van de convexiteitsmeningeomen, waarbij 82% zich binnen 2 cm en 95% zich binnen 2,5 cm bevond ( 25 ). Peri-tumoraal oedeem (T2/FLAIR hyperintense afwijkingen) Op FLAIR of T2 gewogen \u001b[1mMRI\u001b[0m-scans kunnen rondom (vermoedelijke) meningeomen hyperintense afwijkingen zichtbaar zijn. Deze kunnen veroorzaakt zijn door vasogeen oedeem, veneuze obstructie of cerebrale gliose door langdurige compressie. Deze hyperintense afwijkingen blijven soms ook postoperatief bestaan ( 26 ). In een studie bij 51 patiënten met meningeomen met peritumoraal oedeem op T2/FLAIR bleken de volgende factoren hiermee geassocieerd te zijn: de configuratie van de tumorrand, de peritumorale rand en de signaalintensiteit van de tumor op T2/FLAIR ( 27 ). Gurkanlar et al. onderzochten in een groep van 55 patiënten met meningeomen de relatie tussen locatie, leeftijd en gradering van het meningeoom enerzijds en peritumoraal oedeem op T2/FLAIR anderzijds. Zij vonden geen relatie tussen deze hyperintense afwijkingen en het geslacht van de patiënt of de locatie en histologische subtype van het meningeoom. Wel was er een positieve relatie tussen de mate van oedeem op T2/FLAIR rond het meningeoom en de leeftijd van een patiënt. Tumorgrootte en tumorranden (egaal versus gelobd) waren niet geassocieerd met peritumorale hyperintense afwijkingen op T2/FLAIR ( 28 ). Additionele \u001b[1mMRI\u001b[0m-sequenties Yin et al. vonden in een retrospectieve groep van 138 patiënten dat de ADC waarde (apparent diffusion coefficient) verlaagd was in de groep met een WHO graad II en III meningeoom in vergelijking met een WHO graad I meningeoom ( 29 ). Om de relatie van het meningeoom met de veneuze sinussen of cerebrale arteriën in \u001b[1mbeeld\u001b[0m te brengen, kan preoperatief een \u001b[1mMR\u001b[0m Venografie (MRV) of \u001b[1mMR\u001b[0m \u001b[1mArteriografie\u001b[0m (MRA) worden verricht (zie ook angiografisch onderzoek ) ( 3 ) ( 2 ). Tot op heden is er geen bewezen toegevoegde waarde van \u001b[1mMR\u001b[0m Spectroscopy (MRS) en \u001b[1mMRI\u001b[0m perfusie in de diagnostiek en follow-up van meningeomen aangetoond ( 30 ). \u001b[1mAngiografie\u001b[0m Kennis van de bloedvoorziening of ingroei in de sinussen kan van belang zijn voor een eventuele preoperatieve embolisatie en chirurgische verwijdering ( 2 ) ( 3 ). Voor het in kaart brengen van deze arteriële aanvoer en veneuze afvloed kan gebruikt worden gemaakt van \u001b[1mdigitale\u001b[0m substractie \u001b[1mangiografie\u001b[0m (DSA). Meningeomen zijn vaatrijke tumoren en vertonen bij \u001b[1mangiografie\u001b[0m een karakteristieke ‘tumor blush\\' vanuit de capillaire fase tot aan de veneuze fase. Deze blush, ook wel \"the mother in law-appearance\" genoemd (‘comes early, stays late\\'), is karakteristiek voor meningeomen. In 85% van de gevallen gaat de vascularisatie uit van de meningeale takken van de arteria carotis externa. MRA en MRV vormen een goedalternatief voor conventionele \u001b[1mangiografie\u001b[0m om de verplaatsing van arteriën en venen en de ingroei in sinussen door een meningeoom zichtbaar te maken ( 3 ). In voorkomende gevallen kan DSA worden gebruikt om te differentiëren tussen meningeomen en andere typen tumoren, wanneer er op grond van conventionele \u001b[1mMRI\u001b[0m en \u001b[1mCT\u001b[0m geen onderscheid kan worden gemaakt. Het angiografisch onderzoek heeft daarnaast als voordeel dat er aansluitend (preoperatieve) embolisatie plaats kan vinden. Preoperatieve embolisatie kan worden ingezet om peroperatief bloedverlies te beperken. Er zijn geen grote vergelijkende studies beschikbaar met betrekking tot preoperatieve embolisatie van meningeomen. De beschikbare data zijn vooral afkomstig van case series ( 31 ) ( 32 ) ( 33 ) ( 34 ). 111 Indium-octreotide SPECT \u001b[1mscan\u001b[0m Bij twijfel over de aard van de tumor kan een nucleair onderzoek met een 111 indium-octreotide SPECT \u001b[1mscan\u001b[0m meer duidelijkheid geven. Octreotide bindt aan somatostatine receptoren, die aanwezig zijn op alle meningeomen. Een vals-positieve \u001b[1mscan\u001b[0m is mogelijk omdat somatostatinereceptoren ook aanwezig kunnen zijn op een ganglioneuroblastoom, medulloblastoom en sommige typen hersenmetastasen (onder andere niercelcarcinoom, niet-kleincellig longcarcinoom en lymfoom) ( 35 ). Een recente studie liet een hoge sensitiviteit en specificiteit zien van een 111 indium-octreotide SPECT \u001b[1mscan\u001b[0m voor een meningeoom in patiënten met een craniale durale massa ( 36 ). In 96% van de meningeomen was er een hoge uptake op een 111 indium-octreotide SPECT en een lage uptake op FDG-\u001b[1mPET\u001b[0m. In gevallen waar een definitieve diagnose beschikbaar was, had de 111 indium-octreotide SPECT \u001b[1mscan\u001b[0m alleen een sensitiviteit van 100% en een specificiteit van 50%. Drie vals-positieve resultaten werden gevonden (metastase, chronische ontsteking, lymfoom). Het gebruik van 111 indium-octreotide SPECT in combinatie met \u001b[1mMRI\u001b[0m om meningeomen te onderscheiden van andere laesies had daarmee een goede diagnostische waarde. Ook bij patiënten met een tumor in de orbita is de sensitiviteit en specificiteit van een 111 indium-octreotide SPECT \u001b[1mscan\u001b[0m voor de diagnose opticusmeningeoom hoog: 100% sensitiviteit en 97,2% specificiteit ( 37 ). Wang et al. onderzochten de relatie tussen 99m Tc-octeotride SPECT/\u001b[1mCT\u001b[0m somatostatine receptor scintigrafie en de histologische gradering in 30 meningeomen. De ratio\\'s van somatostatine accumulatie voor de 20 WHO graad I meningeomen was significant lager dan de ratio\\'s van de 10 WHO graad II meningeomen ( 38 ). Studies met andere nucleaire tracers suggereerden eveneens een positieve relatie tussen tracer opname en een hogere maligniteitsgraad van meningeomen ( 39 ) ( 40 ) ( 41 ). Validatiestudies ontbreken vooralsnog. \u001b[1mPET\u001b[0m \u001b[1mscan\u001b[0m Het gebruik van \u001b[1mPET\u001b[0m staat bij meningeomen nog in de kinderschoenen en de klinische waarde is nog niet duidelijk ( 42 ). Voor zover bekend is er geen specifieke tracer die duidelijk superieur is aan de andere ( 42 ). Het gebruik van 68Ga-DOTATOC-\u001b[1mPET\u001b[0m is veelbelovend. Deze tracer verbindt het radioactieve isotoop gallium-168 aan octreotide dat bindt aan de somatostatine-receptor (T1/2 = 68 min) op meningeomen. Een beperking voor het gebruik van deze tracer vormt de regio rond de sella turcica, omdat de normale hypofyse veel somatostatine receptoren bevat. Er zijn geen studies verricht naar de relatie tussen \u001b[1mPET\u001b[0m onderzoek en histologische verificatie van een durale laesie. In de toekomst zou \u001b[1mPET\u001b[0m kunnen helpen bij het bepalen van het doelgebied voor stereotactische \u001b[1mradiotherapie\u001b[0m van complexe schedelbasis meningeomen of van een recidief meningeoom na operatie ( 42 ). Voordat deze techniek binnen de \u001b[1mradiotherapie\u001b[0m (-planning) gebruikt kan worden, moeten echter nog meerdere aspecten worden onderzocht, bijvoorbeeld hoe om te gaan met \u001b[1mPET\u001b[0m-positieve gebieden zonder \u001b[1mCT\u001b[0m/\u001b[1mMRI\u001b[0m correlatie en vice versa ( 42 ). Voor aanbevelingen ten aanzien van minimaal te verrichten \u001b[1mMRI\u001b[0m sequenties zie hieronder. De meest recente versie voor een \u001b[1mMRI\u001b[0m protocol kan worden gevonden op www.radiologen.nl .\n"
     ]
    }
   ],
   "source": [
    "keyword = keywords[0]\n",
    "url = \"/richtlijn/meningeoom/diagnostiek/beeldvorming.html\"\n",
    "for p in paragraphs[url]:\n",
    "    matches_per_p = []\n",
    "    for keyword in keywords:\n",
    "        if re.search(keyword, p, flags=re.IGNORECASE):\n",
    "            p = re.sub(r'(\\b'+keyword+r'\\b)', Style.BRIGHT+\"\\\\1\"+Style.RESET_ALL, p, flags=re.IGNORECASE)\n",
    "            matches_per_p.append(keyword)\n",
    "    if len(set(matches_per_p)) >= 5: \n",
    "        print(Fore.GREEN+Style.BRIGHT+str(len(set(matches_per_p))), str(matches_per_p)+Style.RESET_ALL, p)"
   ]
  },
  {
   "cell_type": "markdown",
   "metadata": {},
   "source": [
    "## Analysis based on treatment phase"
   ]
  },
  {
   "cell_type": "code",
   "execution_count": 72,
   "metadata": {},
   "outputs": [],
   "source": [
    "defined_phases = [\"diagnostiek\", \"behandeling\", \"therapie\", \"preventie\", \"interventie\", \"onderzoek\", \"nazorg\", \"screening\"]"
   ]
  },
  {
   "cell_type": "code",
   "execution_count": 66,
   "metadata": {},
   "outputs": [
    {
     "data": {
      "text/plain": [
       "[('bij', 2871),\n",
       " ('behandeling', 1530),\n",
       " ('van', 1177),\n",
       " ('en', 1123),\n",
       " ('diagnostiek', 787),\n",
       " ('-', 614),\n",
       " ('zorg', 361),\n",
       " ('organisatie', 280),\n",
       " ('de', 276),\n",
       " ('acute', 243)]"
      ]
     },
     "execution_count": 66,
     "metadata": {},
     "output_type": "execute_result"
    }
   ],
   "source": [
    "phases = {}\n",
    "for url in web_pages:\n",
    "    if re.search(\"^/richtlijn/\", url):\n",
    "        try:\n",
    "            phase = url.split(\"/\")[3]\n",
    "            if phase != \"\":\n",
    "                for token in phase.split(\"_\"):\n",
    "                    if token in phases: \n",
    "                        phases[token] += 1\n",
    "                    else:\n",
    "                        phases[token] = 1\n",
    "        except:\n",
    "            pass\n",
    "list({phase:phases[phase] for phase in sorted(phases.keys(), key=lambda phase:phases[phase], reverse=True)}.items())[:10]"
   ]
  },
  {
   "cell_type": "code",
   "execution_count": 77,
   "metadata": {},
   "outputs": [
    {
     "name": "stdout",
     "output_type": "stream",
     "text": [
      "47689\n"
     ]
    }
   ],
   "source": [
    "counter = 0\n",
    "analysis = {}\n",
    "for url in paragraphs:\n",
    "    if re.search(\"/richtlijn\", url):\n",
    "        text = \" \".join(paragraphs[url])\n",
    "        topic = url.split(\"/\")[2]\n",
    "        matches_page = None\n",
    "        for phase in defined_phases:\n",
    "            if re.search(phase, url):\n",
    "                if matches_page == None:\n",
    "                    matches_page = []\n",
    "                    for keyword in keywords:\n",
    "                        if re.search(r'\\b'+keyword+r'\\b', text, flags=re.IGNORECASE):\n",
    "                            matches_page.append(keyword)\n",
    "                if topic not in analysis:\n",
    "                    analysis[topic] = {}\n",
    "                analysis[topic][phase] = len(matches_page)\n",
    "    counter += 1\n",
    "    if counter % 100 == 0:\n",
    "        przona.squeal(counter)\n",
    "przona.squeal(counter)"
   ]
  },
  {
   "cell_type": "code",
   "execution_count": 78,
   "metadata": {},
   "outputs": [
    {
     "data": {
      "text/plain": [
       "323"
      ]
     },
     "execution_count": 78,
     "metadata": {},
     "output_type": "execute_result"
    }
   ],
   "source": [
    "len(analysis)"
   ]
  },
  {
   "cell_type": "code",
   "execution_count": 90,
   "metadata": {},
   "outputs": [],
   "source": [
    "total = {}\n",
    "for topic in analysis:\n",
    "    total_row = 0\n",
    "    for phase in analysis[topic]:\n",
    "        if phase not in total: total[phase] = 0\n",
    "        total[phase] += analysis[topic][phase]\n",
    "        total_row += analysis[topic][phase]\n",
    "    analysis[topic][\"totaal\"] = total_row\n",
    "analysis[\"totaal\"] = total"
   ]
  },
  {
   "cell_type": "code",
   "execution_count": 106,
   "metadata": {},
   "outputs": [],
   "source": [
    "analysis = {topic:{ phase:analysis[topic][phase] for phase in sorted(analysis[topic].keys(), key=lambda phase:analysis[\"totaal\"][phase], reverse=True)}\n",
    "            for topic in sorted(analysis.keys(), key=lambda t:analysis[t][\"totaal\"], reverse=True)}"
   ]
  },
  {
   "cell_type": "code",
   "execution_count": 107,
   "metadata": {},
   "outputs": [
    {
     "data": {
      "text/html": [
       "<div>\n",
       "<style scoped>\n",
       "    .dataframe tbody tr th:only-of-type {\n",
       "        vertical-align: middle;\n",
       "    }\n",
       "\n",
       "    .dataframe tbody tr th {\n",
       "        vertical-align: top;\n",
       "    }\n",
       "\n",
       "    .dataframe thead th {\n",
       "        text-align: right;\n",
       "    }\n",
       "</style>\n",
       "<table border=\"1\" class=\"dataframe\">\n",
       "  <thead>\n",
       "    <tr style=\"text-align: right;\">\n",
       "      <th></th>\n",
       "      <th>totaal</th>\n",
       "      <th>diagnostiek</th>\n",
       "      <th>behandeling</th>\n",
       "      <th>onderzoek</th>\n",
       "      <th>therapie</th>\n",
       "      <th>screening</th>\n",
       "      <th>interventie</th>\n",
       "      <th>preventie</th>\n",
       "      <th>nazorg</th>\n",
       "    </tr>\n",
       "  </thead>\n",
       "  <tbody>\n",
       "    <tr>\n",
       "      <th>totaal</th>\n",
       "      <td>3368.0</td>\n",
       "      <td>933.0</td>\n",
       "      <td>725.0</td>\n",
       "      <td>569.0</td>\n",
       "      <td>452.0</td>\n",
       "      <td>258.0</td>\n",
       "      <td>163.0</td>\n",
       "      <td>159.0</td>\n",
       "      <td>109.0</td>\n",
       "    </tr>\n",
       "    <tr>\n",
       "      <th>colorectaal_carcinoom_crc</th>\n",
       "      <td>71.0</td>\n",
       "      <td>14.0</td>\n",
       "      <td>8.0</td>\n",
       "      <td>8.0</td>\n",
       "      <td>9.0</td>\n",
       "      <td>8.0</td>\n",
       "      <td>8.0</td>\n",
       "      <td>8.0</td>\n",
       "      <td>8.0</td>\n",
       "    </tr>\n",
       "    <tr>\n",
       "      <th>borstkanker</th>\n",
       "      <td>68.0</td>\n",
       "      <td>16.0</td>\n",
       "      <td>9.0</td>\n",
       "      <td>12.0</td>\n",
       "      <td>11.0</td>\n",
       "      <td>11.0</td>\n",
       "      <td>NaN</td>\n",
       "      <td>NaN</td>\n",
       "      <td>9.0</td>\n",
       "    </tr>\n",
       "    <tr>\n",
       "      <th>acute_neurologie</th>\n",
       "      <td>67.0</td>\n",
       "      <td>11.0</td>\n",
       "      <td>11.0</td>\n",
       "      <td>11.0</td>\n",
       "      <td>7.0</td>\n",
       "      <td>12.0</td>\n",
       "      <td>9.0</td>\n",
       "      <td>6.0</td>\n",
       "      <td>NaN</td>\n",
       "    </tr>\n",
       "    <tr>\n",
       "      <th>dementie</th>\n",
       "      <td>59.0</td>\n",
       "      <td>10.0</td>\n",
       "      <td>10.0</td>\n",
       "      <td>10.0</td>\n",
       "      <td>10.0</td>\n",
       "      <td>9.0</td>\n",
       "      <td>10.0</td>\n",
       "      <td>NaN</td>\n",
       "      <td>NaN</td>\n",
       "    </tr>\n",
       "    <tr>\n",
       "      <th>...</th>\n",
       "      <td>...</td>\n",
       "      <td>...</td>\n",
       "      <td>...</td>\n",
       "      <td>...</td>\n",
       "      <td>...</td>\n",
       "      <td>...</td>\n",
       "      <td>...</td>\n",
       "      <td>...</td>\n",
       "      <td>...</td>\n",
       "    </tr>\n",
       "    <tr>\n",
       "      <th>myotone_dystrofie_type1</th>\n",
       "      <td>0.0</td>\n",
       "      <td>NaN</td>\n",
       "      <td>0.0</td>\n",
       "      <td>NaN</td>\n",
       "      <td>NaN</td>\n",
       "      <td>NaN</td>\n",
       "      <td>NaN</td>\n",
       "      <td>NaN</td>\n",
       "      <td>NaN</td>\n",
       "    </tr>\n",
       "    <tr>\n",
       "      <th>palliatieve_zorg_voor_mensen_met_copd</th>\n",
       "      <td>0.0</td>\n",
       "      <td>NaN</td>\n",
       "      <td>0.0</td>\n",
       "      <td>NaN</td>\n",
       "      <td>NaN</td>\n",
       "      <td>NaN</td>\n",
       "      <td>NaN</td>\n",
       "      <td>NaN</td>\n",
       "      <td>NaN</td>\n",
       "    </tr>\n",
       "    <tr>\n",
       "      <th>hormoontherapie_van_klachten_in_het_climacterium_en_de_postmenopauze</th>\n",
       "      <td>0.0</td>\n",
       "      <td>NaN</td>\n",
       "      <td>NaN</td>\n",
       "      <td>NaN</td>\n",
       "      <td>0.0</td>\n",
       "      <td>NaN</td>\n",
       "      <td>NaN</td>\n",
       "      <td>NaN</td>\n",
       "      <td>NaN</td>\n",
       "    </tr>\n",
       "    <tr>\n",
       "      <th>hemorrhagia_postpartum_hpp</th>\n",
       "      <td>0.0</td>\n",
       "      <td>NaN</td>\n",
       "      <td>NaN</td>\n",
       "      <td>NaN</td>\n",
       "      <td>NaN</td>\n",
       "      <td>NaN</td>\n",
       "      <td>NaN</td>\n",
       "      <td>0.0</td>\n",
       "      <td>NaN</td>\n",
       "    </tr>\n",
       "    <tr>\n",
       "      <th>moleculaire_diagnostiek_van_infectieziekten</th>\n",
       "      <td>0.0</td>\n",
       "      <td>0.0</td>\n",
       "      <td>NaN</td>\n",
       "      <td>NaN</td>\n",
       "      <td>NaN</td>\n",
       "      <td>NaN</td>\n",
       "      <td>NaN</td>\n",
       "      <td>NaN</td>\n",
       "      <td>NaN</td>\n",
       "    </tr>\n",
       "  </tbody>\n",
       "</table>\n",
       "<p>324 rows × 9 columns</p>\n",
       "</div>"
      ],
      "text/plain": [
       "                                                    totaal  diagnostiek  \\\n",
       "totaal                                              3368.0        933.0   \n",
       "colorectaal_carcinoom_crc                             71.0         14.0   \n",
       "borstkanker                                           68.0         16.0   \n",
       "acute_neurologie                                      67.0         11.0   \n",
       "dementie                                              59.0         10.0   \n",
       "...                                                    ...          ...   \n",
       "myotone_dystrofie_type1                                0.0          NaN   \n",
       "palliatieve_zorg_voor_mensen_met_copd                  0.0          NaN   \n",
       "hormoontherapie_van_klachten_in_het_climacteriu...     0.0          NaN   \n",
       "hemorrhagia_postpartum_hpp                             0.0          NaN   \n",
       "moleculaire_diagnostiek_van_infectieziekten            0.0          0.0   \n",
       "\n",
       "                                                    behandeling  onderzoek  \\\n",
       "totaal                                                    725.0      569.0   \n",
       "colorectaal_carcinoom_crc                                   8.0        8.0   \n",
       "borstkanker                                                 9.0       12.0   \n",
       "acute_neurologie                                           11.0       11.0   \n",
       "dementie                                                   10.0       10.0   \n",
       "...                                                         ...        ...   \n",
       "myotone_dystrofie_type1                                     0.0        NaN   \n",
       "palliatieve_zorg_voor_mensen_met_copd                       0.0        NaN   \n",
       "hormoontherapie_van_klachten_in_het_climacteriu...          NaN        NaN   \n",
       "hemorrhagia_postpartum_hpp                                  NaN        NaN   \n",
       "moleculaire_diagnostiek_van_infectieziekten                 NaN        NaN   \n",
       "\n",
       "                                                    therapie  screening  \\\n",
       "totaal                                                 452.0      258.0   \n",
       "colorectaal_carcinoom_crc                                9.0        8.0   \n",
       "borstkanker                                             11.0       11.0   \n",
       "acute_neurologie                                         7.0       12.0   \n",
       "dementie                                                10.0        9.0   \n",
       "...                                                      ...        ...   \n",
       "myotone_dystrofie_type1                                  NaN        NaN   \n",
       "palliatieve_zorg_voor_mensen_met_copd                    NaN        NaN   \n",
       "hormoontherapie_van_klachten_in_het_climacteriu...       0.0        NaN   \n",
       "hemorrhagia_postpartum_hpp                               NaN        NaN   \n",
       "moleculaire_diagnostiek_van_infectieziekten              NaN        NaN   \n",
       "\n",
       "                                                    interventie  preventie  \\\n",
       "totaal                                                    163.0      159.0   \n",
       "colorectaal_carcinoom_crc                                   8.0        8.0   \n",
       "borstkanker                                                 NaN        NaN   \n",
       "acute_neurologie                                            9.0        6.0   \n",
       "dementie                                                   10.0        NaN   \n",
       "...                                                         ...        ...   \n",
       "myotone_dystrofie_type1                                     NaN        NaN   \n",
       "palliatieve_zorg_voor_mensen_met_copd                       NaN        NaN   \n",
       "hormoontherapie_van_klachten_in_het_climacteriu...          NaN        NaN   \n",
       "hemorrhagia_postpartum_hpp                                  NaN        0.0   \n",
       "moleculaire_diagnostiek_van_infectieziekten                 NaN        NaN   \n",
       "\n",
       "                                                    nazorg  \n",
       "totaal                                               109.0  \n",
       "colorectaal_carcinoom_crc                              8.0  \n",
       "borstkanker                                            9.0  \n",
       "acute_neurologie                                       NaN  \n",
       "dementie                                               NaN  \n",
       "...                                                    ...  \n",
       "myotone_dystrofie_type1                                NaN  \n",
       "palliatieve_zorg_voor_mensen_met_copd                  NaN  \n",
       "hormoontherapie_van_klachten_in_het_climacteriu...     NaN  \n",
       "hemorrhagia_postpartum_hpp                             NaN  \n",
       "moleculaire_diagnostiek_van_infectieziekten            NaN  \n",
       "\n",
       "[324 rows x 9 columns]"
      ]
     },
     "execution_count": 107,
     "metadata": {},
     "output_type": "execute_result"
    }
   ],
   "source": [
    "pd.DataFrame(analysis).T"
   ]
  },
  {
   "cell_type": "code",
   "execution_count": null,
   "metadata": {},
   "outputs": [],
   "source": []
  }
 ],
 "metadata": {
  "kernelspec": {
   "display_name": "Python 3",
   "language": "python",
   "name": "python3"
  },
  "language_info": {
   "codemirror_mode": {
    "name": "ipython",
    "version": 3
   },
   "file_extension": ".py",
   "mimetype": "text/x-python",
   "name": "python",
   "nbconvert_exporter": "python",
   "pygments_lexer": "ipython3",
   "version": "3.6.11"
  }
 },
 "nbformat": 4,
 "nbformat_minor": 4
}
