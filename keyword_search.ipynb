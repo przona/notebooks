{
 "cells": [
  {
   "cell_type": "markdown",
   "metadata": {},
   "source": [
    "# Keyword search"
   ]
  },
  {
   "cell_type": "code",
   "execution_count": 18,
   "metadata": {},
   "outputs": [],
   "source": [
    "from bs4 import BeautifulSoup\n",
    "from colorama import Fore, Back, Style\n",
    "import csv\n",
    "import re\n",
    "import sys\n",
    "\n",
    "dummy = csv.field_size_limit(sys.maxsize)"
   ]
  },
  {
   "cell_type": "code",
   "execution_count": 2,
   "metadata": {},
   "outputs": [],
   "source": [
    "from IPython.display import clear_output\n",
    "\n",
    "def squeal(text=None):\n",
    "    clear_output(wait=True)\n",
    "    if not text is None: print(text)"
   ]
  },
  {
   "cell_type": "code",
   "execution_count": 3,
   "metadata": {},
   "outputs": [],
   "source": [
    "def save_dict(dictionary, out_file_name, mode=\"w\"):\n",
    "    out_file = open(out_file_name, mode)\n",
    "    csvwriter = csv.writer(out_file)\n",
    "    for key in dictionary:\n",
    "        if type(dictionary[key]) == dict:\n",
    "            row = [key]\n",
    "            row.extend(list(dictionary[key].values()))\n",
    "            csvwriter.writerow(row)\n",
    "        elif type(dictionary[key]) == list:\n",
    "            row = [key]\n",
    "            row.extend(dictionary[key])\n",
    "            csvwriter.writerow(row)\n",
    "        else:\n",
    "            row = [key, dictionary[key]]\n",
    "            csvwriter.writerow(row)\n",
    "    out_file.close()\n",
    "\n",
    "    \n",
    "def read_dict(file_name, spy=False):\n",
    "    counter = 0\n",
    "    dict_out = {}\n",
    "    infile = open(file_name,\"r\")\n",
    "    csvreader = csv.reader(infile)\n",
    "    for row in csvreader:\n",
    "        counter += 1\n",
    "        if len(row) == 0:\n",
    "            print(Fore.RED,\"cannot happen\")\n",
    "        else:\n",
    "            index = row.pop(0)\n",
    "            if len(row) == 0:\n",
    "                dict_out[index] = []\n",
    "            elif type(row) == str:\n",
    "                dict_out[index] = [row]\n",
    "            else:\n",
    "                dict_out[index] = row\n",
    "        if counter % 100 == 0:\n",
    "            if spy: \n",
    "                squeal(counter)\n",
    "    if spy:\n",
    "        squeal(counter)\n",
    "    infile.close()\n",
    "    return(dict_out)"
   ]
  },
  {
   "cell_type": "code",
   "execution_count": 7,
   "metadata": {},
   "outputs": [
    {
     "name": "stdout",
     "output_type": "stream",
     "text": [
      "155051\n"
     ]
    }
   ],
   "source": [
    "CSV_DIR = \"csv/\"\n",
    "RECOMMENDATIONS_FILE = \"recommendation_web_pages.csv\"\n",
    "\n",
    "web_pages = read_dict(CSV_DIR+RECOMMENDATIONS_FILE, spy=True)"
   ]
  },
  {
   "cell_type": "markdown",
   "metadata": {},
   "source": [
    "## Text segmentation"
   ]
  },
  {
   "cell_type": "code",
   "execution_count": 35,
   "metadata": {},
   "outputs": [],
   "source": [
    "def get_paragraphs(soup):\n",
    "    paragraphs = []\n",
    "    for paragraph in re.sub('\\\\\\\\r',' ',re.sub('\\\\\\\\t',' ',soup.text)).split('\\\\n'):\n",
    "        paragraph = re.sub(\"\\s+\", \" \", paragraph).strip()\n",
    "        if paragraph != \"\":\n",
    "            paragraphs.append(paragraph)\n",
    "    return(paragraphs)"
   ]
  },
  {
   "cell_type": "code",
   "execution_count": 38,
   "metadata": {},
   "outputs": [
    {
     "name": "stdout",
     "output_type": "stream",
     "text": [
      "47600\n"
     ]
    }
   ],
   "source": [
    "paragraphs = {}\n",
    "counter = 0\n",
    "for url in web_pages.keys():\n",
    "    counter += 1\n",
    "    if counter % 100 == 0:\n",
    "        squeal(counter)\n",
    "    web_page_text = web_pages[url][0]\n",
    "    web_page_text_with_spaces = re.sub(\">\", \"> \", web_page_text)\n",
    "    soup = BeautifulSoup(web_page_text_with_spaces)\n",
    "    paragraphs[url] = get_paragraphs(soup)"
   ]
  },
  {
   "cell_type": "code",
   "execution_count": 39,
   "metadata": {},
   "outputs": [],
   "source": [
    "save_dict(paragraphs, CSV_DIR+\"paragraphs.csv\")"
   ]
  },
  {
   "cell_type": "code",
   "execution_count": null,
   "metadata": {},
   "outputs": [],
   "source": []
  }
 ],
 "metadata": {
  "kernelspec": {
   "display_name": "Python 3",
   "language": "python",
   "name": "python3"
  },
  "language_info": {
   "codemirror_mode": {
    "name": "ipython",
    "version": 3
   },
   "file_extension": ".py",
   "mimetype": "text/x-python",
   "name": "python",
   "nbconvert_exporter": "python",
   "pygments_lexer": "ipython3",
   "version": "3.6.11"
  }
 },
 "nbformat": 4,
 "nbformat_minor": 4
}
