{
 "cells": [
  {
   "cell_type": "markdown",
   "id": "3f53b79b-8730-478b-91cd-195d39d48cdf",
   "metadata": {},
   "source": [
    "# Get paragraphs from web pages"
   ]
  },
  {
   "cell_type": "code",
   "execution_count": 1,
   "id": "bc761e2d-9e74-40bd-a999-fa324dac05e5",
   "metadata": {},
   "outputs": [],
   "source": [
    "from bs4 import BeautifulSoup\n",
    "import os\n",
    "import przona\n",
    "import re"
   ]
  },
  {
   "cell_type": "code",
   "execution_count": 2,
   "id": "2d008bef-05a6-4d83-918f-937f8f3c47c2",
   "metadata": {},
   "outputs": [],
   "source": [
    "DATA_DIR = \"../data/richtlijnendatabase.nl/richtlijn/\""
   ]
  },
  {
   "cell_type": "code",
   "execution_count": 3,
   "id": "730c59a5-187e-4abb-a4ef-65da6566465b",
   "metadata": {},
   "outputs": [],
   "source": [
    "def get_text_from_file(file_with_dir_name):\n",
    "    try:\n",
    "        infile = open(file_with_dir_name)\n",
    "        text = \"\"\n",
    "        for line in infile:\n",
    "            text += line\n",
    "        infile.close()\n",
    "        return(text)\n",
    "    except Exception as e:\n",
    "        sys.exit(f\"get_text_from_file: failed processing file {file_with_dir_name}\")"
   ]
  },
  {
   "cell_type": "code",
   "execution_count": 4,
   "id": "bf8abb3f-366b-4c41-b97b-40bf23857e21",
   "metadata": {},
   "outputs": [],
   "source": [
    "def shorten_dir_name(file_name_with_dir):\n",
    "    return re.sub(DATA_DIR, \"/richtlijn/\", file_name_with_dir)"
   ]
  },
  {
   "cell_type": "code",
   "execution_count": 15,
   "id": "1f7265f3-04eb-46ca-b589-ac4a65266e85",
   "metadata": {},
   "outputs": [],
   "source": [
    "def get_paragraphs_from_file(file_with_dir_name):\n",
    "    text = get_text_from_file(file_with_dir_name)\n",
    "    soup = BeautifulSoup(text)\n",
    "    paragraphs = []\n",
    "    for tag in soup.findAll([\"p\", \"h1\", \"h2\", \"h3\", \"h4\"]):\n",
    "        paragraphs.append(re.sub('\\n', ' ', tag.text))\n",
    "    return paragraphs"
   ]
  },
  {
   "cell_type": "code",
   "execution_count": 9,
   "id": "cff5ddf5-29bf-4878-8b95-f347c3d44847",
   "metadata": {},
   "outputs": [],
   "source": [
    "def get_paragraphs_from_dir(dir_name, paragraphs_all):\n",
    "    for file_name in os.listdir(dir_name):\n",
    "        file_with_dir_name = os.path.join(dir_name, file_name)\n",
    "        if os.path.isdir(file_with_dir_name):\n",
    "            get_paragraphs_from_dir(file_with_dir_name, paragraphs_all)\n",
    "        elif os.path.isfile(file_with_dir_name):\n",
    "            paragraphs_all[shorten_dir_name(file_with_dir_name)] = get_paragraphs_from_file(file_with_dir_name)\n",
    "        else:\n",
    "            print(f\"get_paragraphs_from_dir: cannot process {file_with_dir_name}\")  "
   ]
  },
  {
   "cell_type": "code",
   "execution_count": 16,
   "id": "effc8b19-ae31-4449-986d-5a26f6c8bf88",
   "metadata": {},
   "outputs": [],
   "source": [
    "paragraphs_all = {}\n",
    "get_paragraphs_from_dir(DATA_DIR, paragraphs_all)"
   ]
  },
  {
   "cell_type": "code",
   "execution_count": 17,
   "id": "f54810fb-7186-4911-832c-d615f9e4839a",
   "metadata": {},
   "outputs": [],
   "source": [
    "przona.save_dict(paragraphs_all, \"csv/paragraphs_20210621.csv\")"
   ]
  },
  {
   "cell_type": "code",
   "execution_count": null,
   "id": "2ef93a47-7c4f-44ec-96fa-778e6e6b0313",
   "metadata": {},
   "outputs": [],
   "source": []
  }
 ],
 "metadata": {
  "kernelspec": {
   "display_name": "python37",
   "language": "python",
   "name": "python37"
  },
  "language_info": {
   "codemirror_mode": {
    "name": "ipython",
    "version": 3
   },
   "file_extension": ".py",
   "mimetype": "text/x-python",
   "name": "python",
   "nbconvert_exporter": "python",
   "pygments_lexer": "ipython3",
   "version": "3.7.3"
  }
 },
 "nbformat": 4,
 "nbformat_minor": 5
}
