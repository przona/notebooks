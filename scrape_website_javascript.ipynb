{
 "cells": [
  {
   "cell_type": "markdown",
   "id": "bdc3ff81-3558-4cfc-a412-78d700681b0a",
   "metadata": {},
   "source": [
    "# Scrape Website (Javascript sites)"
   ]
  },
  {
   "cell_type": "code",
   "execution_count": null,
   "id": "d1ab4189-b681-4821-a605-4d6fadfd701c",
   "metadata": {},
   "outputs": [],
   "source": [
    "from selenium import webdriver\n",
    "from selenium.webdriver.common.keys import Keys\n",
    "from bs4 import BeautifulSoup\n",
    "from colorama import Fore, Back, Style\n",
    "import csv\n",
    "import os\n",
    "import pandas as pd\n",
    "import re\n",
    "import requests\n",
    "import sys\n",
    "import time\n",
    "import urllib.parse\n",
    "from IPython.display import clear_output\n",
    "from przona import *\n",
    "\n",
    "dummy = csv.field_size_limit(sys.maxsize)"
   ]
  },
  {
   "cell_type": "code",
   "execution_count": null,
   "id": "0a4bcf1b-e81d-4aec-8b5d-241eb1702e18",
   "metadata": {},
   "outputs": [],
   "source": [
    "def squeal(text=None):\n",
    "    clear_output(wait=True)\n",
    "    if not text is None: print(text)"
   ]
  },
  {
   "cell_type": "code",
   "execution_count": null,
   "id": "411272a5-9a32-4162-9861-4d9404d607e1",
   "metadata": {},
   "outputs": [],
   "source": [
    "def store_content(local_file_name, page_source):\n",
    "    local_file_name_parts = local_file_name.split(\"/\")\n",
    "    for i in range(1, len(local_file_name_parts)):\n",
    "        if not os.path.isdir(\"/\".join(local_file_name_parts[0: i])):\n",
    "            os.mkdir(\"/\".join(local_file_name_parts[0: i]))\n",
    "    local_file = open(local_file_name, \"w\")\n",
    "    print(page_source, file=local_file)\n",
    "    local_file.close()"
   ]
  },
  {
   "cell_type": "code",
   "execution_count": null,
   "id": "7b3b6be6-66e9-4b79-b00a-d79367d7a58d",
   "metadata": {},
   "outputs": [],
   "source": [
    "def make_local_file_name(website, remote_file_name):\n",
    "    base_dir_name = f\"../data/{'.'.join(website.split('.')[-2:])}\"\n",
    "    remote_file_parts = remote_file_name.split(\"/\")\n",
    "    if re.search(r'\\.html$', remote_file_name):\n",
    "        dir_name = \"/\".join(remote_file_parts[:-1])\n",
    "        file_name = remote_file_parts[-1]\n",
    "    else:\n",
    "        dir_name = remote_file_name\n",
    "        file_name = \"index.html\"\n",
    "    dir_name = re.sub(\"^/*\", \"\", dir_name)\n",
    "    local_dir_name = os.path.join(base_dir_name, dir_name)\n",
    "    local_file_name = os.path.join(local_dir_name, file_name)\n",
    "    return local_file_name"
   ]
  },
  {
   "cell_type": "code",
   "execution_count": null,
   "id": "09659889-7506-4ced-8329-037d8f2bf62e",
   "metadata": {},
   "outputs": [],
   "source": [
    "def get_page_links(page_source, patterns=[]):\n",
    "    page_links = []\n",
    "    for a in BeautifulSoup(page_source, \"html.parser\").select('a'):\n",
    "        try:\n",
    "            href = a.get(\"href\")\n",
    "            for pattern in patterns:\n",
    "                if re.search(pattern, href):\n",
    "                    page_links.append(href)\n",
    "                    break\n",
    "        except TypeError:\n",
    "            pass\n",
    "    return(page_links)"
   ]
  },
  {
   "cell_type": "code",
   "execution_count": null,
   "id": "5b4c193e-d8e9-4249-98bd-468b4d7e2cd8",
   "metadata": {},
   "outputs": [],
   "source": [
    "def get_web_page(website, remote_file_name):\n",
    "    url = website + remote_file_name\n",
    "    squeal(f\"fetching {url}\")\n",
    "    assert re.search(r\"^https://\", url), f\"get_web_page: url has unexpected format: {url}\"\n",
    "    time.sleep(1)\n",
    "    try:\n",
    "        driver = webdriver.Firefox()\n",
    "        driver.get(\"https://www.ggzstandaarden.nl\")\n",
    "        time.sleep(5)\n",
    "        page_source = driver.page_source\n",
    "        driver.quit()\n",
    "    except Exception as e:\n",
    "        print(f\"web scraper error for page {url}: {str(e)}\")\n",
    "        page_source = \"\"\n",
    "    return page_source"
   ]
  },
  {
   "cell_type": "code",
   "execution_count": null,
   "id": "cf5068f7-a498-45d3-ac7c-2d3e26522d19",
   "metadata": {},
   "outputs": [],
   "source": [
    "def get_web_pages(website, remote_file_name, patterns=[], processed_urls=[]):\n",
    "    if remote_file_name != \"\" and not re.search(\"/.*/.*/\", remote_file_name):\n",
    "        remote_file_name += \"/introductie\"\n",
    "    if remote_file_name in processed_urls or re.search(r'\\.pdf$', remote_file_name) or re.search(r'\\?', remote_file_name):\n",
    "        return\n",
    "    local_file_name = make_local_file_name(website, remote_file_name)\n",
    "    if os.path.isfile(local_file_name) and not re.search(\"index.html$\", local_file_name):\n",
    "        processed_urls[remote_file_name] = \"\"\n",
    "        return\n",
    "    processed_urls[remote_file_name] = get_web_page(website, remote_file_name)\n",
    "    store_content(local_file_name, processed_urls[remote_file_name])\n",
    "    page_links = get_page_links(processed_urls[remote_file_name], patterns)\n",
    "    for page_link in sorted(page_links):\n",
    "        get_web_pages(website, page_link, patterns, processed_urls)\n",
    "        break\n",
    "    return"
   ]
  },
  {
   "cell_type": "code",
   "execution_count": null,
   "id": "0ebc95ad-2573-41d1-a73f-20febc5d7138",
   "metadata": {},
   "outputs": [],
   "source": [
    "url = \"https://www.ggzstandaarden.nl\"\n",
    "patterns = [\"^/generieke-modules/\", \"^/richtlijnen/\", \"^/zorgstandaarden/\",]\n",
    "\n",
    "processed_urls = {}\n",
    "get_web_pages(url, \"\", patterns, processed_urls)\n",
    "len(processed_urls)"
   ]
  },
  {
   "cell_type": "code",
   "execution_count": null,
   "id": "d7c8abdc-4d13-46e2-ba81-689edbdd3c93",
   "metadata": {},
   "outputs": [],
   "source": []
  }
 ],
 "metadata": {
  "kernelspec": {
   "display_name": "python37",
   "language": "python",
   "name": "python37"
  },
  "language_info": {
   "codemirror_mode": {
    "name": "ipython",
    "version": 3
   },
   "file_extension": ".py",
   "mimetype": "text/x-python",
   "name": "python",
   "nbconvert_exporter": "python",
   "pygments_lexer": "ipython3",
   "version": "3.7.3"
  }
 },
 "nbformat": 4,
 "nbformat_minor": 5
}
